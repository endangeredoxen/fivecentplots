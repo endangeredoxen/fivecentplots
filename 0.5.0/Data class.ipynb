{
 "cells": [
  {
   "cell_type": "markdown",
   "metadata": {},
   "source": [
    "# Data class tests"
   ]
  },
  {
   "cell_type": "markdown",
   "metadata": {},
   "source": [
    "## Setup"
   ]
  },
  {
   "cell_type": "code",
   "execution_count": null,
   "metadata": {
    "collapsed": true
   },
   "outputs": [],
   "source": [
    "__author__    = 'Steve Nicholes'\n",
    "__copyright__ = 'Copyright (C) 2017 Steve Nicholes'\n",
    "__license__   = 'GPL v3'\n",
    "__version__   = '0.1.0'"
   ]
  },
  {
   "cell_type": "code",
   "execution_count": 1,
   "metadata": {
    "collapsed": false
   },
   "outputs": [],
   "source": [
    "# Imports\n",
    "%load_ext autoreload\n",
    "%autoreload 2\n",
    "import sys\n",
    "sys.path = [r'C:\\GitHub\\fivecentplots'] + sys.path\n",
    "import fivecentplots as fcp\n",
    "import pandas as pd\n",
    "import numpy as np\n",
    "import os, sys, pdb\n",
    "%matplotlib inline\n",
    "import matplotlib.pyplot as mpl\n",
    "\n",
    "osjoin = os.path.join\n",
    "db = pdb.set_trace"
   ]
  },
  {
   "cell_type": "markdown",
   "metadata": {},
   "source": [
    "## Read sample data"
   ]
  },
  {
   "cell_type": "code",
   "execution_count": 2,
   "metadata": {
    "collapsed": false
   },
   "outputs": [
    {
     "data": {
      "text/html": [
       "<div>\n",
       "<table border=\"1\" class=\"dataframe\">\n",
       "  <thead>\n",
       "    <tr style=\"text-align: right;\">\n",
       "      <th></th>\n",
       "      <th>Substrate</th>\n",
       "      <th>Target Wavelength</th>\n",
       "      <th>Boost Level</th>\n",
       "      <th>Temperature [C]</th>\n",
       "      <th>Die</th>\n",
       "      <th>Voltage</th>\n",
       "      <th>I Base</th>\n",
       "      <th>I [A]</th>\n",
       "    </tr>\n",
       "  </thead>\n",
       "  <tbody>\n",
       "    <tr>\n",
       "      <th>0</th>\n",
       "      <td>Si</td>\n",
       "      <td>450</td>\n",
       "      <td>0.2</td>\n",
       "      <td>25</td>\n",
       "      <td>(1,1)</td>\n",
       "      <td>0.0</td>\n",
       "      <td>0</td>\n",
       "      <td>0</td>\n",
       "    </tr>\n",
       "    <tr>\n",
       "      <th>1</th>\n",
       "      <td>Si</td>\n",
       "      <td>450</td>\n",
       "      <td>0.2</td>\n",
       "      <td>25</td>\n",
       "      <td>(1,1)</td>\n",
       "      <td>0.1</td>\n",
       "      <td>0</td>\n",
       "      <td>0</td>\n",
       "    </tr>\n",
       "    <tr>\n",
       "      <th>2</th>\n",
       "      <td>Si</td>\n",
       "      <td>450</td>\n",
       "      <td>0.2</td>\n",
       "      <td>25</td>\n",
       "      <td>(1,1)</td>\n",
       "      <td>0.2</td>\n",
       "      <td>0</td>\n",
       "      <td>0</td>\n",
       "    </tr>\n",
       "    <tr>\n",
       "      <th>3</th>\n",
       "      <td>Si</td>\n",
       "      <td>450</td>\n",
       "      <td>0.2</td>\n",
       "      <td>25</td>\n",
       "      <td>(1,1)</td>\n",
       "      <td>0.3</td>\n",
       "      <td>0</td>\n",
       "      <td>0</td>\n",
       "    </tr>\n",
       "    <tr>\n",
       "      <th>4</th>\n",
       "      <td>Si</td>\n",
       "      <td>450</td>\n",
       "      <td>0.2</td>\n",
       "      <td>25</td>\n",
       "      <td>(1,1)</td>\n",
       "      <td>0.4</td>\n",
       "      <td>0</td>\n",
       "      <td>0</td>\n",
       "    </tr>\n",
       "  </tbody>\n",
       "</table>\n",
       "</div>"
      ],
      "text/plain": [
       "  Substrate  Target Wavelength  Boost Level  Temperature [C]    Die  Voltage  \\\n",
       "0        Si                450          0.2               25  (1,1)      0.0   \n",
       "1        Si                450          0.2               25  (1,1)      0.1   \n",
       "2        Si                450          0.2               25  (1,1)      0.2   \n",
       "3        Si                450          0.2               25  (1,1)      0.3   \n",
       "4        Si                450          0.2               25  (1,1)      0.4   \n",
       "\n",
       "   I Base  I [A]  \n",
       "0       0      0  \n",
       "1       0      0  \n",
       "2       0      0  \n",
       "3       0      0  \n",
       "4       0      0  "
      ]
     },
     "execution_count": 2,
     "metadata": {},
     "output_type": "execute_result"
    }
   ],
   "source": [
    "df_raw = pd.read_csv(r'C:\\GitHub\\fivecentplots\\fivecentplots\\tests\\fake_data.csv')\n",
    "df_raw.head()"
   ]
  },
  {
   "cell_type": "markdown",
   "metadata": {},
   "source": [
    "## Init class"
   ]
  },
  {
   "cell_type": "code",
   "execution_count": 4,
   "metadata": {
    "collapsed": false
   },
   "outputs": [],
   "source": [
    "df = fcp.Data(df=df_raw, x='Voltage', y='I [A]', fig_items=['InP', 'Si'], fig_groups=['Substrate'], \n",
    "              row='Boost Level', col='Temperature [C]')"
   ]
  },
  {
   "cell_type": "markdown",
   "metadata": {},
   "source": [
    "## get_df_figure iterator"
   ]
  },
  {
   "cell_type": "code",
   "execution_count": 6,
   "metadata": {
    "collapsed": false
   },
   "outputs": [
    {
     "name": "stdout",
     "output_type": "stream",
     "text": [
      "  Substrate  Target Wavelength  Boost Level  Temperature [C]    Die  Voltage  \\\n",
      "0        Si                450          0.2               25  (1,1)      0.0   \n",
      "1        Si                450          0.2               25  (1,1)      0.1   \n",
      "2        Si                450          0.2               25  (1,1)      0.2   \n",
      "3        Si                450          0.2               25  (1,1)      0.3   \n",
      "4        Si                450          0.2               25  (1,1)      0.4   \n",
      "\n",
      "   I Base  I [A]  \n",
      "0       0      0  \n",
      "1       0      0  \n",
      "2       0      0  \n",
      "3       0      0  \n",
      "4       0      0  \n"
     ]
    }
   ],
   "source": [
    "for i, fig_val, df_fig in df.get_df_figure():\n",
    "    print(df_fig.head())"
   ]
  },
  {
   "cell_type": "code",
   "execution_count": 7,
   "metadata": {
    "collapsed": false
   },
   "outputs": [
    {
     "data": {
      "text/plain": [
       "(array([ 0.2,  0.5,  1. ]), array([25, 75], dtype=int64))"
      ]
     },
     "execution_count": 7,
     "metadata": {},
     "output_type": "execute_result"
    }
   ],
   "source": [
    "df_fig['Boost Level'].unique(), df_fig['Temperature [C]'].unique()"
   ]
  },
  {
   "cell_type": "markdown",
   "metadata": {},
   "source": [
    "## get_rc_subset iterator"
   ]
  },
  {
   "cell_type": "code",
   "execution_count": 10,
   "metadata": {
    "collapsed": false
   },
   "outputs": [
    {
     "name": "stdout",
     "output_type": "stream",
     "text": [
      "0 0   Substrate  Target Wavelength  Boost Level  Temperature [C]    Die  Voltage  \\\n",
      "0        Si                450          0.2               25  (1,1)      0.0   \n",
      "1        Si                450          0.2               25  (1,1)      0.1   \n",
      "2        Si                450          0.2               25  (1,1)      0.2   \n",
      "3        Si                450          0.2               25  (1,1)      0.3   \n",
      "4        Si                450          0.2               25  (1,1)      0.4   \n",
      "\n",
      "   I Base  I [A]  \n",
      "0       0      0  \n",
      "1       0      0  \n",
      "2       0      0  \n",
      "3       0      0  \n",
      "4       0      0  \n",
      "0 1     Substrate  Target Wavelength  Boost Level  Temperature [C]    Die  \\\n",
      "153        Si                450          0.2               75  (1,1)   \n",
      "154        Si                450          0.2               75  (1,1)   \n",
      "155        Si                450          0.2               75  (1,1)   \n",
      "156        Si                450          0.2               75  (1,1)   \n",
      "157        Si                450          0.2               75  (1,1)   \n",
      "\n",
      "     Voltage  I Base  I [A]  \n",
      "153      0.0       0      0  \n",
      "154      0.2       0      0  \n",
      "155      0.4       0      0  \n",
      "156      0.6       0      0  \n",
      "157      0.8       0      0  \n",
      "1 0    Substrate  Target Wavelength  Boost Level  Temperature [C]    Die  Voltage  \\\n",
      "51        Si                450          0.5               25  (1,1)      0.0   \n",
      "52        Si                450          0.5               25  (1,1)      0.1   \n",
      "53        Si                450          0.5               25  (1,1)      0.2   \n",
      "54        Si                450          0.5               25  (1,1)      0.3   \n",
      "55        Si                450          0.5               25  (1,1)      0.4   \n",
      "\n",
      "    I Base  I [A]  \n",
      "51       0      0  \n",
      "52       0      0  \n",
      "53       0      0  \n",
      "54       0      0  \n",
      "55       0      0  \n",
      "1 1     Substrate  Target Wavelength  Boost Level  Temperature [C]    Die  \\\n",
      "204        Si                450          0.5               75  (1,1)   \n",
      "205        Si                450          0.5               75  (1,1)   \n",
      "206        Si                450          0.5               75  (1,1)   \n",
      "207        Si                450          0.5               75  (1,1)   \n",
      "208        Si                450          0.5               75  (1,1)   \n",
      "\n",
      "     Voltage  I Base  I [A]  \n",
      "204      0.0       0      0  \n",
      "205      0.1       0      0  \n",
      "206      0.2       0      0  \n",
      "207      0.3       0      0  \n",
      "208      0.4       0      0  \n",
      "2 0     Substrate  Target Wavelength  Boost Level  Temperature [C]    Die  \\\n",
      "102        Si                450            1               25  (1,1)   \n",
      "103        Si                450            1               25  (1,1)   \n",
      "104        Si                450            1               25  (1,1)   \n",
      "105        Si                450            1               25  (1,1)   \n",
      "106        Si                450            1               25  (1,1)   \n",
      "\n",
      "     Voltage  I Base  I [A]  \n",
      "102      0.0       0      0  \n",
      "103      0.1       0      0  \n",
      "104      0.2       0      0  \n",
      "105      0.3       0      0  \n",
      "106      0.4       0      0  \n",
      "2 1     Substrate  Target Wavelength  Boost Level  Temperature [C]    Die  \\\n",
      "255        Si                450            1               75  (1,1)   \n",
      "256        Si                450            1               75  (1,1)   \n",
      "257        Si                450            1               75  (1,1)   \n",
      "258        Si                450            1               75  (1,1)   \n",
      "259        Si                450            1               75  (1,1)   \n",
      "\n",
      "     Voltage  I Base  I [A]  \n",
      "255      0.0       0      0  \n",
      "256      0.1       0      0  \n",
      "257      0.2       0      0  \n",
      "258      0.3       0      0  \n",
      "259      0.4       0      0  \n"
     ]
    }
   ],
   "source": [
    "for ir, ic, df_sub in df.get_rc_subset(df_fig):\n",
    "    print(ir, ic, df_sub.head())"
   ]
  },
  {
   "cell_type": "code",
   "execution_count": null,
   "metadata": {
    "collapsed": true
   },
   "outputs": [],
   "source": []
  }
 ],
 "metadata": {
  "kernelspec": {
   "display_name": "Python 3",
   "language": "python",
   "name": "python3"
  },
  "language_info": {
   "codemirror_mode": {
    "name": "ipython",
    "version": 3
   },
   "file_extension": ".py",
   "mimetype": "text/x-python",
   "name": "python",
   "nbconvert_exporter": "python",
   "pygments_lexer": "ipython3",
   "version": "3.5.1"
  },
  "toc": {
   "nav_menu": {},
   "number_sections": true,
   "sideBar": true,
   "skip_h1_title": false,
   "toc_cell": false,
   "toc_position": {},
   "toc_section_display": "block",
   "toc_window_display": true
  }
 },
 "nbformat": 4,
 "nbformat_minor": 0
}
