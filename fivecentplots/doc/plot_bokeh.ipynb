{
 "cells": [
  {
   "cell_type": "markdown",
   "metadata": {},
   "source": [
    "# <b>plot bokeh</b>"
   ]
  },
  {
   "cell_type": "markdown",
   "metadata": {},
   "source": [
    "The `plot` function is the primary vehicle for visualizing x-y data.  At a minimum, the `plot` function requires the following keywords:\n",
    "<ul>\n",
    "<li> `df`: a pandas DataFrame</li>\n",
    "<li> `x`: the name of the DataFrame column containing the x-axis data </li>\n",
    "<li> `y`: the name of the DataFrame column containing the y-axis data </li>\n",
    "</ul>\n",
    "\n",
    "Other optional keywords are described in <a href=\"https://endangeredoxen.github.io/fivecentplots/keyword.html\">Keyword Arguments</a>."
   ]
  },
  {
   "cell_type": "markdown",
   "metadata": {},
   "source": [
    "## Setup"
   ]
  },
  {
   "cell_type": "markdown",
   "metadata": {},
   "source": [
    "### Imports"
   ]
  },
  {
   "cell_type": "code",
   "execution_count": 1,
   "metadata": {},
   "outputs": [],
   "source": [
    "%load_ext autoreload\n",
    "%autoreload 2\n",
    "%matplotlib inline\n",
    "import fivecentplots as fcp\n",
    "import pandas as pd\n",
    "import numpy as np\n",
    "import os, sys, pdb\n",
    "osjoin = os.path.join\n",
    "db = pdb.set_trace"
   ]
  },
  {
   "cell_type": "markdown",
   "metadata": {},
   "source": [
    "### Sample data"
   ]
  },
  {
   "cell_type": "code",
   "execution_count": 2,
   "metadata": {},
   "outputs": [
    {
     "data": {
      "text/html": [
       "<div>\n",
       "<style scoped>\n",
       "    .dataframe tbody tr th:only-of-type {\n",
       "        vertical-align: middle;\n",
       "    }\n",
       "\n",
       "    .dataframe tbody tr th {\n",
       "        vertical-align: top;\n",
       "    }\n",
       "\n",
       "    .dataframe thead th {\n",
       "        text-align: right;\n",
       "    }\n",
       "</style>\n",
       "<table border=\"1\" class=\"dataframe\">\n",
       "  <thead>\n",
       "    <tr style=\"text-align: right;\">\n",
       "      <th></th>\n",
       "      <th>Substrate</th>\n",
       "      <th>Target Wavelength</th>\n",
       "      <th>Boost Level</th>\n",
       "      <th>Temperature [C]</th>\n",
       "      <th>Die</th>\n",
       "      <th>Voltage</th>\n",
       "      <th>I Set</th>\n",
       "      <th>I [A]</th>\n",
       "    </tr>\n",
       "  </thead>\n",
       "  <tbody>\n",
       "    <tr>\n",
       "      <th>0</th>\n",
       "      <td>Si</td>\n",
       "      <td>450</td>\n",
       "      <td>0.2</td>\n",
       "      <td>25</td>\n",
       "      <td>(1,1)</td>\n",
       "      <td>0.0</td>\n",
       "      <td>0.0</td>\n",
       "      <td>0.0</td>\n",
       "    </tr>\n",
       "    <tr>\n",
       "      <th>1</th>\n",
       "      <td>Si</td>\n",
       "      <td>450</td>\n",
       "      <td>0.2</td>\n",
       "      <td>25</td>\n",
       "      <td>(1,1)</td>\n",
       "      <td>0.1</td>\n",
       "      <td>0.0</td>\n",
       "      <td>0.0</td>\n",
       "    </tr>\n",
       "    <tr>\n",
       "      <th>2</th>\n",
       "      <td>Si</td>\n",
       "      <td>450</td>\n",
       "      <td>0.2</td>\n",
       "      <td>25</td>\n",
       "      <td>(1,1)</td>\n",
       "      <td>0.2</td>\n",
       "      <td>0.0</td>\n",
       "      <td>0.0</td>\n",
       "    </tr>\n",
       "    <tr>\n",
       "      <th>3</th>\n",
       "      <td>Si</td>\n",
       "      <td>450</td>\n",
       "      <td>0.2</td>\n",
       "      <td>25</td>\n",
       "      <td>(1,1)</td>\n",
       "      <td>0.3</td>\n",
       "      <td>0.0</td>\n",
       "      <td>0.0</td>\n",
       "    </tr>\n",
       "    <tr>\n",
       "      <th>4</th>\n",
       "      <td>Si</td>\n",
       "      <td>450</td>\n",
       "      <td>0.2</td>\n",
       "      <td>25</td>\n",
       "      <td>(1,1)</td>\n",
       "      <td>0.4</td>\n",
       "      <td>0.0</td>\n",
       "      <td>0.0</td>\n",
       "    </tr>\n",
       "  </tbody>\n",
       "</table>\n",
       "</div>"
      ],
      "text/plain": [
       "  Substrate  Target Wavelength  Boost Level  Temperature [C]    Die  Voltage  \\\n",
       "0        Si                450          0.2               25  (1,1)      0.0   \n",
       "1        Si                450          0.2               25  (1,1)      0.1   \n",
       "2        Si                450          0.2               25  (1,1)      0.2   \n",
       "3        Si                450          0.2               25  (1,1)      0.3   \n",
       "4        Si                450          0.2               25  (1,1)      0.4   \n",
       "\n",
       "   I Set  I [A]  \n",
       "0    0.0    0.0  \n",
       "1    0.0    0.0  \n",
       "2    0.0    0.0  \n",
       "3    0.0    0.0  \n",
       "4    0.0    0.0  "
      ]
     },
     "execution_count": 2,
     "metadata": {},
     "output_type": "execute_result"
    }
   ],
   "source": [
    "df = pd.read_csv(osjoin(os.path.dirname(fcp.__file__), 'tests', 'fake_data.csv'))\n",
    "df.head()"
   ]
  },
  {
   "cell_type": "code",
   "execution_count": 3,
   "metadata": {},
   "outputs": [],
   "source": [
    "ts = pd.read_csv(osjoin(os.path.dirname(fcp.__file__), 'tests', 'fake_ts.csv'))"
   ]
  },
  {
   "cell_type": "markdown",
   "metadata": {},
   "source": [
    "### Set theme"
   ]
  },
  {
   "cell_type": "markdown",
   "metadata": {},
   "source": [
    "(Only needs to be run once)"
   ]
  },
  {
   "cell_type": "code",
   "execution_count": 175,
   "metadata": {},
   "outputs": [
    {
     "name": "stdout",
     "output_type": "stream",
     "text": [
      "Previous theme file found! Renaming to \"defaults_old.py\" and copying new theme...done!\n"
     ]
    }
   ],
   "source": [
    "fcp.set_theme('gray_bokeh')\n",
    "#fcp.set_theme('white')"
   ]
  },
  {
   "cell_type": "markdown",
   "metadata": {},
   "source": [
    "### Other"
   ]
  },
  {
   "cell_type": "code",
   "execution_count": 178,
   "metadata": {},
   "outputs": [],
   "source": [
    "SHOW = False"
   ]
  },
  {
   "cell_type": "markdown",
   "metadata": {},
   "source": [
    "## XY Plots"
   ]
  },
  {
   "cell_type": "markdown",
   "metadata": {},
   "source": [
    "### Scatter"
   ]
  },
  {
   "cell_type": "markdown",
   "metadata": {},
   "source": [
    "A simple XY plot with no lines or legend"
   ]
  },
  {
   "cell_type": "code",
   "execution_count": 290,
   "metadata": {
    "scrolled": false
   },
   "outputs": [
    {
     "data": {
      "text/html": [
       "\n",
       "\n",
       "\n",
       "\n",
       "<!DOCTYPE html>\n",
       "<html lang=\"en\">\n",
       "  \n",
       "  <head>\n",
       "    \n",
       "      <meta charset=\"utf-8\">\n",
       "      <title>Bokeh Plot</title>\n",
       "      \n",
       "      \n",
       "        \n",
       "          \n",
       "        <link rel=\"stylesheet\" href=\"https://cdn.pydata.org/bokeh/release/bokeh-1.1.0.min.css\" type=\"text/css\" />\n",
       "        \n",
       "        \n",
       "          \n",
       "        <script type=\"text/javascript\" src=\"https://cdn.pydata.org/bokeh/release/bokeh-1.1.0.min.js\"></script>\n",
       "        <script type=\"text/javascript\">\n",
       "            Bokeh.set_log_level(\"info\");\n",
       "        </script>\n",
       "        \n",
       "      \n",
       "      \n",
       "    \n",
       "  </head>\n",
       "  \n",
       "  \n",
       "  <body>\n",
       "    \n",
       "      \n",
       "        \n",
       "          \n",
       "          \n",
       "            \n",
       "              <div class=\"bk-root\" id=\"b959ae96-3421-4e1a-9096-032297cbccd7\" data-root-id=\"49234\"></div>\n",
       "            \n",
       "          \n",
       "        \n",
       "      \n",
       "      \n",
       "        <script type=\"application/json\" id=\"49316\">\n",
       "          {\"f6bc3c98-332e-4907-930b-d0445cf0b67b\":{\"roots\":{\"references\":[{\"attributes\":{\"grid_line_color\":{\"value\":\"#ffffff\"},\"grid_line_width\":{\"value\":1.3},\"minor_grid_line_width\":{\"value\":0.5},\"ticker\":{\"id\":\"49188\",\"type\":\"BasicTicker\"}},\"id\":\"49191\",\"type\":\"Grid\"},{\"attributes\":{\"callback\":null,\"end\":1.6800000000000002},\"id\":\"49216\",\"type\":\"Range1d\"},{\"attributes\":{\"toolbar\":{\"id\":\"49232\",\"type\":\"ProxyToolbar\"},\"toolbar_location\":\"above\"},\"id\":\"49233\",\"type\":\"ToolbarBox\"},{\"attributes\":{},\"id\":\"49198\",\"type\":\"WheelZoomTool\"},{\"attributes\":{\"overlay\":{\"id\":\"49227\",\"type\":\"BoxAnnotation\"}},\"id\":\"49199\",\"type\":\"BoxZoomTool\"},{\"attributes\":{},\"id\":\"49202\",\"type\":\"HelpTool\"},{\"attributes\":{},\"id\":\"49228\",\"type\":\"UnionRenderers\"},{\"attributes\":{\"data_source\":{\"id\":\"49210\",\"type\":\"ColumnDataSource\"},\"glyph\":{\"id\":\"49211\",\"type\":\"Circle\"},\"hover_glyph\":null,\"muted_glyph\":null,\"nonselection_glyph\":{\"id\":\"49212\",\"type\":\"Circle\"},\"selection_glyph\":null,\"view\":{\"id\":\"49214\",\"type\":\"CDSView\"}},\"id\":\"49213\",\"type\":\"GlyphRenderer\"},{\"attributes\":{},\"id\":\"49226\",\"type\":\"BasicTickFormatter\"},{\"attributes\":{\"bottom_units\":\"screen\",\"fill_alpha\":{\"value\":0.5},\"fill_color\":{\"value\":\"lightgrey\"},\"left_units\":\"screen\",\"level\":\"overlay\",\"line_alpha\":{\"value\":1.0},\"line_color\":{\"value\":\"black\"},\"line_dash\":[4,4],\"line_width\":{\"value\":2},\"render_mode\":\"css\",\"right_units\":\"screen\",\"top_units\":\"screen\"},\"id\":\"49227\",\"type\":\"BoxAnnotation\"},{\"attributes\":{},\"id\":\"49183\",\"type\":\"LinearScale\"},{\"attributes\":{\"callback\":null,\"data\":{\"x\":{\"__ndarray__\":\"AAAAAAAAAACamZmZmZm5P5qZmZmZmck/MzMzMzMz0z+amZmZmZnZPwAAAAAAAOA/MzMzMzMz4z9mZmZmZmbmP5qZmZmZmek/zczMzMzM7D8AAAAAAADwP5qZmZmZmfE/MzMzMzMz8z/NzMzMzMz0P2ZmZmZmZvY/AAAAAAAA+D+amZmZmZn5PwAAAAAAAAAAmpmZmZmZuT+amZmZmZnJPzMzMzMzM9M/mpmZmZmZ2T8AAAAAAADgPzMzMzMzM+M/ZmZmZmZm5j+amZmZmZnpP83MzMzMzOw/AAAAAAAA8D+amZmZmZnxPzMzMzMzM/M/zczMzMzM9D9mZmZmZmb2PwAAAAAAAPg/mpmZmZmZ+T8AAAAAAAAAAJqZmZmZmbk/mpmZmZmZyT8zMzMzMzPTP5qZmZmZmdk/AAAAAAAA4D8zMzMzMzPjP2ZmZmZmZuY/mpmZmZmZ6T/NzMzMzMzsPwAAAAAAAPA/mpmZmZmZ8T8zMzMzMzPzP83MzMzMzPQ/ZmZmZmZm9j8AAAAAAAD4P5qZmZmZmfk/\",\"dtype\":\"float64\",\"shape\":[51]},\"y\":{\"__ndarray__\":\"AAAAAAAAAAAAAAAAAAAAAAAAAAAAAAAAAAAAAAAAAAAAAAAAAAAAAAAAAAAAAAAAAAAAAAAAAAAAAAAAAAAAAAAAAAAAAAAAAAAAAAAAAAD8qfHSTWJQP3jpJjEIrHw/Gy/dJAaBlT+yne+nxku3P39qvHSTGNQ/N4lBYOXQ5j8/NV66SQz0PwAAAAAAAAAAAAAAAAAAAAAAAAAAAAAAAAAAAAAAAAAAAAAAAAAAAAAAAAAAAAAAAAAAAAAAAAAAAAAAAAAAAAAAAAAAAAAAAAAAAAAAAAAA/Knx0k1iYD946SYxCKyMP3sUrkfheqQ/CtejcD0Kxz8pXI/C9SjkPzMzMzMzM/M/xks3iUFg8z8AAAAAAAAAAAAAAAAAAAAAAAAAAAAAAAAAAAAAAAAAAAAAAAAAAAAAAAAAAAAAAAAAAAAAAAAAAAAAAAAAAAAAAAAAAAAAAAAAAAAAAAAAAPyp8dJNYlA/eOkmMQisfD97FK5H4XqUP1pkO99Pjbc/LbKd76fG0z8xCKwcWmTnPxSuR+F6FPQ/\",\"dtype\":\"float64\",\"shape\":[51]}},\"selected\":{\"id\":\"49229\",\"type\":\"Selection\"},\"selection_policy\":{\"id\":\"49228\",\"type\":\"UnionRenderers\"}},\"id\":\"49210\",\"type\":\"ColumnDataSource\"},{\"attributes\":{\"children\":[[{\"id\":\"49178\",\"subtype\":\"Figure\",\"type\":\"Plot\"},0,0]]},\"id\":\"49231\",\"type\":\"GridBox\"},{\"attributes\":{\"dimension\":1,\"grid_line_color\":{\"value\":\"#ffffff\"},\"grid_line_width\":{\"value\":1.3},\"minor_grid_line_width\":{\"value\":0.5},\"ticker\":{\"id\":\"49193\",\"type\":\"BasicTicker\"}},\"id\":\"49196\",\"type\":\"Grid\"},{\"attributes\":{},\"id\":\"49200\",\"type\":\"SaveTool\"},{\"attributes\":{},\"id\":\"49185\",\"type\":\"LinearScale\"},{\"attributes\":{},\"id\":\"49224\",\"type\":\"BasicTickFormatter\"},{\"attributes\":{\"axis_label\":\"Voltage\",\"axis_label_text_color\":{\"value\":\"#000000\"},\"axis_label_text_font\":\"sans-serif\",\"axis_label_text_font_size\":{\"value\":\"14pt\"},\"formatter\":{\"id\":\"49224\",\"type\":\"BasicTickFormatter\"},\"major_label_text_font_size\":{\"value\":\"13pt\"},\"ticker\":{\"id\":\"49188\",\"type\":\"BasicTicker\"}},\"id\":\"49187\",\"type\":\"LinearAxis\"},{\"attributes\":{\"active_drag\":\"auto\",\"active_inspect\":\"auto\",\"active_multi\":null,\"active_scroll\":\"auto\",\"active_tap\":\"auto\",\"tools\":[{\"id\":\"49197\",\"type\":\"PanTool\"},{\"id\":\"49198\",\"type\":\"WheelZoomTool\"},{\"id\":\"49199\",\"type\":\"BoxZoomTool\"},{\"id\":\"49200\",\"type\":\"SaveTool\"},{\"id\":\"49201\",\"type\":\"ResetTool\"},{\"id\":\"49202\",\"type\":\"HelpTool\"}]},\"id\":\"49203\",\"type\":\"Toolbar\"},{\"attributes\":{\"source\":{\"id\":\"49210\",\"type\":\"ColumnDataSource\"}},\"id\":\"49214\",\"type\":\"CDSView\"},{\"attributes\":{\"tools\":[{\"id\":\"49197\",\"type\":\"PanTool\"},{\"id\":\"49198\",\"type\":\"WheelZoomTool\"},{\"id\":\"49199\",\"type\":\"BoxZoomTool\"},{\"id\":\"49200\",\"type\":\"SaveTool\"},{\"id\":\"49201\",\"type\":\"ResetTool\"},{\"id\":\"49202\",\"type\":\"HelpTool\"}]},\"id\":\"49232\",\"type\":\"ProxyToolbar\"},{\"attributes\":{\"background_fill_color\":{\"value\":\"#eaeaea\"},\"below\":[{\"id\":\"49187\",\"type\":\"LinearAxis\"}],\"center\":[{\"id\":\"49191\",\"type\":\"Grid\"},{\"id\":\"49196\",\"type\":\"Grid\"}],\"left\":[{\"id\":\"49192\",\"type\":\"LinearAxis\"}],\"plot_height\":498,\"plot_width\":468,\"renderers\":[{\"id\":\"49213\",\"type\":\"GlyphRenderer\"}],\"title\":{\"id\":\"49219\",\"type\":\"Title\"},\"toolbar\":{\"id\":\"49203\",\"type\":\"Toolbar\"},\"toolbar_location\":null,\"x_range\":{\"id\":\"49216\",\"type\":\"Range1d\"},\"x_scale\":{\"id\":\"49183\",\"type\":\"LinearScale\"},\"y_range\":{\"id\":\"49218\",\"type\":\"Range1d\"},\"y_scale\":{\"id\":\"49185\",\"type\":\"LinearScale\"}},\"id\":\"49178\",\"subtype\":\"Figure\",\"type\":\"Plot\"},{\"attributes\":{\"fill_alpha\":{\"value\":0.1},\"fill_color\":{\"value\":\"#1f77b4\"},\"line_alpha\":{\"value\":0.1},\"line_color\":{\"value\":\"#1f77b4\"},\"size\":{\"units\":\"screen\",\"value\":9},\"x\":{\"field\":\"x\"},\"y\":{\"field\":\"y\"}},\"id\":\"49212\",\"type\":\"Circle\"},{\"attributes\":{},\"id\":\"49201\",\"type\":\"ResetTool\"},{\"attributes\":{\"fill_color\":{\"value\":null},\"line_color\":{\"value\":\"#4b72b0\"},\"size\":{\"units\":\"screen\",\"value\":9},\"x\":{\"field\":\"x\"},\"y\":{\"field\":\"y\"}},\"id\":\"49211\",\"type\":\"Circle\"},{\"attributes\":{\"callback\":null,\"end\":1.31775},\"id\":\"49218\",\"type\":\"Range1d\"},{\"attributes\":{},\"id\":\"49193\",\"type\":\"BasicTicker\"},{\"attributes\":{\"axis_label\":\"I [A]\",\"axis_label_text_color\":{\"value\":\"#000000\"},\"axis_label_text_font\":\"sans-serif\",\"axis_label_text_font_size\":{\"value\":\"14pt\"},\"formatter\":{\"id\":\"49226\",\"type\":\"BasicTickFormatter\"},\"major_label_text_font_size\":{\"value\":\"13pt\"},\"ticker\":{\"id\":\"49193\",\"type\":\"BasicTicker\"}},\"id\":\"49192\",\"type\":\"LinearAxis\"},{\"attributes\":{},\"id\":\"49229\",\"type\":\"Selection\"},{\"attributes\":{},\"id\":\"49197\",\"type\":\"PanTool\"},{\"attributes\":{\"children\":[{\"id\":\"49233\",\"type\":\"ToolbarBox\"},{\"id\":\"49231\",\"type\":\"GridBox\"}]},\"id\":\"49234\",\"type\":\"Column\"},{\"attributes\":{},\"id\":\"49188\",\"type\":\"BasicTicker\"},{\"attributes\":{\"align\":\"center\",\"background_fill_color\":{\"value\":\"#ffffff\"},\"text\":\"IV Data\",\"text_color\":{\"value\":\"#333333\"},\"text_font_size\":{\"value\":\"18pt\"}},\"id\":\"49219\",\"type\":\"Title\"}],\"root_ids\":[\"49234\"]},\"title\":\"Bokeh Application\",\"version\":\"1.1.0\"}}\n",
       "        </script>\n",
       "        <script type=\"text/javascript\">\n",
       "          (function() {\n",
       "            var fn = function() {\n",
       "              Bokeh.safely(function() {\n",
       "                (function(root) {\n",
       "                  function embed_document(root) {\n",
       "                    \n",
       "                  var docs_json = document.getElementById('49316').textContent;\n",
       "                  var render_items = [{\"docid\":\"f6bc3c98-332e-4907-930b-d0445cf0b67b\",\"roots\":{\"49234\":\"b959ae96-3421-4e1a-9096-032297cbccd7\"}}];\n",
       "                  root.Bokeh.embed.embed_items(docs_json, render_items);\n",
       "                \n",
       "                  }\n",
       "                  if (root.Bokeh !== undefined) {\n",
       "                    embed_document(root);\n",
       "                  } else {\n",
       "                    var attempts = 0;\n",
       "                    var timer = setInterval(function(root) {\n",
       "                      if (root.Bokeh !== undefined) {\n",
       "                        embed_document(root);\n",
       "                        clearInterval(timer);\n",
       "                      }\n",
       "                      attempts++;\n",
       "                      if (attempts > 100) {\n",
       "                        console.log(\"Bokeh: ERROR: Unable to run BokehJS code because BokehJS library is missing\");\n",
       "                        clearInterval(timer);\n",
       "                      }\n",
       "                    }, 10, root)\n",
       "                  }\n",
       "                })(window);\n",
       "              });\n",
       "            };\n",
       "            if (document.readyState != \"loading\") fn();\n",
       "            else document.addEventListener(\"DOMContentLoaded\", fn);\n",
       "          })();\n",
       "        </script>\n",
       "    \n",
       "  </body>\n",
       "  \n",
       "</html>"
      ],
      "text/plain": [
       "<IPython.core.display.HTML object>"
      ]
     },
     "execution_count": 290,
     "metadata": {},
     "output_type": "execute_result"
    }
   ],
   "source": [
    "fcp.plot(df, x='Voltage', y='I [A]', title='IV Data', lines=False, show=SHOW, inline=True, ax_size=[400, 400],\n",
    "         filter='Substrate==\"Si\" & Target Wavelength==450 & Boost Level==0.2 & Temperature [C]==25')"
   ]
  },
  {
   "cell_type": "markdown",
   "metadata": {},
   "source": [
    "### Legend"
   ]
  },
  {
   "cell_type": "markdown",
   "metadata": {},
   "source": [
    "Add a legend by the column \"Die\""
   ]
  },
  {
   "cell_type": "code",
   "execution_count": 177,
   "metadata": {},
   "outputs": [
    {
     "data": {
      "text/html": [
       "\n",
       "\n",
       "\n",
       "\n",
       "<!DOCTYPE html>\n",
       "<html lang=\"en\">\n",
       "  \n",
       "  <head>\n",
       "    \n",
       "      <meta charset=\"utf-8\">\n",
       "      <title>Bokeh Plot</title>\n",
       "      \n",
       "      \n",
       "        \n",
       "          \n",
       "        <link rel=\"stylesheet\" href=\"https://cdn.pydata.org/bokeh/release/bokeh-1.1.0.min.css\" type=\"text/css\" />\n",
       "        \n",
       "        \n",
       "          \n",
       "        <script type=\"text/javascript\" src=\"https://cdn.pydata.org/bokeh/release/bokeh-1.1.0.min.js\"></script>\n",
       "        <script type=\"text/javascript\">\n",
       "            Bokeh.set_log_level(\"info\");\n",
       "        </script>\n",
       "        \n",
       "      \n",
       "      \n",
       "    \n",
       "  </head>\n",
       "  \n",
       "  \n",
       "  <body>\n",
       "    \n",
       "      \n",
       "        \n",
       "          \n",
       "          \n",
       "            \n",
       "              <div class=\"bk-root\" id=\"ecabd0b1-42db-4104-b3ac-b6dc4d620c2a\" data-root-id=\"5725\"></div>\n",
       "            \n",
       "          \n",
       "        \n",
       "      \n",
       "      \n",
       "        <script type=\"application/json\" id=\"5915\">\n",
       "          {\"e2ca6be3-bd59-43a5-8ab6-98df36b2cd19\":{\"roots\":{\"references\":[{\"attributes\":{\"callback\":null},\"id\":\"5629\",\"type\":\"DataRange1d\"},{\"attributes\":{\"fill_alpha\":{\"value\":0.1},\"fill_color\":{\"value\":\"#1f77b4\"},\"line_alpha\":{\"value\":0.1},\"line_color\":{\"value\":\"#1f77b4\"},\"size\":{\"units\":\"screen\",\"value\":1e-08},\"x\":{\"value\":0},\"y\":{\"value\":0}},\"id\":\"5692\",\"type\":\"Circle\"},{\"attributes\":{\"source\":{\"id\":\"5675\",\"type\":\"ColumnDataSource\"}},\"id\":\"5679\",\"type\":\"CDSView\"},{\"attributes\":{},\"id\":\"5651\",\"type\":\"ResetTool\"},{\"attributes\":{},\"id\":\"5703\",\"type\":\"BasicTickFormatter\"},{\"attributes\":{\"data_source\":{\"id\":\"5665\",\"type\":\"ColumnDataSource\"},\"glyph\":{\"id\":\"5666\",\"type\":\"Line\"},\"hover_glyph\":null,\"muted_glyph\":null,\"nonselection_glyph\":{\"id\":\"5667\",\"type\":\"Line\"},\"selection_glyph\":null,\"view\":{\"id\":\"5669\",\"type\":\"CDSView\"}},\"id\":\"5668\",\"type\":\"GlyphRenderer\"},{\"attributes\":{\"data_source\":{\"id\":\"5690\",\"type\":\"ColumnDataSource\"},\"glyph\":{\"id\":\"5691\",\"type\":\"Circle\"},\"hover_glyph\":null,\"muted_glyph\":null,\"nonselection_glyph\":{\"id\":\"5692\",\"type\":\"Circle\"},\"selection_glyph\":null,\"view\":{\"id\":\"5694\",\"type\":\"CDSView\"}},\"id\":\"5693\",\"type\":\"GlyphRenderer\"},{\"attributes\":{\"label\":{\"value\":\"(-1,2)\"},\"renderers\":[{\"id\":\"5683\",\"type\":\"GlyphRenderer\"},{\"id\":\"5688\",\"type\":\"GlyphRenderer\"}]},\"id\":\"5699\",\"type\":\"LegendItem\"},{\"attributes\":{\"callback\":null},\"id\":\"5631\",\"type\":\"DataRange1d\"},{\"attributes\":{\"dimension\":1,\"grid_line_color\":{\"value\":\"#ffffff\"},\"grid_line_width\":{\"value\":1.3},\"minor_grid_line_width\":{\"value\":0.5},\"ticker\":{\"id\":\"5643\",\"type\":\"BasicTicker\"}},\"id\":\"5646\",\"type\":\"Grid\"},{\"attributes\":{\"line_alpha\":0.1,\"line_color\":\"#1f77b4\",\"x\":{\"field\":\"x\"},\"y\":{\"field\":\"y\"}},\"id\":\"5677\",\"type\":\"Line\"},{\"attributes\":{\"label\":{\"value\":\"Die\"},\"renderers\":[{\"id\":\"5693\",\"type\":\"GlyphRenderer\"}]},\"id\":\"5696\",\"type\":\"LegendItem\"},{\"attributes\":{\"callback\":null,\"data\":{},\"selected\":{\"id\":\"5720\",\"type\":\"Selection\"},\"selection_policy\":{\"id\":\"5719\",\"type\":\"UnionRenderers\"}},\"id\":\"5690\",\"type\":\"ColumnDataSource\"},{\"attributes\":{},\"id\":\"5638\",\"type\":\"BasicTicker\"},{\"attributes\":{\"bottom_units\":\"screen\",\"fill_alpha\":{\"value\":0.5},\"fill_color\":{\"value\":\"lightgrey\"},\"left_units\":\"screen\",\"level\":\"overlay\",\"line_alpha\":{\"value\":1.0},\"line_color\":{\"value\":\"black\"},\"line_dash\":[4,4],\"line_width\":{\"value\":2},\"render_mode\":\"css\",\"right_units\":\"screen\",\"top_units\":\"screen\"},\"id\":\"5706\",\"type\":\"BoxAnnotation\"},{\"attributes\":{},\"id\":\"5635\",\"type\":\"LinearScale\"},{\"attributes\":{\"source\":{\"id\":\"5685\",\"type\":\"ColumnDataSource\"}},\"id\":\"5689\",\"type\":\"CDSView\"},{\"attributes\":{},\"id\":\"5650\",\"type\":\"SaveTool\"},{\"attributes\":{\"callback\":null,\"data\":{\"x\":{\"__ndarray__\":\"AAAAAAAAAACamZmZmZm5P5qZmZmZmck/MzMzMzMz0z+amZmZmZnZPwAAAAAAAOA/MzMzMzMz4z9mZmZmZmbmP5qZmZmZmek/zczMzMzM7D8AAAAAAADwP5qZmZmZmfE/MzMzMzMz8z/NzMzMzMz0P2ZmZmZmZvY/AAAAAAAA+D+amZmZmZn5Pw==\",\"dtype\":\"float64\",\"shape\":[17]},\"y\":{\"__ndarray__\":\"AAAAAAAAAAAAAAAAAAAAAAAAAAAAAAAAAAAAAAAAAAAAAAAAAAAAAAAAAAAAAAAAAAAAAAAAAAAAAAAAAAAAAAAAAAAAAAAAAAAAAAAAAAD8qfHSTWJQP3jpJjEIrHw/exSuR+F6lD9aZDvfT423Py2yne+nxtM/MQisHFpk5z8UrkfhehT0Pw==\",\"dtype\":\"float64\",\"shape\":[17]}},\"selected\":{\"id\":\"5712\",\"type\":\"Selection\"},\"selection_policy\":{\"id\":\"5711\",\"type\":\"UnionRenderers\"}},\"id\":\"5670\",\"type\":\"ColumnDataSource\"},{\"attributes\":{\"source\":{\"id\":\"5660\",\"type\":\"ColumnDataSource\"}},\"id\":\"5664\",\"type\":\"CDSView\"},{\"attributes\":{\"fill_alpha\":{\"value\":0.1},\"fill_color\":{\"value\":\"#1f77b4\"},\"line_alpha\":{\"value\":0.1},\"line_color\":{\"value\":\"#1f77b4\"},\"size\":{\"units\":\"screen\",\"value\":9},\"x\":{\"field\":\"x\"},\"y\":{\"field\":\"y\"}},\"id\":\"5662\",\"type\":\"Circle\"},{\"attributes\":{\"source\":{\"id\":\"5690\",\"type\":\"ColumnDataSource\"}},\"id\":\"5694\",\"type\":\"CDSView\"},{\"attributes\":{\"label\":{\"value\":\"(1,1)\"},\"renderers\":[{\"id\":\"5663\",\"type\":\"GlyphRenderer\"},{\"id\":\"5668\",\"type\":\"GlyphRenderer\"}]},\"id\":\"5697\",\"type\":\"LegendItem\"},{\"attributes\":{\"fill_color\":{\"value\":null},\"line_color\":{\"value\":\"#4b72b0\"},\"size\":{\"units\":\"screen\",\"value\":9},\"x\":{\"field\":\"x\"},\"y\":{\"field\":\"y\"}},\"id\":\"5661\",\"type\":\"Circle\"},{\"attributes\":{\"data_source\":{\"id\":\"5660\",\"type\":\"ColumnDataSource\"},\"glyph\":{\"id\":\"5661\",\"type\":\"Circle\"},\"hover_glyph\":null,\"muted_glyph\":null,\"nonselection_glyph\":{\"id\":\"5662\",\"type\":\"Circle\"},\"selection_glyph\":null,\"view\":{\"id\":\"5664\",\"type\":\"CDSView\"}},\"id\":\"5663\",\"type\":\"GlyphRenderer\"},{\"attributes\":{\"text\":\"\"},\"id\":\"5701\",\"type\":\"Title\"},{\"attributes\":{\"fill_alpha\":{\"value\":0.1},\"fill_color\":{\"value\":\"#1f77b4\"},\"line_alpha\":{\"value\":0.1},\"line_color\":{\"value\":\"#1f77b4\"},\"size\":{\"units\":\"screen\",\"value\":9},\"x\":{\"field\":\"x\"},\"y\":{\"field\":\"y\"}},\"id\":\"5682\",\"type\":\"Square\"},{\"attributes\":{},\"id\":\"5710\",\"type\":\"Selection\"},{\"attributes\":{\"children\":[{\"id\":\"5724\",\"type\":\"ToolbarBox\"},{\"id\":\"5722\",\"type\":\"GridBox\"}]},\"id\":\"5725\",\"type\":\"Column\"},{\"attributes\":{\"grid_line_color\":{\"value\":\"#ffffff\"},\"grid_line_width\":{\"value\":1.3},\"minor_grid_line_width\":{\"value\":0.5},\"ticker\":{\"id\":\"5638\",\"type\":\"BasicTicker\"}},\"id\":\"5641\",\"type\":\"Grid\"},{\"attributes\":{\"callback\":null,\"data\":{\"x\":{\"__ndarray__\":\"AAAAAAAAAACamZmZmZm5P5qZmZmZmck/MzMzMzMz0z+amZmZmZnZPwAAAAAAAOA/MzMzMzMz4z9mZmZmZmbmP5qZmZmZmek/zczMzMzM7D8AAAAAAADwP5qZmZmZmfE/MzMzMzMz8z/NzMzMzMz0P2ZmZmZmZvY/AAAAAAAA+D+amZmZmZn5Pw==\",\"dtype\":\"float64\",\"shape\":[17]},\"y\":{\"__ndarray__\":\"AAAAAAAAAAAAAAAAAAAAAAAAAAAAAAAAAAAAAAAAAAAAAAAAAAAAAAAAAAAAAAAAAAAAAAAAAAAAAAAAAAAAAAAAAAAAAAAAAAAAAAAAAAD8qfHSTWJQP3jpJjEIrHw/Gy/dJAaBlT+yne+nxku3P39qvHSTGNQ/N4lBYOXQ5j8/NV66SQz0Pw==\",\"dtype\":\"float64\",\"shape\":[17]}},\"selected\":{\"id\":\"5710\",\"type\":\"Selection\"},\"selection_policy\":{\"id\":\"5709\",\"type\":\"UnionRenderers\"}},\"id\":\"5665\",\"type\":\"ColumnDataSource\"},{\"attributes\":{\"active_drag\":\"auto\",\"active_inspect\":\"auto\",\"active_multi\":null,\"active_scroll\":\"auto\",\"active_tap\":\"auto\",\"tools\":[{\"id\":\"5647\",\"type\":\"PanTool\"},{\"id\":\"5648\",\"type\":\"WheelZoomTool\"},{\"id\":\"5649\",\"type\":\"BoxZoomTool\"},{\"id\":\"5650\",\"type\":\"SaveTool\"},{\"id\":\"5651\",\"type\":\"ResetTool\"},{\"id\":\"5652\",\"type\":\"HelpTool\"}]},\"id\":\"5653\",\"type\":\"Toolbar\"},{\"attributes\":{\"label\":{\"value\":\"(2,-1)\"},\"renderers\":[{\"id\":\"5673\",\"type\":\"GlyphRenderer\"},{\"id\":\"5678\",\"type\":\"GlyphRenderer\"}]},\"id\":\"5698\",\"type\":\"LegendItem\"},{\"attributes\":{\"fill_color\":{\"value\":null},\"line_color\":{\"value\":\"#c34e52\"},\"size\":{\"units\":\"screen\",\"value\":9},\"x\":{\"field\":\"x\"},\"y\":{\"field\":\"y\"}},\"id\":\"5671\",\"type\":\"Cross\"},{\"attributes\":{\"axis_label\":\"I [A]\",\"axis_label_text_color\":{\"value\":\"#000000\"},\"axis_label_text_font\":\"sans-serif\",\"axis_label_text_font_size\":{\"value\":\"14pt\"},\"formatter\":{\"id\":\"5705\",\"type\":\"BasicTickFormatter\"},\"major_label_text_font_size\":{\"value\":\"13pt\"},\"ticker\":{\"id\":\"5643\",\"type\":\"BasicTicker\"}},\"id\":\"5642\",\"type\":\"LinearAxis\"},{\"attributes\":{\"fill_alpha\":{\"value\":0.1},\"fill_color\":{\"value\":\"#1f77b4\"},\"line_alpha\":{\"value\":0.1},\"line_color\":{\"value\":\"#1f77b4\"},\"size\":{\"units\":\"screen\",\"value\":9},\"x\":{\"field\":\"x\"},\"y\":{\"field\":\"y\"}},\"id\":\"5672\",\"type\":\"Cross\"},{\"attributes\":{\"callback\":null,\"data\":{\"x\":{\"__ndarray__\":\"AAAAAAAAAACamZmZmZm5P5qZmZmZmck/MzMzMzMz0z+amZmZmZnZPwAAAAAAAOA/MzMzMzMz4z9mZmZmZmbmP5qZmZmZmek/zczMzMzM7D8AAAAAAADwP5qZmZmZmfE/MzMzMzMz8z/NzMzMzMz0P2ZmZmZmZvY/AAAAAAAA+D+amZmZmZn5Pw==\",\"dtype\":\"float64\",\"shape\":[17]},\"y\":{\"__ndarray__\":\"AAAAAAAAAAAAAAAAAAAAAAAAAAAAAAAAAAAAAAAAAAAAAAAAAAAAAAAAAAAAAAAAAAAAAAAAAAAAAAAAAAAAAAAAAAAAAAAAAAAAAAAAAAD8qfHSTWJQP3jpJjEIrHw/Gy/dJAaBlT+yne+nxku3P39qvHSTGNQ/N4lBYOXQ5j8/NV66SQz0Pw==\",\"dtype\":\"float64\",\"shape\":[17]}},\"selected\":{\"id\":\"5708\",\"type\":\"Selection\"},\"selection_policy\":{\"id\":\"5707\",\"type\":\"UnionRenderers\"}},\"id\":\"5660\",\"type\":\"ColumnDataSource\"},{\"attributes\":{},\"id\":\"5713\",\"type\":\"UnionRenderers\"},{\"attributes\":{},\"id\":\"5720\",\"type\":\"Selection\"},{\"attributes\":{\"overlay\":{\"id\":\"5706\",\"type\":\"BoxAnnotation\"}},\"id\":\"5649\",\"type\":\"BoxZoomTool\"},{\"attributes\":{},\"id\":\"5709\",\"type\":\"UnionRenderers\"},{\"attributes\":{\"background_fill_color\":{\"value\":\"#eaeaea\"},\"below\":[{\"id\":\"5637\",\"type\":\"LinearAxis\"}],\"center\":[{\"id\":\"5641\",\"type\":\"Grid\"},{\"id\":\"5646\",\"type\":\"Grid\"}],\"left\":[{\"id\":\"5642\",\"type\":\"LinearAxis\"}],\"plot_height\":461,\"plot_width\":539,\"renderers\":[{\"id\":\"5663\",\"type\":\"GlyphRenderer\"},{\"id\":\"5668\",\"type\":\"GlyphRenderer\"},{\"id\":\"5673\",\"type\":\"GlyphRenderer\"},{\"id\":\"5678\",\"type\":\"GlyphRenderer\"},{\"id\":\"5683\",\"type\":\"GlyphRenderer\"},{\"id\":\"5688\",\"type\":\"GlyphRenderer\"},{\"id\":\"5693\",\"type\":\"GlyphRenderer\"}],\"right\":[{\"id\":\"5695\",\"type\":\"Legend\"}],\"title\":{\"id\":\"5701\",\"type\":\"Title\"},\"toolbar\":{\"id\":\"5653\",\"type\":\"Toolbar\"},\"toolbar_location\":null,\"x_range\":{\"id\":\"5629\",\"type\":\"DataRange1d\"},\"x_scale\":{\"id\":\"5633\",\"type\":\"LinearScale\"},\"y_range\":{\"id\":\"5631\",\"type\":\"DataRange1d\"},\"y_scale\":{\"id\":\"5635\",\"type\":\"LinearScale\"}},\"id\":\"5628\",\"subtype\":\"Figure\",\"type\":\"Plot\"},{\"attributes\":{},\"id\":\"5715\",\"type\":\"UnionRenderers\"},{\"attributes\":{\"tools\":[{\"id\":\"5647\",\"type\":\"PanTool\"},{\"id\":\"5648\",\"type\":\"WheelZoomTool\"},{\"id\":\"5649\",\"type\":\"BoxZoomTool\"},{\"id\":\"5650\",\"type\":\"SaveTool\"},{\"id\":\"5651\",\"type\":\"ResetTool\"},{\"id\":\"5652\",\"type\":\"HelpTool\"}]},\"id\":\"5723\",\"type\":\"ProxyToolbar\"},{\"attributes\":{\"fill_color\":{\"value\":null},\"line_color\":{\"value\":null},\"size\":{\"units\":\"screen\",\"value\":1e-08},\"x\":{\"value\":0},\"y\":{\"value\":0}},\"id\":\"5691\",\"type\":\"Circle\"},{\"attributes\":{},\"id\":\"5633\",\"type\":\"LinearScale\"},{\"attributes\":{\"toolbar\":{\"id\":\"5723\",\"type\":\"ProxyToolbar\"},\"toolbar_location\":\"above\"},\"id\":\"5724\",\"type\":\"ToolbarBox\"},{\"attributes\":{},\"id\":\"5711\",\"type\":\"UnionRenderers\"},{\"attributes\":{\"source\":{\"id\":\"5670\",\"type\":\"ColumnDataSource\"}},\"id\":\"5674\",\"type\":\"CDSView\"},{\"attributes\":{},\"id\":\"5716\",\"type\":\"Selection\"},{\"attributes\":{\"data_source\":{\"id\":\"5680\",\"type\":\"ColumnDataSource\"},\"glyph\":{\"id\":\"5681\",\"type\":\"Square\"},\"hover_glyph\":null,\"muted_glyph\":null,\"nonselection_glyph\":{\"id\":\"5682\",\"type\":\"Square\"},\"selection_glyph\":null,\"view\":{\"id\":\"5684\",\"type\":\"CDSView\"}},\"id\":\"5683\",\"type\":\"GlyphRenderer\"},{\"attributes\":{\"fill_color\":{\"value\":null},\"line_color\":{\"value\":\"#54a767\"},\"size\":{\"units\":\"screen\",\"value\":9},\"x\":{\"field\":\"x\"},\"y\":{\"field\":\"y\"}},\"id\":\"5681\",\"type\":\"Square\"},{\"attributes\":{},\"id\":\"5652\",\"type\":\"HelpTool\"},{\"attributes\":{\"source\":{\"id\":\"5680\",\"type\":\"ColumnDataSource\"}},\"id\":\"5684\",\"type\":\"CDSView\"},{\"attributes\":{},\"id\":\"5717\",\"type\":\"UnionRenderers\"},{\"attributes\":{\"line_color\":\"#4b72b0\",\"x\":{\"field\":\"x\"},\"y\":{\"field\":\"y\"}},\"id\":\"5666\",\"type\":\"Line\"},{\"attributes\":{\"axis_label\":\"Voltage\",\"axis_label_text_color\":{\"value\":\"#000000\"},\"axis_label_text_font\":\"sans-serif\",\"axis_label_text_font_size\":{\"value\":\"14pt\"},\"formatter\":{\"id\":\"5703\",\"type\":\"BasicTickFormatter\"},\"major_label_text_font_size\":{\"value\":\"13pt\"},\"ticker\":{\"id\":\"5638\",\"type\":\"BasicTicker\"}},\"id\":\"5637\",\"type\":\"LinearAxis\"},{\"attributes\":{},\"id\":\"5647\",\"type\":\"PanTool\"},{\"attributes\":{\"data_source\":{\"id\":\"5685\",\"type\":\"ColumnDataSource\"},\"glyph\":{\"id\":\"5686\",\"type\":\"Line\"},\"hover_glyph\":null,\"muted_glyph\":null,\"nonselection_glyph\":{\"id\":\"5687\",\"type\":\"Line\"},\"selection_glyph\":null,\"view\":{\"id\":\"5689\",\"type\":\"CDSView\"}},\"id\":\"5688\",\"type\":\"GlyphRenderer\"},{\"attributes\":{},\"id\":\"5718\",\"type\":\"Selection\"},{\"attributes\":{},\"id\":\"5643\",\"type\":\"BasicTicker\"},{\"attributes\":{\"data_source\":{\"id\":\"5670\",\"type\":\"ColumnDataSource\"},\"glyph\":{\"id\":\"5671\",\"type\":\"Cross\"},\"hover_glyph\":null,\"muted_glyph\":null,\"nonselection_glyph\":{\"id\":\"5672\",\"type\":\"Cross\"},\"selection_glyph\":null,\"view\":{\"id\":\"5674\",\"type\":\"CDSView\"}},\"id\":\"5673\",\"type\":\"GlyphRenderer\"},{\"attributes\":{\"line_color\":\"#54a767\",\"x\":{\"field\":\"x\"},\"y\":{\"field\":\"y\"}},\"id\":\"5686\",\"type\":\"Line\"},{\"attributes\":{\"line_color\":\"#c34e52\",\"x\":{\"field\":\"x\"},\"y\":{\"field\":\"y\"}},\"id\":\"5676\",\"type\":\"Line\"},{\"attributes\":{},\"id\":\"5707\",\"type\":\"UnionRenderers\"},{\"attributes\":{\"callback\":null,\"data\":{\"x\":{\"__ndarray__\":\"AAAAAAAAAACamZmZmZm5P5qZmZmZmck/MzMzMzMz0z+amZmZmZnZPwAAAAAAAOA/MzMzMzMz4z9mZmZmZmbmP5qZmZmZmek/zczMzMzM7D8AAAAAAADwP5qZmZmZmfE/MzMzMzMz8z/NzMzMzMz0P2ZmZmZmZvY/AAAAAAAA+D+amZmZmZn5Pw==\",\"dtype\":\"float64\",\"shape\":[17]},\"y\":{\"__ndarray__\":\"AAAAAAAAAAAAAAAAAAAAAAAAAAAAAAAAAAAAAAAAAAAAAAAAAAAAAAAAAAAAAAAAAAAAAAAAAAAAAAAAAAAAAAAAAAAAAAAAAAAAAAAAAAD8qfHSTWJgP3jpJjEIrIw/exSuR+F6pD8K16NwPQrHPylcj8L1KOQ/MzMzMzMz8z/GSzeJQWDzPw==\",\"dtype\":\"float64\",\"shape\":[17]}},\"selected\":{\"id\":\"5718\",\"type\":\"Selection\"},\"selection_policy\":{\"id\":\"5717\",\"type\":\"UnionRenderers\"}},\"id\":\"5685\",\"type\":\"ColumnDataSource\"},{\"attributes\":{},\"id\":\"5648\",\"type\":\"WheelZoomTool\"},{\"attributes\":{\"source\":{\"id\":\"5665\",\"type\":\"ColumnDataSource\"}},\"id\":\"5669\",\"type\":\"CDSView\"},{\"attributes\":{\"line_alpha\":0.1,\"line_color\":\"#1f77b4\",\"x\":{\"field\":\"x\"},\"y\":{\"field\":\"y\"}},\"id\":\"5667\",\"type\":\"Line\"},{\"attributes\":{\"children\":[[{\"id\":\"5628\",\"subtype\":\"Figure\",\"type\":\"Plot\"},0,0]]},\"id\":\"5722\",\"type\":\"GridBox\"},{\"attributes\":{\"callback\":null,\"data\":{\"x\":{\"__ndarray__\":\"AAAAAAAAAACamZmZmZm5P5qZmZmZmck/MzMzMzMz0z+amZmZmZnZPwAAAAAAAOA/MzMzMzMz4z9mZmZmZmbmP5qZmZmZmek/zczMzMzM7D8AAAAAAADwP5qZmZmZmfE/MzMzMzMz8z/NzMzMzMz0P2ZmZmZmZvY/AAAAAAAA+D+amZmZmZn5Pw==\",\"dtype\":\"float64\",\"shape\":[17]},\"y\":{\"__ndarray__\":\"AAAAAAAAAAAAAAAAAAAAAAAAAAAAAAAAAAAAAAAAAAAAAAAAAAAAAAAAAAAAAAAAAAAAAAAAAAAAAAAAAAAAAAAAAAAAAAAAAAAAAAAAAAD8qfHSTWJQP3jpJjEIrHw/exSuR+F6lD9aZDvfT423Py2yne+nxtM/MQisHFpk5z8UrkfhehT0Pw==\",\"dtype\":\"float64\",\"shape\":[17]}},\"selected\":{\"id\":\"5714\",\"type\":\"Selection\"},\"selection_policy\":{\"id\":\"5713\",\"type\":\"UnionRenderers\"}},\"id\":\"5675\",\"type\":\"ColumnDataSource\"},{\"attributes\":{\"line_alpha\":0.1,\"line_color\":\"#1f77b4\",\"x\":{\"field\":\"x\"},\"y\":{\"field\":\"y\"}},\"id\":\"5687\",\"type\":\"Line\"},{\"attributes\":{},\"id\":\"5714\",\"type\":\"Selection\"},{\"attributes\":{\"data_source\":{\"id\":\"5675\",\"type\":\"ColumnDataSource\"},\"glyph\":{\"id\":\"5676\",\"type\":\"Line\"},\"hover_glyph\":null,\"muted_glyph\":null,\"nonselection_glyph\":{\"id\":\"5677\",\"type\":\"Line\"},\"selection_glyph\":null,\"view\":{\"id\":\"5679\",\"type\":\"CDSView\"}},\"id\":\"5678\",\"type\":\"GlyphRenderer\"},{\"attributes\":{\"callback\":null,\"data\":{\"x\":{\"__ndarray__\":\"AAAAAAAAAACamZmZmZm5P5qZmZmZmck/MzMzMzMz0z+amZmZmZnZPwAAAAAAAOA/MzMzMzMz4z9mZmZmZmbmP5qZmZmZmek/zczMzMzM7D8AAAAAAADwP5qZmZmZmfE/MzMzMzMz8z/NzMzMzMz0P2ZmZmZmZvY/AAAAAAAA+D+amZmZmZn5Pw==\",\"dtype\":\"float64\",\"shape\":[17]},\"y\":{\"__ndarray__\":\"AAAAAAAAAAAAAAAAAAAAAAAAAAAAAAAAAAAAAAAAAAAAAAAAAAAAAAAAAAAAAAAAAAAAAAAAAAAAAAAAAAAAAAAAAAAAAAAAAAAAAAAAAAD8qfHSTWJgP3jpJjEIrIw/exSuR+F6pD8K16NwPQrHPylcj8L1KOQ/MzMzMzMz8z/GSzeJQWDzPw==\",\"dtype\":\"float64\",\"shape\":[17]}},\"selected\":{\"id\":\"5716\",\"type\":\"Selection\"},\"selection_policy\":{\"id\":\"5715\",\"type\":\"UnionRenderers\"}},\"id\":\"5680\",\"type\":\"ColumnDataSource\"},{\"attributes\":{},\"id\":\"5708\",\"type\":\"Selection\"},{\"attributes\":{\"items\":[{\"id\":\"5696\",\"type\":\"LegendItem\"},{\"id\":\"5697\",\"type\":\"LegendItem\"},{\"id\":\"5698\",\"type\":\"LegendItem\"},{\"id\":\"5699\",\"type\":\"LegendItem\"}]},\"id\":\"5695\",\"type\":\"Legend\"},{\"attributes\":{},\"id\":\"5705\",\"type\":\"BasicTickFormatter\"},{\"attributes\":{},\"id\":\"5712\",\"type\":\"Selection\"},{\"attributes\":{},\"id\":\"5719\",\"type\":\"UnionRenderers\"}],\"root_ids\":[\"5725\"]},\"title\":\"Bokeh Application\",\"version\":\"1.1.0\"}}\n",
       "        </script>\n",
       "        <script type=\"text/javascript\">\n",
       "          (function() {\n",
       "            var fn = function() {\n",
       "              Bokeh.safely(function() {\n",
       "                (function(root) {\n",
       "                  function embed_document(root) {\n",
       "                    \n",
       "                  var docs_json = document.getElementById('5915').textContent;\n",
       "                  var render_items = [{\"docid\":\"e2ca6be3-bd59-43a5-8ab6-98df36b2cd19\",\"roots\":{\"5725\":\"ecabd0b1-42db-4104-b3ac-b6dc4d620c2a\"}}];\n",
       "                  root.Bokeh.embed.embed_items(docs_json, render_items);\n",
       "                \n",
       "                  }\n",
       "                  if (root.Bokeh !== undefined) {\n",
       "                    embed_document(root);\n",
       "                  } else {\n",
       "                    var attempts = 0;\n",
       "                    var timer = setInterval(function(root) {\n",
       "                      if (root.Bokeh !== undefined) {\n",
       "                        embed_document(root);\n",
       "                        clearInterval(timer);\n",
       "                      }\n",
       "                      attempts++;\n",
       "                      if (attempts > 100) {\n",
       "                        console.log(\"Bokeh: ERROR: Unable to run BokehJS code because BokehJS library is missing\");\n",
       "                        clearInterval(timer);\n",
       "                      }\n",
       "                    }, 10, root)\n",
       "                  }\n",
       "                })(window);\n",
       "              });\n",
       "            };\n",
       "            if (document.readyState != \"loading\") fn();\n",
       "            else document.addEventListener(\"DOMContentLoaded\", fn);\n",
       "          })();\n",
       "        </script>\n",
       "    \n",
       "  </body>\n",
       "  \n",
       "</html>"
      ],
      "text/plain": [
       "<IPython.core.display.HTML object>"
      ]
     },
     "execution_count": 177,
     "metadata": {},
     "output_type": "execute_result"
    }
   ],
   "source": [
    "fcp.plot(df, x='Voltage', y='I [A]', legend='Die', show=SHOW, \n",
    "         filter='Substrate==\"Si\" & Target Wavelength==450 & Boost Level==0.2 & Temperature [C]==25')"
   ]
  },
  {
   "cell_type": "markdown",
   "metadata": {},
   "source": [
    "### Log scale"
   ]
  },
  {
   "cell_type": "markdown",
   "metadata": {},
   "source": [
    "Log-scaled axes can be enabled through the kwargs \"ax_scale\".  Valid options:\n",
    "<ul>\n",
    "<li>x-only: <font color=\"blue\" style=\"font-family:'Courier New'\"> logx | semilogx </font></li>\n",
    "<li>y-only: <font color=\"blue\" style=\"font-family:'Courier New'\"> logy | semilogy </font></li>\n",
    "<li>both: <font color=\"blue\" style=\"font-family:'Courier New'\"> loglog | log </font></li>\n",
    "<li>symlog: <font color=\"blue\" style=\"font-family:'Courier New'\"> symlog </font> (doesn't work in matploblib 1.5.1)</li>\n",
    "<li>logit: <font color=\"blue\" style=\"font-family:'Courier New'\"> logit </font></li>\n",
    "</ul>"
   ]
  },
  {
   "cell_type": "code",
   "execution_count": 185,
   "metadata": {
    "scrolled": false
   },
   "outputs": [
    {
     "data": {
      "text/html": [
       "\n",
       "\n",
       "\n",
       "\n",
       "<!DOCTYPE html>\n",
       "<html lang=\"en\">\n",
       "  \n",
       "  <head>\n",
       "    \n",
       "      <meta charset=\"utf-8\">\n",
       "      <title>Bokeh Plot</title>\n",
       "      \n",
       "      \n",
       "        \n",
       "          \n",
       "        <link rel=\"stylesheet\" href=\"https://cdn.pydata.org/bokeh/release/bokeh-1.1.0.min.css\" type=\"text/css\" />\n",
       "        \n",
       "        \n",
       "          \n",
       "        <script type=\"text/javascript\" src=\"https://cdn.pydata.org/bokeh/release/bokeh-1.1.0.min.js\"></script>\n",
       "        <script type=\"text/javascript\">\n",
       "            Bokeh.set_log_level(\"info\");\n",
       "        </script>\n",
       "        \n",
       "      \n",
       "      \n",
       "    \n",
       "  </head>\n",
       "  \n",
       "  \n",
       "  <body>\n",
       "    \n",
       "      \n",
       "        \n",
       "          \n",
       "          \n",
       "            \n",
       "              <div class=\"bk-root\" id=\"4215a461-89c4-4ef7-a884-16f434866a6d\" data-root-id=\"6333\"></div>\n",
       "            \n",
       "          \n",
       "        \n",
       "      \n",
       "      \n",
       "        <script type=\"application/json\" id=\"6523\">\n",
       "          {\"2f1b3867-247c-44e6-8455-35be77858026\":{\"roots\":{\"references\":[{\"attributes\":{\"callback\":null},\"id\":\"6239\",\"type\":\"DataRange1d\"},{\"attributes\":{\"bottom_units\":\"screen\",\"fill_alpha\":{\"value\":0.5},\"fill_color\":{\"value\":\"lightgrey\"},\"left_units\":\"screen\",\"level\":\"overlay\",\"line_alpha\":{\"value\":1.0},\"line_color\":{\"value\":\"black\"},\"line_dash\":[4,4],\"line_width\":{\"value\":2},\"render_mode\":\"css\",\"right_units\":\"screen\",\"top_units\":\"screen\"},\"id\":\"6314\",\"type\":\"BoxAnnotation\"},{\"attributes\":{\"data_source\":{\"id\":\"6283\",\"type\":\"ColumnDataSource\"},\"glyph\":{\"id\":\"6284\",\"type\":\"Line\"},\"hover_glyph\":null,\"muted_glyph\":null,\"nonselection_glyph\":{\"id\":\"6285\",\"type\":\"Line\"},\"selection_glyph\":null,\"view\":{\"id\":\"6287\",\"type\":\"CDSView\"}},\"id\":\"6286\",\"type\":\"GlyphRenderer\"},{\"attributes\":{\"num_minor_ticks\":10},\"id\":\"6251\",\"type\":\"LogTicker\"},{\"attributes\":{},\"id\":\"6315\",\"type\":\"UnionRenderers\"},{\"attributes\":{\"line_color\":\"#c34e52\",\"x\":{\"field\":\"x\"},\"y\":{\"field\":\"y\"}},\"id\":\"6284\",\"type\":\"Line\"},{\"attributes\":{\"grid_line_color\":{\"value\":\"#ffffff\"},\"grid_line_width\":{\"value\":1.3},\"minor_grid_line_width\":{\"value\":0.5},\"ticker\":{\"id\":\"6246\",\"type\":\"LogTicker\"}},\"id\":\"6249\",\"type\":\"Grid\"},{\"attributes\":{\"data_source\":{\"id\":\"6298\",\"type\":\"ColumnDataSource\"},\"glyph\":{\"id\":\"6299\",\"type\":\"Circle\"},\"hover_glyph\":null,\"muted_glyph\":null,\"nonselection_glyph\":{\"id\":\"6300\",\"type\":\"Circle\"},\"selection_glyph\":null,\"view\":{\"id\":\"6302\",\"type\":\"CDSView\"}},\"id\":\"6301\",\"type\":\"GlyphRenderer\"},{\"attributes\":{\"fill_alpha\":{\"value\":0.1},\"fill_color\":{\"value\":\"#1f77b4\"},\"line_alpha\":{\"value\":0.1},\"line_color\":{\"value\":\"#1f77b4\"},\"size\":{\"units\":\"screen\",\"value\":9},\"x\":{\"field\":\"x\"},\"y\":{\"field\":\"y\"}},\"id\":\"6270\",\"type\":\"Circle\"},{\"attributes\":{\"source\":{\"id\":\"6273\",\"type\":\"ColumnDataSource\"}},\"id\":\"6277\",\"type\":\"CDSView\"},{\"attributes\":{\"callback\":null,\"data\":{\"x\":{\"__ndarray__\":\"AAAAAAAAAACamZmZmZm5P5qZmZmZmck/MzMzMzMz0z+amZmZmZnZPwAAAAAAAOA/MzMzMzMz4z9mZmZmZmbmP5qZmZmZmek/zczMzMzM7D8AAAAAAADwP5qZmZmZmfE/MzMzMzMz8z/NzMzMzMz0P2ZmZmZmZvY/AAAAAAAA+D+amZmZmZn5Pw==\",\"dtype\":\"float64\",\"shape\":[17]},\"y\":{\"__ndarray__\":\"AAAAAAAAAAAAAAAAAAAAAAAAAAAAAAAAAAAAAAAAAAAAAAAAAAAAAAAAAAAAAAAAAAAAAAAAAAAAAAAAAAAAAAAAAAAAAAAAAAAAAAAAAAD8qfHSTWJQP3jpJjEIrHw/Gy/dJAaBlT+yne+nxku3P39qvHSTGNQ/N4lBYOXQ5j8/NV66SQz0Pw==\",\"dtype\":\"float64\",\"shape\":[17]}},\"selected\":{\"id\":\"6316\",\"type\":\"Selection\"},\"selection_policy\":{\"id\":\"6315\",\"type\":\"UnionRenderers\"}},\"id\":\"6268\",\"type\":\"ColumnDataSource\"},{\"attributes\":{\"fill_color\":{\"value\":null},\"line_color\":{\"value\":null},\"size\":{\"units\":\"screen\",\"value\":1e-08},\"x\":{\"value\":0},\"y\":{\"value\":0}},\"id\":\"6299\",\"type\":\"Circle\"},{\"attributes\":{\"tools\":[{\"id\":\"6255\",\"type\":\"PanTool\"},{\"id\":\"6256\",\"type\":\"WheelZoomTool\"},{\"id\":\"6257\",\"type\":\"BoxZoomTool\"},{\"id\":\"6258\",\"type\":\"SaveTool\"},{\"id\":\"6259\",\"type\":\"ResetTool\"},{\"id\":\"6260\",\"type\":\"HelpTool\"}]},\"id\":\"6331\",\"type\":\"ProxyToolbar\"},{\"attributes\":{},\"id\":\"6328\",\"type\":\"Selection\"},{\"attributes\":{},\"id\":\"6256\",\"type\":\"WheelZoomTool\"},{\"attributes\":{\"callback\":null,\"data\":{\"x\":{\"__ndarray__\":\"AAAAAAAAAACamZmZmZm5P5qZmZmZmck/MzMzMzMz0z+amZmZmZnZPwAAAAAAAOA/MzMzMzMz4z9mZmZmZmbmP5qZmZmZmek/zczMzMzM7D8AAAAAAADwP5qZmZmZmfE/MzMzMzMz8z/NzMzMzMz0P2ZmZmZmZvY/AAAAAAAA+D+amZmZmZn5Pw==\",\"dtype\":\"float64\",\"shape\":[17]},\"y\":{\"__ndarray__\":\"AAAAAAAAAAAAAAAAAAAAAAAAAAAAAAAAAAAAAAAAAAAAAAAAAAAAAAAAAAAAAAAAAAAAAAAAAAAAAAAAAAAAAAAAAAAAAAAAAAAAAAAAAAD8qfHSTWJgP3jpJjEIrIw/exSuR+F6pD8K16NwPQrHPylcj8L1KOQ/MzMzMzMz8z/GSzeJQWDzPw==\",\"dtype\":\"float64\",\"shape\":[17]}},\"selected\":{\"id\":\"6324\",\"type\":\"Selection\"},\"selection_policy\":{\"id\":\"6323\",\"type\":\"UnionRenderers\"}},\"id\":\"6288\",\"type\":\"ColumnDataSource\"},{\"attributes\":{},\"id\":\"6321\",\"type\":\"UnionRenderers\"},{\"attributes\":{},\"id\":\"6319\",\"type\":\"UnionRenderers\"},{\"attributes\":{},\"id\":\"6324\",\"type\":\"Selection\"},{\"attributes\":{\"fill_color\":{\"value\":null},\"line_color\":{\"value\":\"#4b72b0\"},\"size\":{\"units\":\"screen\",\"value\":9},\"x\":{\"field\":\"x\"},\"y\":{\"field\":\"y\"}},\"id\":\"6269\",\"type\":\"Circle\"},{\"attributes\":{\"callback\":null},\"id\":\"6237\",\"type\":\"DataRange1d\"},{\"attributes\":{\"ticker\":null},\"id\":\"6313\",\"type\":\"LogTickFormatter\"},{\"attributes\":{},\"id\":\"6316\",\"type\":\"Selection\"},{\"attributes\":{\"source\":{\"id\":\"6283\",\"type\":\"ColumnDataSource\"}},\"id\":\"6287\",\"type\":\"CDSView\"},{\"attributes\":{\"source\":{\"id\":\"6293\",\"type\":\"ColumnDataSource\"}},\"id\":\"6297\",\"type\":\"CDSView\"},{\"attributes\":{\"callback\":null,\"data\":{\"x\":{\"__ndarray__\":\"AAAAAAAAAACamZmZmZm5P5qZmZmZmck/MzMzMzMz0z+amZmZmZnZPwAAAAAAAOA/MzMzMzMz4z9mZmZmZmbmP5qZmZmZmek/zczMzMzM7D8AAAAAAADwP5qZmZmZmfE/MzMzMzMz8z/NzMzMzMz0P2ZmZmZmZvY/AAAAAAAA+D+amZmZmZn5Pw==\",\"dtype\":\"float64\",\"shape\":[17]},\"y\":{\"__ndarray__\":\"AAAAAAAAAAAAAAAAAAAAAAAAAAAAAAAAAAAAAAAAAAAAAAAAAAAAAAAAAAAAAAAAAAAAAAAAAAAAAAAAAAAAAAAAAAAAAAAAAAAAAAAAAAD8qfHSTWJQP3jpJjEIrHw/exSuR+F6lD9aZDvfT423Py2yne+nxtM/MQisHFpk5z8UrkfhehT0Pw==\",\"dtype\":\"float64\",\"shape\":[17]}},\"selected\":{\"id\":\"6320\",\"type\":\"Selection\"},\"selection_policy\":{\"id\":\"6319\",\"type\":\"UnionRenderers\"}},\"id\":\"6278\",\"type\":\"ColumnDataSource\"},{\"attributes\":{\"num_minor_ticks\":10},\"id\":\"6246\",\"type\":\"LogTicker\"},{\"attributes\":{\"callback\":null,\"data\":{\"x\":{\"__ndarray__\":\"AAAAAAAAAACamZmZmZm5P5qZmZmZmck/MzMzMzMz0z+amZmZmZnZPwAAAAAAAOA/MzMzMzMz4z9mZmZmZmbmP5qZmZmZmek/zczMzMzM7D8AAAAAAADwP5qZmZmZmfE/MzMzMzMz8z/NzMzMzMz0P2ZmZmZmZvY/AAAAAAAA+D+amZmZmZn5Pw==\",\"dtype\":\"float64\",\"shape\":[17]},\"y\":{\"__ndarray__\":\"AAAAAAAAAAAAAAAAAAAAAAAAAAAAAAAAAAAAAAAAAAAAAAAAAAAAAAAAAAAAAAAAAAAAAAAAAAAAAAAAAAAAAAAAAAAAAAAAAAAAAAAAAAD8qfHSTWJQP3jpJjEIrHw/exSuR+F6lD9aZDvfT423Py2yne+nxtM/MQisHFpk5z8UrkfhehT0Pw==\",\"dtype\":\"float64\",\"shape\":[17]}},\"selected\":{\"id\":\"6322\",\"type\":\"Selection\"},\"selection_policy\":{\"id\":\"6321\",\"type\":\"UnionRenderers\"}},\"id\":\"6283\",\"type\":\"ColumnDataSource\"},{\"attributes\":{},\"id\":\"6241\",\"type\":\"LogScale\"},{\"attributes\":{\"source\":{\"id\":\"6268\",\"type\":\"ColumnDataSource\"}},\"id\":\"6272\",\"type\":\"CDSView\"},{\"attributes\":{},\"id\":\"6318\",\"type\":\"Selection\"},{\"attributes\":{\"callback\":null,\"data\":{},\"selected\":{\"id\":\"6328\",\"type\":\"Selection\"},\"selection_policy\":{\"id\":\"6327\",\"type\":\"UnionRenderers\"}},\"id\":\"6298\",\"type\":\"ColumnDataSource\"},{\"attributes\":{\"data_source\":{\"id\":\"6293\",\"type\":\"ColumnDataSource\"},\"glyph\":{\"id\":\"6294\",\"type\":\"Line\"},\"hover_glyph\":null,\"muted_glyph\":null,\"nonselection_glyph\":{\"id\":\"6295\",\"type\":\"Line\"},\"selection_glyph\":null,\"view\":{\"id\":\"6297\",\"type\":\"CDSView\"}},\"id\":\"6296\",\"type\":\"GlyphRenderer\"},{\"attributes\":{},\"id\":\"6259\",\"type\":\"ResetTool\"},{\"attributes\":{},\"id\":\"6258\",\"type\":\"SaveTool\"},{\"attributes\":{\"children\":[{\"id\":\"6332\",\"type\":\"ToolbarBox\"},{\"id\":\"6330\",\"type\":\"GridBox\"}]},\"id\":\"6333\",\"type\":\"Column\"},{\"attributes\":{\"ticker\":null},\"id\":\"6311\",\"type\":\"LogTickFormatter\"},{\"attributes\":{\"overlay\":{\"id\":\"6314\",\"type\":\"BoxAnnotation\"}},\"id\":\"6257\",\"type\":\"BoxZoomTool\"},{\"attributes\":{},\"id\":\"6325\",\"type\":\"UnionRenderers\"},{\"attributes\":{\"line_alpha\":0.1,\"line_color\":\"#1f77b4\",\"x\":{\"field\":\"x\"},\"y\":{\"field\":\"y\"}},\"id\":\"6295\",\"type\":\"Line\"},{\"attributes\":{\"children\":[[{\"id\":\"6236\",\"subtype\":\"Figure\",\"type\":\"Plot\"},0,0]]},\"id\":\"6330\",\"type\":\"GridBox\"},{\"attributes\":{\"callback\":null,\"data\":{\"x\":{\"__ndarray__\":\"AAAAAAAAAACamZmZmZm5P5qZmZmZmck/MzMzMzMz0z+amZmZmZnZPwAAAAAAAOA/MzMzMzMz4z9mZmZmZmbmP5qZmZmZmek/zczMzMzM7D8AAAAAAADwP5qZmZmZmfE/MzMzMzMz8z/NzMzMzMz0P2ZmZmZmZvY/AAAAAAAA+D+amZmZmZn5Pw==\",\"dtype\":\"float64\",\"shape\":[17]},\"y\":{\"__ndarray__\":\"AAAAAAAAAAAAAAAAAAAAAAAAAAAAAAAAAAAAAAAAAAAAAAAAAAAAAAAAAAAAAAAAAAAAAAAAAAAAAAAAAAAAAAAAAAAAAAAAAAAAAAAAAAD8qfHSTWJQP3jpJjEIrHw/Gy/dJAaBlT+yne+nxku3P39qvHSTGNQ/N4lBYOXQ5j8/NV66SQz0Pw==\",\"dtype\":\"float64\",\"shape\":[17]}},\"selected\":{\"id\":\"6318\",\"type\":\"Selection\"},\"selection_policy\":{\"id\":\"6317\",\"type\":\"UnionRenderers\"}},\"id\":\"6273\",\"type\":\"ColumnDataSource\"},{\"attributes\":{},\"id\":\"6260\",\"type\":\"HelpTool\"},{\"attributes\":{\"label\":{\"value\":\"(2,-1)\"},\"renderers\":[{\"id\":\"6281\",\"type\":\"GlyphRenderer\"},{\"id\":\"6286\",\"type\":\"GlyphRenderer\"}]},\"id\":\"6306\",\"type\":\"LegendItem\"},{\"attributes\":{\"background_fill_color\":{\"value\":\"#eaeaea\"},\"below\":[{\"id\":\"6245\",\"type\":\"LogAxis\"}],\"center\":[{\"id\":\"6249\",\"type\":\"Grid\"},{\"id\":\"6254\",\"type\":\"Grid\"}],\"left\":[{\"id\":\"6250\",\"type\":\"LogAxis\"}],\"plot_height\":461,\"plot_width\":539,\"renderers\":[{\"id\":\"6271\",\"type\":\"GlyphRenderer\"},{\"id\":\"6276\",\"type\":\"GlyphRenderer\"},{\"id\":\"6281\",\"type\":\"GlyphRenderer\"},{\"id\":\"6286\",\"type\":\"GlyphRenderer\"},{\"id\":\"6291\",\"type\":\"GlyphRenderer\"},{\"id\":\"6296\",\"type\":\"GlyphRenderer\"},{\"id\":\"6301\",\"type\":\"GlyphRenderer\"}],\"right\":[{\"id\":\"6303\",\"type\":\"Legend\"}],\"title\":{\"id\":\"6309\",\"type\":\"Title\"},\"toolbar\":{\"id\":\"6261\",\"type\":\"Toolbar\"},\"toolbar_location\":null,\"x_range\":{\"id\":\"6237\",\"type\":\"DataRange1d\"},\"x_scale\":{\"id\":\"6241\",\"type\":\"LogScale\"},\"y_range\":{\"id\":\"6239\",\"type\":\"DataRange1d\"},\"y_scale\":{\"id\":\"6243\",\"type\":\"LogScale\"}},\"id\":\"6236\",\"subtype\":\"Figure\",\"type\":\"Plot\"},{\"attributes\":{},\"id\":\"6255\",\"type\":\"PanTool\"},{\"attributes\":{\"line_color\":\"#4b72b0\",\"x\":{\"field\":\"x\"},\"y\":{\"field\":\"y\"}},\"id\":\"6274\",\"type\":\"Line\"},{\"attributes\":{\"dimension\":1,\"grid_line_color\":{\"value\":\"#ffffff\"},\"grid_line_width\":{\"value\":1.3},\"minor_grid_line_width\":{\"value\":0.5},\"ticker\":{\"id\":\"6251\",\"type\":\"LogTicker\"}},\"id\":\"6254\",\"type\":\"Grid\"},{\"attributes\":{\"fill_alpha\":{\"value\":0.1},\"fill_color\":{\"value\":\"#1f77b4\"},\"line_alpha\":{\"value\":0.1},\"line_color\":{\"value\":\"#1f77b4\"},\"size\":{\"units\":\"screen\",\"value\":9},\"x\":{\"field\":\"x\"},\"y\":{\"field\":\"y\"}},\"id\":\"6280\",\"type\":\"Cross\"},{\"attributes\":{\"source\":{\"id\":\"6278\",\"type\":\"ColumnDataSource\"}},\"id\":\"6282\",\"type\":\"CDSView\"},{\"attributes\":{},\"id\":\"6327\",\"type\":\"UnionRenderers\"},{\"attributes\":{\"line_alpha\":0.1,\"line_color\":\"#1f77b4\",\"x\":{\"field\":\"x\"},\"y\":{\"field\":\"y\"}},\"id\":\"6275\",\"type\":\"Line\"},{\"attributes\":{\"fill_alpha\":{\"value\":0.1},\"fill_color\":{\"value\":\"#1f77b4\"},\"line_alpha\":{\"value\":0.1},\"line_color\":{\"value\":\"#1f77b4\"},\"size\":{\"units\":\"screen\",\"value\":1e-08},\"x\":{\"value\":0},\"y\":{\"value\":0}},\"id\":\"6300\",\"type\":\"Circle\"},{\"attributes\":{},\"id\":\"6322\",\"type\":\"Selection\"},{\"attributes\":{},\"id\":\"6317\",\"type\":\"UnionRenderers\"},{\"attributes\":{\"fill_alpha\":{\"value\":0.1},\"fill_color\":{\"value\":\"#1f77b4\"},\"line_alpha\":{\"value\":0.1},\"line_color\":{\"value\":\"#1f77b4\"},\"size\":{\"units\":\"screen\",\"value\":9},\"x\":{\"field\":\"x\"},\"y\":{\"field\":\"y\"}},\"id\":\"6290\",\"type\":\"Square\"},{\"attributes\":{},\"id\":\"6323\",\"type\":\"UnionRenderers\"},{\"attributes\":{\"active_drag\":\"auto\",\"active_inspect\":\"auto\",\"active_multi\":null,\"active_scroll\":\"auto\",\"active_tap\":\"auto\",\"tools\":[{\"id\":\"6255\",\"type\":\"PanTool\"},{\"id\":\"6256\",\"type\":\"WheelZoomTool\"},{\"id\":\"6257\",\"type\":\"BoxZoomTool\"},{\"id\":\"6258\",\"type\":\"SaveTool\"},{\"id\":\"6259\",\"type\":\"ResetTool\"},{\"id\":\"6260\",\"type\":\"HelpTool\"}]},\"id\":\"6261\",\"type\":\"Toolbar\"},{\"attributes\":{\"items\":[{\"id\":\"6304\",\"type\":\"LegendItem\"},{\"id\":\"6305\",\"type\":\"LegendItem\"},{\"id\":\"6306\",\"type\":\"LegendItem\"},{\"id\":\"6307\",\"type\":\"LegendItem\"}]},\"id\":\"6303\",\"type\":\"Legend\"},{\"attributes\":{\"data_source\":{\"id\":\"6278\",\"type\":\"ColumnDataSource\"},\"glyph\":{\"id\":\"6279\",\"type\":\"Cross\"},\"hover_glyph\":null,\"muted_glyph\":null,\"nonselection_glyph\":{\"id\":\"6280\",\"type\":\"Cross\"},\"selection_glyph\":null,\"view\":{\"id\":\"6282\",\"type\":\"CDSView\"}},\"id\":\"6281\",\"type\":\"GlyphRenderer\"},{\"attributes\":{},\"id\":\"6243\",\"type\":\"LogScale\"},{\"attributes\":{},\"id\":\"6320\",\"type\":\"Selection\"},{\"attributes\":{\"fill_color\":{\"value\":null},\"line_color\":{\"value\":\"#c34e52\"},\"size\":{\"units\":\"screen\",\"value\":9},\"x\":{\"field\":\"x\"},\"y\":{\"field\":\"y\"}},\"id\":\"6279\",\"type\":\"Cross\"},{\"attributes\":{\"axis_label\":\"Voltage\",\"axis_label_text_color\":{\"value\":\"#000000\"},\"axis_label_text_font\":\"sans-serif\",\"axis_label_text_font_size\":{\"value\":\"14pt\"},\"formatter\":{\"id\":\"6311\",\"type\":\"LogTickFormatter\"},\"major_label_text_font_size\":{\"value\":\"13pt\"},\"ticker\":{\"id\":\"6246\",\"type\":\"LogTicker\"}},\"id\":\"6245\",\"type\":\"LogAxis\"},{\"attributes\":{\"label\":{\"value\":\"(1,1)\"},\"renderers\":[{\"id\":\"6271\",\"type\":\"GlyphRenderer\"},{\"id\":\"6276\",\"type\":\"GlyphRenderer\"}]},\"id\":\"6305\",\"type\":\"LegendItem\"},{\"attributes\":{},\"id\":\"6326\",\"type\":\"Selection\"},{\"attributes\":{\"data_source\":{\"id\":\"6273\",\"type\":\"ColumnDataSource\"},\"glyph\":{\"id\":\"6274\",\"type\":\"Line\"},\"hover_glyph\":null,\"muted_glyph\":null,\"nonselection_glyph\":{\"id\":\"6275\",\"type\":\"Line\"},\"selection_glyph\":null,\"view\":{\"id\":\"6277\",\"type\":\"CDSView\"}},\"id\":\"6276\",\"type\":\"GlyphRenderer\"},{\"attributes\":{\"axis_label\":\"I [A]\",\"axis_label_text_color\":{\"value\":\"#000000\"},\"axis_label_text_font\":\"sans-serif\",\"axis_label_text_font_size\":{\"value\":\"14pt\"},\"formatter\":{\"id\":\"6313\",\"type\":\"LogTickFormatter\"},\"major_label_text_font_size\":{\"value\":\"13pt\"},\"ticker\":{\"id\":\"6251\",\"type\":\"LogTicker\"}},\"id\":\"6250\",\"type\":\"LogAxis\"},{\"attributes\":{\"source\":{\"id\":\"6298\",\"type\":\"ColumnDataSource\"}},\"id\":\"6302\",\"type\":\"CDSView\"},{\"attributes\":{\"text\":\"\"},\"id\":\"6309\",\"type\":\"Title\"},{\"attributes\":{\"toolbar\":{\"id\":\"6331\",\"type\":\"ProxyToolbar\"},\"toolbar_location\":\"above\"},\"id\":\"6332\",\"type\":\"ToolbarBox\"},{\"attributes\":{\"label\":{\"value\":\"(-1,2)\"},\"renderers\":[{\"id\":\"6291\",\"type\":\"GlyphRenderer\"},{\"id\":\"6296\",\"type\":\"GlyphRenderer\"}]},\"id\":\"6307\",\"type\":\"LegendItem\"},{\"attributes\":{\"label\":{\"value\":\"Die\"},\"renderers\":[{\"id\":\"6301\",\"type\":\"GlyphRenderer\"}]},\"id\":\"6304\",\"type\":\"LegendItem\"},{\"attributes\":{\"source\":{\"id\":\"6288\",\"type\":\"ColumnDataSource\"}},\"id\":\"6292\",\"type\":\"CDSView\"},{\"attributes\":{\"line_color\":\"#54a767\",\"x\":{\"field\":\"x\"},\"y\":{\"field\":\"y\"}},\"id\":\"6294\",\"type\":\"Line\"},{\"attributes\":{\"data_source\":{\"id\":\"6288\",\"type\":\"ColumnDataSource\"},\"glyph\":{\"id\":\"6289\",\"type\":\"Square\"},\"hover_glyph\":null,\"muted_glyph\":null,\"nonselection_glyph\":{\"id\":\"6290\",\"type\":\"Square\"},\"selection_glyph\":null,\"view\":{\"id\":\"6292\",\"type\":\"CDSView\"}},\"id\":\"6291\",\"type\":\"GlyphRenderer\"},{\"attributes\":{\"data_source\":{\"id\":\"6268\",\"type\":\"ColumnDataSource\"},\"glyph\":{\"id\":\"6269\",\"type\":\"Circle\"},\"hover_glyph\":null,\"muted_glyph\":null,\"nonselection_glyph\":{\"id\":\"6270\",\"type\":\"Circle\"},\"selection_glyph\":null,\"view\":{\"id\":\"6272\",\"type\":\"CDSView\"}},\"id\":\"6271\",\"type\":\"GlyphRenderer\"},{\"attributes\":{\"fill_color\":{\"value\":null},\"line_color\":{\"value\":\"#54a767\"},\"size\":{\"units\":\"screen\",\"value\":9},\"x\":{\"field\":\"x\"},\"y\":{\"field\":\"y\"}},\"id\":\"6289\",\"type\":\"Square\"},{\"attributes\":{\"callback\":null,\"data\":{\"x\":{\"__ndarray__\":\"AAAAAAAAAACamZmZmZm5P5qZmZmZmck/MzMzMzMz0z+amZmZmZnZPwAAAAAAAOA/MzMzMzMz4z9mZmZmZmbmP5qZmZmZmek/zczMzMzM7D8AAAAAAADwP5qZmZmZmfE/MzMzMzMz8z/NzMzMzMz0P2ZmZmZmZvY/AAAAAAAA+D+amZmZmZn5Pw==\",\"dtype\":\"float64\",\"shape\":[17]},\"y\":{\"__ndarray__\":\"AAAAAAAAAAAAAAAAAAAAAAAAAAAAAAAAAAAAAAAAAAAAAAAAAAAAAAAAAAAAAAAAAAAAAAAAAAAAAAAAAAAAAAAAAAAAAAAAAAAAAAAAAAD8qfHSTWJgP3jpJjEIrIw/exSuR+F6pD8K16NwPQrHPylcj8L1KOQ/MzMzMzMz8z/GSzeJQWDzPw==\",\"dtype\":\"float64\",\"shape\":[17]}},\"selected\":{\"id\":\"6326\",\"type\":\"Selection\"},\"selection_policy\":{\"id\":\"6325\",\"type\":\"UnionRenderers\"}},\"id\":\"6293\",\"type\":\"ColumnDataSource\"},{\"attributes\":{\"line_alpha\":0.1,\"line_color\":\"#1f77b4\",\"x\":{\"field\":\"x\"},\"y\":{\"field\":\"y\"}},\"id\":\"6285\",\"type\":\"Line\"}],\"root_ids\":[\"6333\"]},\"title\":\"Bokeh Application\",\"version\":\"1.1.0\"}}\n",
       "        </script>\n",
       "        <script type=\"text/javascript\">\n",
       "          (function() {\n",
       "            var fn = function() {\n",
       "              Bokeh.safely(function() {\n",
       "                (function(root) {\n",
       "                  function embed_document(root) {\n",
       "                    \n",
       "                  var docs_json = document.getElementById('6523').textContent;\n",
       "                  var render_items = [{\"docid\":\"2f1b3867-247c-44e6-8455-35be77858026\",\"roots\":{\"6333\":\"4215a461-89c4-4ef7-a884-16f434866a6d\"}}];\n",
       "                  root.Bokeh.embed.embed_items(docs_json, render_items);\n",
       "                \n",
       "                  }\n",
       "                  if (root.Bokeh !== undefined) {\n",
       "                    embed_document(root);\n",
       "                  } else {\n",
       "                    var attempts = 0;\n",
       "                    var timer = setInterval(function(root) {\n",
       "                      if (root.Bokeh !== undefined) {\n",
       "                        embed_document(root);\n",
       "                        clearInterval(timer);\n",
       "                      }\n",
       "                      attempts++;\n",
       "                      if (attempts > 100) {\n",
       "                        console.log(\"Bokeh: ERROR: Unable to run BokehJS code because BokehJS library is missing\");\n",
       "                        clearInterval(timer);\n",
       "                      }\n",
       "                    }, 10, root)\n",
       "                  }\n",
       "                })(window);\n",
       "              });\n",
       "            };\n",
       "            if (document.readyState != \"loading\") fn();\n",
       "            else document.addEventListener(\"DOMContentLoaded\", fn);\n",
       "          })();\n",
       "        </script>\n",
       "    \n",
       "  </body>\n",
       "  \n",
       "</html>"
      ],
      "text/plain": [
       "<IPython.core.display.HTML object>"
      ]
     },
     "execution_count": 185,
     "metadata": {},
     "output_type": "execute_result"
    }
   ],
   "source": [
    "fcp.plot(df, x='Voltage', y='I [A]', ax_scale='loglog', legend='Die', show=SHOW, xmin=0.9, \n",
    "         filter='Substrate==\"Si\" & Target Wavelength==450 & Boost Level==0.2 & Temperature [C]==25')"
   ]
  },
  {
   "cell_type": "markdown",
   "metadata": {},
   "source": [
    "### Categorical labels"
   ]
  },
  {
   "cell_type": "markdown",
   "metadata": {},
   "source": [
    "Categorical DataFrame columns can also be plotted on x and/or y axes:"
   ]
  },
  {
   "cell_type": "code",
   "execution_count": 186,
   "metadata": {},
   "outputs": [
    {
     "ename": "TypeError",
     "evalue": "int() argument must be a string, a bytes-like object or a number, not 'NoneType'",
     "output_type": "error",
     "traceback": [
      "\u001b[1;31m---------------------------------------------------------------------------\u001b[0m",
      "\u001b[1;31mTypeError\u001b[0m                                 Traceback (most recent call last)",
      "\u001b[1;32m<ipython-input-186-0a8b8c85c61c>\u001b[0m in \u001b[0;36m<module>\u001b[1;34m()\u001b[0m\n\u001b[0;32m      1\u001b[0m fcp.plot(df, x='Die', y='I [A]', show=SHOW, \n\u001b[1;32m----> 2\u001b[1;33m          filter='Substrate==\"Si\" & Target Wavelength==450 & Boost Level==0.2 & Temperature [C]==25 & Voltage==1.5')\n\u001b[0m",
      "\u001b[1;32mC:\\GitHub\\fivecentplots\\fivecentplots\\fcp.py\u001b[0m in \u001b[0;36mplot\u001b[1;34m(*args, **kwargs)\u001b[0m\n\u001b[0;32m    225\u001b[0m     \"\"\"\n\u001b[0;32m    226\u001b[0m \u001b[1;33m\u001b[0m\u001b[0m\n\u001b[1;32m--> 227\u001b[1;33m     \u001b[1;32mreturn\u001b[0m \u001b[0mplotter\u001b[0m\u001b[1;33m(\u001b[0m\u001b[1;34m'plot_xy'\u001b[0m\u001b[1;33m,\u001b[0m \u001b[1;33m**\u001b[0m\u001b[0mdfkwarg\u001b[0m\u001b[1;33m(\u001b[0m\u001b[0margs\u001b[0m\u001b[1;33m,\u001b[0m \u001b[0mkwargs\u001b[0m\u001b[1;33m)\u001b[0m\u001b[1;33m)\u001b[0m\u001b[1;33m\u001b[0m\u001b[0m\n\u001b[0m\u001b[0;32m    228\u001b[0m \u001b[1;33m\u001b[0m\u001b[0m\n\u001b[0;32m    229\u001b[0m \u001b[1;33m\u001b[0m\u001b[0m\n",
      "\u001b[1;32mC:\\GitHub\\fivecentplots\\fivecentplots\\fcp.py\u001b[0m in \u001b[0;36mplotter\u001b[1;34m(plot_func, **kwargs)\u001b[0m\n\u001b[0;32m    675\u001b[0m \u001b[1;33m\u001b[0m\u001b[0m\n\u001b[0;32m    676\u001b[0m         \u001b[1;31m# Make the figure\u001b[0m\u001b[1;33m\u001b[0m\u001b[1;33m\u001b[0m\u001b[0m\n\u001b[1;32m--> 677\u001b[1;33m         \u001b[0mdd\u001b[0m \u001b[1;33m=\u001b[0m \u001b[0mlayout\u001b[0m\u001b[1;33m.\u001b[0m\u001b[0mmake_figure\u001b[0m\u001b[1;33m(\u001b[0m\u001b[0mdd\u001b[0m\u001b[1;33m,\u001b[0m \u001b[1;33m**\u001b[0m\u001b[0mkwargs\u001b[0m\u001b[1;33m)\u001b[0m\u001b[1;33m\u001b[0m\u001b[0m\n\u001b[0m\u001b[0;32m    678\u001b[0m \u001b[1;33m\u001b[0m\u001b[0m\n\u001b[0;32m    679\u001b[0m         \u001b[1;31m# Turn off empty subplots\u001b[0m\u001b[1;33m\u001b[0m\u001b[1;33m\u001b[0m\u001b[0m\n",
      "\u001b[1;32mC:\\GitHub\\fivecentplots\\fivecentplots\\engines\\bokeh.py\u001b[0m in \u001b[0;36mmake_figure\u001b[1;34m(self, data, **kwargs)\u001b[0m\n\u001b[0;32m    167\u001b[0m         \u001b[0mself\u001b[0m\u001b[1;33m.\u001b[0m\u001b[0mupdate_wrap\u001b[0m\u001b[1;33m(\u001b[0m\u001b[0mdata\u001b[0m\u001b[1;33m,\u001b[0m \u001b[0mkwargs\u001b[0m\u001b[1;33m)\u001b[0m\u001b[1;33m\u001b[0m\u001b[0m\n\u001b[0;32m    168\u001b[0m         \u001b[0mself\u001b[0m\u001b[1;33m.\u001b[0m\u001b[0mset_label_text\u001b[0m\u001b[1;33m(\u001b[0m\u001b[0mdata\u001b[0m\u001b[1;33m,\u001b[0m \u001b[1;33m**\u001b[0m\u001b[0mkwargs\u001b[0m\u001b[1;33m)\u001b[0m\u001b[1;33m\u001b[0m\u001b[0m\n\u001b[1;32m--> 169\u001b[1;33m         \u001b[0mdata\u001b[0m \u001b[1;33m=\u001b[0m \u001b[0mself\u001b[0m\u001b[1;33m.\u001b[0m\u001b[0mget_element_sizes\u001b[0m\u001b[1;33m(\u001b[0m\u001b[0mdata\u001b[0m\u001b[1;33m)\u001b[0m\u001b[1;33m\u001b[0m\u001b[0m\n\u001b[0m\u001b[0;32m    170\u001b[0m         \u001b[0mself\u001b[0m\u001b[1;33m.\u001b[0m\u001b[0mget_figure_size\u001b[0m\u001b[1;33m(\u001b[0m\u001b[0mdata\u001b[0m\u001b[1;33m,\u001b[0m \u001b[1;33m**\u001b[0m\u001b[0mkwargs\u001b[0m\u001b[1;33m)\u001b[0m\u001b[1;33m\u001b[0m\u001b[0m\n\u001b[0;32m    171\u001b[0m \u001b[1;33m\u001b[0m\u001b[0m\n",
      "\u001b[1;32mC:\\GitHub\\fivecentplots\\fivecentplots\\engines\\bokeh.py\u001b[0m in \u001b[0;36mget_element_sizes\u001b[1;34m(self, data)\u001b[0m\n\u001b[0;32m    132\u001b[0m \u001b[1;33m\u001b[0m\u001b[0m\n\u001b[0;32m    133\u001b[0m         \u001b[1;31m# Ticks (rough)\u001b[0m\u001b[1;33m\u001b[0m\u001b[1;33m\u001b[0m\u001b[0m\n\u001b[1;32m--> 134\u001b[1;33m         \u001b[0mxlab\u001b[0m \u001b[1;33m=\u001b[0m \u001b[1;34m'%s.0'\u001b[0m \u001b[1;33m%\u001b[0m \u001b[0mint\u001b[0m\u001b[1;33m(\u001b[0m\u001b[0mdata\u001b[0m\u001b[1;33m.\u001b[0m\u001b[0mranges\u001b[0m\u001b[1;33m[\u001b[0m\u001b[1;36m0\u001b[0m\u001b[1;33m,\u001b[0m \u001b[1;36m0\u001b[0m\u001b[1;33m]\u001b[0m\u001b[1;33m[\u001b[0m\u001b[1;34m'xmax'\u001b[0m\u001b[1;33m]\u001b[0m\u001b[1;33m)\u001b[0m\u001b[1;33m\u001b[0m\u001b[0m\n\u001b[0m\u001b[0;32m    135\u001b[0m         \u001b[0mylab\u001b[0m \u001b[1;33m=\u001b[0m \u001b[1;34m'%s.0'\u001b[0m \u001b[1;33m%\u001b[0m \u001b[0mint\u001b[0m\u001b[1;33m(\u001b[0m\u001b[0mdata\u001b[0m\u001b[1;33m.\u001b[0m\u001b[0mranges\u001b[0m\u001b[1;33m[\u001b[0m\u001b[1;36m0\u001b[0m\u001b[1;33m,\u001b[0m \u001b[1;36m0\u001b[0m\u001b[1;33m]\u001b[0m\u001b[1;33m[\u001b[0m\u001b[1;34m'ymax'\u001b[0m\u001b[1;33m]\u001b[0m\u001b[1;33m)\u001b[0m\u001b[1;33m\u001b[0m\u001b[0m\n\u001b[0;32m    136\u001b[0m         self.axes.size[0] += utl.get_text_dimensions(xlab,\n",
      "\u001b[1;31mTypeError\u001b[0m: int() argument must be a string, a bytes-like object or a number, not 'NoneType'"
     ]
    }
   ],
   "source": [
    "fcp.plot(df, x='Die', y='I [A]', show=SHOW, \n",
    "         filter='Substrate==\"Si\" & Target Wavelength==450 & Boost Level==0.2 & Temperature [C]==25 & Voltage==1.5')"
   ]
  },
  {
   "cell_type": "markdown",
   "metadata": {},
   "source": [
    "### Time series"
   ]
  },
  {
   "cell_type": "markdown",
   "metadata": {},
   "source": [
    "Similarly, a DataFrame containing time series data can be plotted:"
   ]
  },
  {
   "cell_type": "code",
   "execution_count": null,
   "metadata": {},
   "outputs": [],
   "source": [
    "fcp.plot(ts, x='Date', y='Happiness Quotient', markers=False, ax_size=[1000, 250])"
   ]
  },
  {
   "cell_type": "markdown",
   "metadata": {
    "collapsed": true
   },
   "source": [
    "## Secondary x|y plots"
   ]
  },
  {
   "cell_type": "markdown",
   "metadata": {},
   "source": [
    "### Shared x-axis (twin_x)"
   ]
  },
  {
   "cell_type": "code",
   "execution_count": null,
   "metadata": {},
   "outputs": [],
   "source": [
    "fcp.plot(df, x='Voltage', y=['Voltage', 'I [A]'], twin_x=True, show=SHOW, legend='Die', \n",
    "         filter='Substrate==\"Si\" & Target Wavelength==450 & Boost Level==0.2 & Temperature [C]==25 & Die==\"(-1,2)\"')"
   ]
  },
  {
   "cell_type": "markdown",
   "metadata": {},
   "source": [
    "### Shared y-axis (twin_y)"
   ]
  },
  {
   "cell_type": "code",
   "execution_count": null,
   "metadata": {},
   "outputs": [],
   "source": [
    "fcp.plot(df, x=['Voltage', 'I [A]'], y='Voltage', legend='Die', twin_y=True, show=SHOW, \n",
    "         filter='Substrate==\"Si\" & Target Wavelength==450 & Boost Level==0.2 & Temperature [C]==25 & Die==\"(-1,2)\"')"
   ]
  },
  {
   "cell_type": "markdown",
   "metadata": {},
   "source": [
    "## Multiple x & y values"
   ]
  },
  {
   "cell_type": "markdown",
   "metadata": {},
   "source": [
    "Instead of sharing (or twinning) one <i>independent</i> axis across a primary and secondary <i>dependent</i> axis, we can plot multiple columns of data on the same dependent axis.  In this case, all dependent values share the same limits on the plot."
   ]
  },
  {
   "cell_type": "markdown",
   "metadata": {},
   "source": [
    "### Multiple y only"
   ]
  },
  {
   "cell_type": "code",
   "execution_count": null,
   "metadata": {},
   "outputs": [],
   "source": [
    "fcp.plot(df, x='Voltage', y=['Boost Level', 'I [A]'], legend='Die', show=SHOW, \n",
    "         filter='Substrate==\"Si\" & Target Wavelength==450 & Boost Level==0.2 & Temperature [C]==25')"
   ]
  },
  {
   "cell_type": "markdown",
   "metadata": {},
   "source": [
    "### Multiple x only"
   ]
  },
  {
   "cell_type": "code",
   "execution_count": null,
   "metadata": {},
   "outputs": [],
   "source": [
    "fcp.plot(df, x=['Boost Level', 'I [A]'], y='Voltage', legend='Die', show=SHOW, \n",
    "         filter='Substrate==\"Si\" & Target Wavelength==450 & Boost Level==0.2 & Temperature [C]==25')"
   ]
  },
  {
   "cell_type": "markdown",
   "metadata": {},
   "source": [
    "### Both"
   ]
  },
  {
   "cell_type": "code",
   "execution_count": null,
   "metadata": {},
   "outputs": [],
   "source": [
    "fcp.plot(df, x=['Boost Level', 'I [A]'], y=['Voltage', 'Temperature [C]'], legend='Die', show=SHOW, \n",
    "         filter='Substrate==\"Si\" & Target Wavelength==450 & Boost Level==0.2 & Temperature [C]==25')"
   ]
  },
  {
   "cell_type": "markdown",
   "metadata": {},
   "source": [
    "## Grid plots"
   ]
  },
  {
   "cell_type": "markdown",
   "metadata": {},
   "source": [
    "### Row plot"
   ]
  },
  {
   "cell_type": "markdown",
   "metadata": {},
   "source": [
    "Create a unique plot for each unique value of the \"row\" column in the specified DataFrame.  Plots are arranged row by row in a single column.  Each row contains a label indicating the unique value of the \"row\" column."
   ]
  },
  {
   "cell_type": "code",
   "execution_count": null,
   "metadata": {},
   "outputs": [],
   "source": []
  },
  {
   "cell_type": "code",
   "execution_count": 257,
   "metadata": {},
   "outputs": [
    {
     "name": "stdout",
     "output_type": "stream",
     "text": [
      "364.125\n",
      "286.5\n",
      "286.5\n"
     ]
    },
    {
     "data": {
      "text/html": [
       "\n",
       "\n",
       "\n",
       "\n",
       "<!DOCTYPE html>\n",
       "<html lang=\"en\">\n",
       "  \n",
       "  <head>\n",
       "    \n",
       "      <meta charset=\"utf-8\">\n",
       "      <title>Bokeh Plot</title>\n",
       "      \n",
       "      \n",
       "        \n",
       "          \n",
       "        <link rel=\"stylesheet\" href=\"https://cdn.pydata.org/bokeh/release/bokeh-1.1.0.min.css\" type=\"text/css\" />\n",
       "        \n",
       "        \n",
       "          \n",
       "        <script type=\"text/javascript\" src=\"https://cdn.pydata.org/bokeh/release/bokeh-1.1.0.min.js\"></script>\n",
       "        <script type=\"text/javascript\">\n",
       "            Bokeh.set_log_level(\"info\");\n",
       "        </script>\n",
       "        \n",
       "      \n",
       "      \n",
       "    \n",
       "  </head>\n",
       "  \n",
       "  \n",
       "  <body>\n",
       "    \n",
       "      \n",
       "        \n",
       "          \n",
       "          \n",
       "            \n",
       "              <div class=\"bk-root\" id=\"207eb6ec-ad6a-4fe5-9dbc-a603e2fea06c\" data-root-id=\"33728\"></div>\n",
       "            \n",
       "          \n",
       "        \n",
       "      \n",
       "      \n",
       "        <script type=\"application/json\" id=\"34272\">\n",
       "          {\"71902877-ccb4-4e98-9e2e-e7e25fe2fb9e\":{\"roots\":{\"references\":[{\"attributes\":{},\"id\":\"33579\",\"type\":\"BasicTicker\"},{\"attributes\":{},\"id\":\"33782\",\"type\":\"UnionRenderers\"},{\"attributes\":{\"overlay\":{\"id\":\"33775\",\"type\":\"BoxAnnotation\"}},\"id\":\"33617\",\"type\":\"BoxZoomTool\"},{\"attributes\":{},\"id\":\"33771\",\"type\":\"UnionRenderers\"},{\"attributes\":{},\"id\":\"33618\",\"type\":\"SaveTool\"},{\"attributes\":{\"callback\":null,\"data\":{\"x\":{\"__ndarray__\":\"AAAAAAAAAACamZmZmZm5P5qZmZmZmck/MzMzMzMz0z+amZmZmZnZPwAAAAAAAOA/MzMzMzMz4z9mZmZmZmbmP5qZmZmZmek/zczMzMzM7D8AAAAAAADwP5qZmZmZmfE/MzMzMzMz8z/NzMzMzMz0P2ZmZmZmZvY/AAAAAAAA+D+amZmZmZn5Pw==\",\"dtype\":\"float64\",\"shape\":[17]},\"y\":{\"__ndarray__\":\"AAAAAAAAAAAAAAAAAAAAAAAAAAAAAAAAAAAAAAAAAAAAAAAAAAAAAAAAAAAAAAAAAAAAAAAAAAAAAAAAAAAAAAAAAAAAAAAA/Knx0k1iQD+4+qAdJtBWP1/b7Fkh9oM/ZTkJpS+EnD9JMNXMWgrAP86luKrsu9o/xRaCHJQw7z/Opbiq7Lv6Pw==\",\"dtype\":\"float64\",\"shape\":[17]}},\"selected\":{\"id\":\"33772\",\"type\":\"Selection\"},\"selection_policy\":{\"id\":\"33771\",\"type\":\"UnionRenderers\"}},\"id\":\"33678\",\"type\":\"ColumnDataSource\"},{\"attributes\":{},\"id\":\"33769\",\"type\":\"UnionRenderers\"},{\"attributes\":{},\"id\":\"33770\",\"type\":\"Selection\"},{\"attributes\":{},\"id\":\"33781\",\"type\":\"Selection\"},{\"attributes\":{\"dimension\":1,\"grid_line_color\":{\"value\":\"#ffffff\"},\"grid_line_width\":{\"value\":1.3},\"minor_grid_line_width\":{\"value\":0.5},\"ticker\":{\"id\":\"33579\",\"type\":\"BasicTicker\"}},\"id\":\"33582\",\"type\":\"Grid\"},{\"attributes\":{},\"id\":\"33774\",\"type\":\"Selection\"},{\"attributes\":{\"data_source\":{\"id\":\"33673\",\"type\":\"ColumnDataSource\"},\"glyph\":{\"id\":\"33674\",\"type\":\"Line\"},\"hover_glyph\":null,\"muted_glyph\":null,\"nonselection_glyph\":{\"id\":\"33675\",\"type\":\"Line\"},\"selection_glyph\":null,\"view\":{\"id\":\"33677\",\"type\":\"CDSView\"}},\"id\":\"33676\",\"type\":\"GlyphRenderer\"},{\"attributes\":{\"line_color\":\"#4b72b0\",\"x\":{\"field\":\"x\"},\"y\":{\"field\":\"y\"}},\"id\":\"33634\",\"type\":\"Line\"},{\"attributes\":{\"callback\":null},\"id\":\"33597\",\"type\":\"DataRange1d\"},{\"attributes\":{\"overlay\":{\"id\":\"33762\",\"type\":\"BoxAnnotation\"}},\"id\":\"33585\",\"type\":\"BoxZoomTool\"},{\"attributes\":{},\"id\":\"33588\",\"type\":\"HelpTool\"},{\"attributes\":{},\"id\":\"33772\",\"type\":\"Selection\"},{\"attributes\":{\"grid_line_color\":{\"value\":\"#ffffff\"},\"grid_line_width\":{\"value\":1.3},\"minor_grid_line_width\":{\"value\":0.5},\"ticker\":{\"id\":\"33574\",\"type\":\"BasicTicker\"}},\"id\":\"33577\",\"type\":\"Grid\"},{\"attributes\":{\"data_source\":{\"id\":\"33688\",\"type\":\"ColumnDataSource\"},\"glyph\":{\"id\":\"33689\",\"type\":\"Circle\"},\"hover_glyph\":null,\"muted_glyph\":null,\"nonselection_glyph\":{\"id\":\"33690\",\"type\":\"Circle\"},\"selection_glyph\":null,\"view\":{\"id\":\"33692\",\"type\":\"CDSView\"}},\"id\":\"33691\",\"type\":\"GlyphRenderer\"},{\"attributes\":{},\"id\":\"33556\",\"type\":\"HelpTool\"},{\"attributes\":{},\"id\":\"33620\",\"type\":\"HelpTool\"},{\"attributes\":{\"overlay\":{\"id\":\"33747\",\"type\":\"BoxAnnotation\"}},\"id\":\"33553\",\"type\":\"BoxZoomTool\"},{\"attributes\":{\"source\":{\"id\":\"33628\",\"type\":\"ColumnDataSource\"}},\"id\":\"33632\",\"type\":\"CDSView\"},{\"attributes\":{},\"id\":\"33767\",\"type\":\"UnionRenderers\"},{\"attributes\":{\"fill_alpha\":{\"value\":0.1},\"fill_color\":{\"value\":\"#1f77b4\"},\"line_alpha\":{\"value\":0.1},\"line_color\":{\"value\":\"#1f77b4\"},\"size\":{\"units\":\"screen\",\"value\":9},\"x\":{\"field\":\"x\"},\"y\":{\"field\":\"y\"}},\"id\":\"33690\",\"type\":\"Circle\"},{\"attributes\":{\"background_fill_color\":{\"value\":\"#eaeaea\"},\"below\":[{\"id\":\"33605\",\"type\":\"LinearAxis\"}],\"center\":[{\"id\":\"33609\",\"type\":\"Grid\"},{\"id\":\"33614\",\"type\":\"Grid\"}],\"left\":[{\"id\":\"33610\",\"type\":\"LinearAxis\"}],\"plot_height\":286,\"plot_width\":286,\"renderers\":[{\"id\":\"33691\",\"type\":\"GlyphRenderer\"},{\"id\":\"33696\",\"type\":\"GlyphRenderer\"},{\"id\":\"33701\",\"type\":\"GlyphRenderer\"},{\"id\":\"33706\",\"type\":\"GlyphRenderer\"},{\"id\":\"33711\",\"type\":\"GlyphRenderer\"},{\"id\":\"33716\",\"type\":\"GlyphRenderer\"}],\"title\":{\"id\":\"33734\",\"type\":\"Title\"},\"toolbar\":{\"id\":\"33621\",\"type\":\"Toolbar\"},\"x_range\":{\"id\":\"33597\",\"type\":\"DataRange1d\"},\"x_scale\":{\"id\":\"33601\",\"type\":\"LinearScale\"},\"y_range\":{\"id\":\"33599\",\"type\":\"DataRange1d\"},\"y_scale\":{\"id\":\"33603\",\"type\":\"LinearScale\"}},\"id\":\"33596\",\"subtype\":\"Figure\",\"type\":\"Plot\"},{\"attributes\":{\"callback\":null},\"id\":\"33565\",\"type\":\"DataRange1d\"},{\"attributes\":{\"active_drag\":\"auto\",\"active_inspect\":\"auto\",\"active_multi\":null,\"active_scroll\":\"auto\",\"active_tap\":\"auto\",\"tools\":[{\"id\":\"33583\",\"type\":\"PanTool\"},{\"id\":\"33584\",\"type\":\"WheelZoomTool\"},{\"id\":\"33585\",\"type\":\"BoxZoomTool\"},{\"id\":\"33586\",\"type\":\"SaveTool\"},{\"id\":\"33587\",\"type\":\"ResetTool\"},{\"id\":\"33588\",\"type\":\"HelpTool\"}]},\"id\":\"33589\",\"type\":\"Toolbar\"},{\"attributes\":{\"line_color\":\"#c34e52\",\"x\":{\"field\":\"x\"},\"y\":{\"field\":\"y\"}},\"id\":\"33674\",\"type\":\"Line\"},{\"attributes\":{},\"id\":\"33777\",\"type\":\"Selection\"},{\"attributes\":{\"data_source\":{\"id\":\"33678\",\"type\":\"ColumnDataSource\"},\"glyph\":{\"id\":\"33679\",\"type\":\"Square\"},\"hover_glyph\":null,\"muted_glyph\":null,\"nonselection_glyph\":{\"id\":\"33680\",\"type\":\"Square\"},\"selection_glyph\":null,\"view\":{\"id\":\"33682\",\"type\":\"CDSView\"}},\"id\":\"33681\",\"type\":\"GlyphRenderer\"},{\"attributes\":{\"active_drag\":\"auto\",\"active_inspect\":\"auto\",\"active_multi\":null,\"active_scroll\":\"auto\",\"active_tap\":\"auto\",\"tools\":[{\"id\":\"33615\",\"type\":\"PanTool\"},{\"id\":\"33616\",\"type\":\"WheelZoomTool\"},{\"id\":\"33617\",\"type\":\"BoxZoomTool\"},{\"id\":\"33618\",\"type\":\"SaveTool\"},{\"id\":\"33619\",\"type\":\"ResetTool\"},{\"id\":\"33620\",\"type\":\"HelpTool\"}]},\"id\":\"33621\",\"type\":\"Toolbar\"},{\"attributes\":{\"children\":[{\"id\":\"33532\",\"subtype\":\"Figure\",\"type\":\"Plot\"},{\"id\":\"33564\",\"subtype\":\"Figure\",\"type\":\"Plot\"},{\"id\":\"33596\",\"subtype\":\"Figure\",\"type\":\"Plot\"}]},\"id\":\"33728\",\"type\":\"Column\"},{\"attributes\":{\"fill_alpha\":{\"value\":0.1},\"fill_color\":{\"value\":\"#1f77b4\"},\"line_alpha\":{\"value\":0.1},\"line_color\":{\"value\":\"#1f77b4\"},\"size\":{\"units\":\"screen\",\"value\":9},\"x\":{\"field\":\"x\"},\"y\":{\"field\":\"y\"}},\"id\":\"33680\",\"type\":\"Square\"},{\"attributes\":{\"axis_label\":\"I [A]\",\"axis_label_text_color\":{\"value\":\"#000000\"},\"axis_label_text_font\":\"sans-serif\",\"axis_label_text_font_size\":{\"value\":\"14pt\"},\"formatter\":{\"id\":\"33742\",\"type\":\"BasicTickFormatter\"},\"major_label_text_font_size\":{\"value\":\"13pt\"},\"ticker\":{\"id\":\"33579\",\"type\":\"BasicTicker\"}},\"id\":\"33578\",\"type\":\"LinearAxis\"},{\"attributes\":{\"source\":{\"id\":\"33643\",\"type\":\"ColumnDataSource\"}},\"id\":\"33647\",\"type\":\"CDSView\"},{\"attributes\":{\"source\":{\"id\":\"33668\",\"type\":\"ColumnDataSource\"}},\"id\":\"33672\",\"type\":\"CDSView\"},{\"attributes\":{\"source\":{\"id\":\"33673\",\"type\":\"ColumnDataSource\"}},\"id\":\"33677\",\"type\":\"CDSView\"},{\"attributes\":{\"line_color\":\"#54a767\",\"x\":{\"field\":\"x\"},\"y\":{\"field\":\"y\"}},\"id\":\"33684\",\"type\":\"Line\"},{\"attributes\":{},\"id\":\"33615\",\"type\":\"PanTool\"},{\"attributes\":{},\"id\":\"33780\",\"type\":\"UnionRenderers\"},{\"attributes\":{},\"id\":\"33569\",\"type\":\"LinearScale\"},{\"attributes\":{},\"id\":\"33551\",\"type\":\"PanTool\"},{\"attributes\":{\"fill_color\":{\"value\":null},\"line_color\":{\"value\":\"#4b72b0\"},\"size\":{\"units\":\"screen\",\"value\":9},\"x\":{\"field\":\"x\"},\"y\":{\"field\":\"y\"}},\"id\":\"33689\",\"type\":\"Circle\"},{\"attributes\":{},\"id\":\"33784\",\"type\":\"UnionRenderers\"},{\"attributes\":{\"source\":{\"id\":\"33633\",\"type\":\"ColumnDataSource\"}},\"id\":\"33637\",\"type\":\"CDSView\"},{\"attributes\":{\"fill_color\":{\"value\":null},\"line_color\":{\"value\":\"#c34e52\"},\"size\":{\"units\":\"screen\",\"value\":9},\"x\":{\"field\":\"x\"},\"y\":{\"field\":\"y\"}},\"id\":\"33639\",\"type\":\"Cross\"},{\"attributes\":{\"text\":\"\"},\"id\":\"33734\",\"type\":\"Title\"},{\"attributes\":{},\"id\":\"33552\",\"type\":\"WheelZoomTool\"},{\"attributes\":{\"callback\":null,\"data\":{\"x\":{\"__ndarray__\":\"AAAAAAAAAACamZmZmZm5P5qZmZmZmck/MzMzMzMz0z+amZmZmZnZPwAAAAAAAOA/MzMzMzMz4z9mZmZmZmbmP5qZmZmZmek/zczMzMzM7D8AAAAAAADwP5qZmZmZmfE/MzMzMzMz8z/NzMzMzMz0P2ZmZmZmZvY/AAAAAAAA+D+amZmZmZn5Pw==\",\"dtype\":\"float64\",\"shape\":[17]},\"y\":{\"__ndarray__\":\"AAAAAAAAAAAAAAAAAAAAAAAAAAAAAAAAAAAAAAAAAAAAAAAAAAAAAAAAAAAAAAAAAAAAAAAAAAAAAAAAAAAAAAAAAAAAAAAA/Knx0k1iQD+4+qAdJtBWP1/b7Fkh9oM/ZTkJpS+EnD9JMNXMWgrAP86luKrsu9o/xRaCHJQw7z/Opbiq7Lv6Pw==\",\"dtype\":\"float64\",\"shape\":[17]}},\"selected\":{\"id\":\"33774\",\"type\":\"Selection\"},\"selection_policy\":{\"id\":\"33773\",\"type\":\"UnionRenderers\"}},\"id\":\"33683\",\"type\":\"ColumnDataSource\"},{\"attributes\":{\"background_fill_color\":{\"value\":\"#eaeaea\"},\"below\":[{\"id\":\"33541\",\"type\":\"LinearAxis\"}],\"center\":[{\"id\":\"33545\",\"type\":\"Grid\"},{\"id\":\"33550\",\"type\":\"Grid\"}],\"left\":[{\"id\":\"33546\",\"type\":\"LinearAxis\"}],\"plot_height\":286,\"plot_width\":364,\"renderers\":[{\"id\":\"33631\",\"type\":\"GlyphRenderer\"},{\"id\":\"33636\",\"type\":\"GlyphRenderer\"},{\"id\":\"33641\",\"type\":\"GlyphRenderer\"},{\"id\":\"33646\",\"type\":\"GlyphRenderer\"},{\"id\":\"33651\",\"type\":\"GlyphRenderer\"},{\"id\":\"33656\",\"type\":\"GlyphRenderer\"},{\"id\":\"33721\",\"type\":\"GlyphRenderer\"}],\"right\":[{\"id\":\"33723\",\"type\":\"Legend\"}],\"title\":{\"id\":\"33730\",\"type\":\"Title\"},\"toolbar\":{\"id\":\"33557\",\"type\":\"Toolbar\"},\"x_range\":{\"id\":\"33533\",\"type\":\"DataRange1d\"},\"x_scale\":{\"id\":\"33537\",\"type\":\"LinearScale\"},\"y_range\":{\"id\":\"33535\",\"type\":\"DataRange1d\"},\"y_scale\":{\"id\":\"33539\",\"type\":\"LinearScale\"}},\"id\":\"33532\",\"subtype\":\"Figure\",\"type\":\"Plot\"},{\"attributes\":{\"background_fill_color\":{\"value\":\"#eaeaea\"},\"below\":[{\"id\":\"33573\",\"type\":\"LinearAxis\"}],\"center\":[{\"id\":\"33577\",\"type\":\"Grid\"},{\"id\":\"33582\",\"type\":\"Grid\"}],\"left\":[{\"id\":\"33578\",\"type\":\"LinearAxis\"}],\"plot_height\":286,\"plot_width\":286,\"renderers\":[{\"id\":\"33661\",\"type\":\"GlyphRenderer\"},{\"id\":\"33666\",\"type\":\"GlyphRenderer\"},{\"id\":\"33671\",\"type\":\"GlyphRenderer\"},{\"id\":\"33676\",\"type\":\"GlyphRenderer\"},{\"id\":\"33681\",\"type\":\"GlyphRenderer\"},{\"id\":\"33686\",\"type\":\"GlyphRenderer\"}],\"title\":{\"id\":\"33732\",\"type\":\"Title\"},\"toolbar\":{\"id\":\"33589\",\"type\":\"Toolbar\"},\"x_range\":{\"id\":\"33565\",\"type\":\"DataRange1d\"},\"x_scale\":{\"id\":\"33569\",\"type\":\"LinearScale\"},\"y_range\":{\"id\":\"33567\",\"type\":\"DataRange1d\"},\"y_scale\":{\"id\":\"33571\",\"type\":\"LinearScale\"}},\"id\":\"33564\",\"subtype\":\"Figure\",\"type\":\"Plot\"},{\"attributes\":{\"data_source\":{\"id\":\"33633\",\"type\":\"ColumnDataSource\"},\"glyph\":{\"id\":\"33634\",\"type\":\"Line\"},\"hover_glyph\":null,\"muted_glyph\":null,\"nonselection_glyph\":{\"id\":\"33635\",\"type\":\"Line\"},\"selection_glyph\":null,\"view\":{\"id\":\"33637\",\"type\":\"CDSView\"}},\"id\":\"33636\",\"type\":\"GlyphRenderer\"},{\"attributes\":{},\"id\":\"33760\",\"type\":\"UnionRenderers\"},{\"attributes\":{},\"id\":\"33783\",\"type\":\"Selection\"},{\"attributes\":{},\"id\":\"33768\",\"type\":\"Selection\"},{\"attributes\":{\"fill_color\":{\"value\":null},\"line_color\":{\"value\":\"#c34e52\"},\"size\":{\"units\":\"screen\",\"value\":9},\"x\":{\"field\":\"x\"},\"y\":{\"field\":\"y\"}},\"id\":\"33669\",\"type\":\"Cross\"},{\"attributes\":{},\"id\":\"33766\",\"type\":\"Selection\"},{\"attributes\":{},\"id\":\"33574\",\"type\":\"BasicTicker\"},{\"attributes\":{},\"id\":\"33763\",\"type\":\"UnionRenderers\"},{\"attributes\":{\"callback\":null,\"data\":{\"x\":{\"__ndarray__\":\"AAAAAAAAAACamZmZmZm5P5qZmZmZmck/MzMzMzMz0z+amZmZmZnZPwAAAAAAAOA/MzMzMzMz4z9mZmZmZmbmP5qZmZmZmek/zczMzMzM7D8AAAAAAADwP5qZmZmZmfE/MzMzMzMz8z/NzMzMzMz0P2ZmZmZmZvY/AAAAAAAA+D+amZmZmZn5Pw==\",\"dtype\":\"float64\",\"shape\":[17]},\"y\":{\"__ndarray__\":\"AAAAAAAAAAAAAAAAAAAAAAAAAAAAAAAAAAAAAAAAAAAAAAAAAAAAAAAAAAAAAAAAAAAAAAAAAAAAAAAAAAAAAAAAAAAAAAAAAAAAAAAAAAD8qfHSTWJQP3jpJjEIrHw/Gy/dJAaBlT+yne+nxku3P39qvHSTGNQ/N4lBYOXQ5j8/NV66SQz0Pw==\",\"dtype\":\"float64\",\"shape\":[17]}},\"selected\":{\"id\":\"33749\",\"type\":\"Selection\"},\"selection_policy\":{\"id\":\"33748\",\"type\":\"UnionRenderers\"}},\"id\":\"33628\",\"type\":\"ColumnDataSource\"},{\"attributes\":{},\"id\":\"33583\",\"type\":\"PanTool\"},{\"attributes\":{\"line_alpha\":0.1,\"line_color\":\"#1f77b4\",\"x\":{\"field\":\"x\"},\"y\":{\"field\":\"y\"}},\"id\":\"33675\",\"type\":\"Line\"},{\"attributes\":{\"bottom_units\":\"screen\",\"fill_alpha\":{\"value\":0.5},\"fill_color\":{\"value\":\"lightgrey\"},\"left_units\":\"screen\",\"level\":\"overlay\",\"line_alpha\":{\"value\":1.0},\"line_color\":{\"value\":\"black\"},\"line_dash\":[4,4],\"line_width\":{\"value\":2},\"render_mode\":\"css\",\"right_units\":\"screen\",\"top_units\":\"screen\"},\"id\":\"33775\",\"type\":\"BoxAnnotation\"},{\"attributes\":{\"line_alpha\":0.1,\"line_color\":\"#1f77b4\",\"x\":{\"field\":\"x\"},\"y\":{\"field\":\"y\"}},\"id\":\"33635\",\"type\":\"Line\"},{\"attributes\":{},\"id\":\"33778\",\"type\":\"UnionRenderers\"},{\"attributes\":{\"data_source\":{\"id\":\"33628\",\"type\":\"ColumnDataSource\"},\"glyph\":{\"id\":\"33629\",\"type\":\"Circle\"},\"hover_glyph\":null,\"muted_glyph\":null,\"nonselection_glyph\":{\"id\":\"33630\",\"type\":\"Circle\"},\"selection_glyph\":null,\"view\":{\"id\":\"33632\",\"type\":\"CDSView\"}},\"id\":\"33631\",\"type\":\"GlyphRenderer\"},{\"attributes\":{\"fill_alpha\":{\"value\":0.1},\"fill_color\":{\"value\":\"#1f77b4\"},\"line_alpha\":{\"value\":0.1},\"line_color\":{\"value\":\"#1f77b4\"},\"size\":{\"units\":\"screen\",\"value\":9},\"x\":{\"field\":\"x\"},\"y\":{\"field\":\"y\"}},\"id\":\"33640\",\"type\":\"Cross\"},{\"attributes\":{\"callback\":null,\"data\":{\"x\":{\"__ndarray__\":\"AAAAAAAAAACamZmZmZm5P5qZmZmZmck/MzMzMzMz0z+amZmZmZnZPwAAAAAAAOA/MzMzMzMz4z9mZmZmZmbmP5qZmZmZmek/zczMzMzM7D8AAAAAAADwP5qZmZmZmfE/MzMzMzMz8z/NzMzMzMz0P2ZmZmZmZvY/AAAAAAAA+D+amZmZmZn5Pw==\",\"dtype\":\"float64\",\"shape\":[17]},\"y\":{\"__ndarray__\":\"AAAAAAAAAAAAAAAAAAAAAAAAAAAAAAAAAAAAAAAAAAAAAAAAAAAAAAAAAAAAAAAAAAAAAAAAAAAAAAAAAAAAAAAAAAAAAAAA/Knx0k1iUD+Qa0PFOH9TPx3+mqxRD4E/dEaU9gZfmD9Cz2bV52q7Pw0CK4cW2dY/Di2yne+n6j8NAiuHFtn2Pw==\",\"dtype\":\"float64\",\"shape\":[17]}},\"selected\":{\"id\":\"33770\",\"type\":\"Selection\"},\"selection_policy\":{\"id\":\"33769\",\"type\":\"UnionRenderers\"}},\"id\":\"33673\",\"type\":\"ColumnDataSource\"},{\"attributes\":{},\"id\":\"33787\",\"type\":\"Selection\"},{\"attributes\":{\"fill_color\":{\"value\":null},\"line_color\":{\"value\":\"#4b72b0\"},\"size\":{\"units\":\"screen\",\"value\":9},\"x\":{\"field\":\"x\"},\"y\":{\"field\":\"y\"}},\"id\":\"33629\",\"type\":\"Circle\"},{\"attributes\":{\"fill_color\":{\"value\":null},\"line_color\":{\"value\":\"#54a767\"},\"size\":{\"units\":\"screen\",\"value\":9},\"x\":{\"field\":\"x\"},\"y\":{\"field\":\"y\"}},\"id\":\"33679\",\"type\":\"Square\"},{\"attributes\":{},\"id\":\"33773\",\"type\":\"UnionRenderers\"},{\"attributes\":{\"callback\":null,\"data\":{\"x\":{\"__ndarray__\":\"AAAAAAAAAACamZmZmZm5P5qZmZmZmck/MzMzMzMz0z+amZmZmZnZPwAAAAAAAOA/MzMzMzMz4z9mZmZmZmbmP5qZmZmZmek/zczMzMzM7D8AAAAAAADwP5qZmZmZmfE/MzMzMzMz8z/NzMzMzMz0P2ZmZmZmZvY/AAAAAAAA+D+amZmZmZn5Pw==\",\"dtype\":\"float64\",\"shape\":[17]},\"y\":{\"__ndarray__\":\"AAAAAAAAAAAAAAAAAAAAAAAAAAAAAAAAAAAAAAAAAAAAAAAAAAAAAAAAAAAAAAAAAAAAAAAAAAAAAAAAAAAAAAAAAAAAAAAAAAAAAAAAAAD8qfHSTWJQP3jpJjEIrHw/Gy/dJAaBlT+yne+nxku3P39qvHSTGNQ/N4lBYOXQ5j8/NV66SQz0Pw==\",\"dtype\":\"float64\",\"shape\":[17]}},\"selected\":{\"id\":\"33751\",\"type\":\"Selection\"},\"selection_policy\":{\"id\":\"33750\",\"type\":\"UnionRenderers\"}},\"id\":\"33633\",\"type\":\"ColumnDataSource\"},{\"attributes\":{},\"id\":\"33587\",\"type\":\"ResetTool\"},{\"attributes\":{},\"id\":\"33785\",\"type\":\"Selection\"},{\"attributes\":{},\"id\":\"33586\",\"type\":\"SaveTool\"},{\"attributes\":{\"active_drag\":\"auto\",\"active_inspect\":\"auto\",\"active_multi\":null,\"active_scroll\":\"auto\",\"active_tap\":\"auto\",\"tools\":[{\"id\":\"33551\",\"type\":\"PanTool\"},{\"id\":\"33552\",\"type\":\"WheelZoomTool\"},{\"id\":\"33553\",\"type\":\"BoxZoomTool\"},{\"id\":\"33554\",\"type\":\"SaveTool\"},{\"id\":\"33555\",\"type\":\"ResetTool\"},{\"id\":\"33556\",\"type\":\"HelpTool\"}]},\"id\":\"33557\",\"type\":\"Toolbar\"},{\"attributes\":{},\"id\":\"33571\",\"type\":\"LinearScale\"},{\"attributes\":{\"callback\":null,\"data\":{\"x\":{\"__ndarray__\":\"AAAAAAAAAACamZmZmZm5P5qZmZmZmck/MzMzMzMz0z+amZmZmZnZPwAAAAAAAOA/MzMzMzMz4z9mZmZmZmbmP5qZmZmZmek/zczMzMzM7D8AAAAAAADwP5qZmZmZmfE/MzMzMzMz8z/NzMzMzMz0P2ZmZmZmZvY/AAAAAAAA+D+amZmZmZn5Pw==\",\"dtype\":\"float64\",\"shape\":[17]},\"y\":{\"__ndarray__\":\"AAAAAAAAAAAAAAAAAAAAAAAAAAAAAAAAAAAAAAAAAAAAAAAAAAAAAAAAAAAAAAAAAAAAAAAAAAAAAAAAAAAAAAAAAAAAAAAA/Knx0k1iUD+Qa0PFOH9TPx3+mqxRD4E/dEaU9gZfmD9Cz2bV52q7Pw0CK4cW2dY/Di2yne+n6j8NAiuHFtn2Pw==\",\"dtype\":\"float64\",\"shape\":[17]}},\"selected\":{\"id\":\"33768\",\"type\":\"Selection\"},\"selection_policy\":{\"id\":\"33767\",\"type\":\"UnionRenderers\"}},\"id\":\"33668\",\"type\":\"ColumnDataSource\"},{\"attributes\":{},\"id\":\"33584\",\"type\":\"WheelZoomTool\"},{\"attributes\":{\"callback\":null},\"id\":\"33599\",\"type\":\"DataRange1d\"},{\"attributes\":{},\"id\":\"33765\",\"type\":\"UnionRenderers\"},{\"attributes\":{},\"id\":\"33619\",\"type\":\"ResetTool\"},{\"attributes\":{},\"id\":\"33776\",\"type\":\"UnionRenderers\"},{\"attributes\":{\"fill_alpha\":{\"value\":0.1},\"fill_color\":{\"value\":\"#1f77b4\"},\"line_alpha\":{\"value\":0.1},\"line_color\":{\"value\":\"#1f77b4\"},\"size\":{\"units\":\"screen\",\"value\":9},\"x\":{\"field\":\"x\"},\"y\":{\"field\":\"y\"}},\"id\":\"33630\",\"type\":\"Circle\"},{\"attributes\":{\"callback\":null,\"data\":{\"x\":{\"__ndarray__\":\"AAAAAAAAAACamZmZmZm5P5qZmZmZmck/MzMzMzMz0z+amZmZmZnZPwAAAAAAAOA/MzMzMzMz4z9mZmZmZmbmP5qZmZmZmek/zczMzMzM7D8AAAAAAADwP5qZmZmZmfE/MzMzMzMz8z/NzMzMzMz0P2ZmZmZmZvY/AAAAAAAA+D+amZmZmZn5Pw==\",\"dtype\":\"float64\",\"shape\":[17]},\"y\":{\"__ndarray__\":\"AAAAAAAAAAAAAAAAAAAAAAAAAAAAAAAAAAAAAAAAAAAAAAAAAAAAAAAAAAAAAAAAAAAAAAAAAAAAAAAAAAAAAAAAAAAAAAAAAAAAAAAAAAD8qfHSTWJQP3jpJjEIrHw/exSuR+F6lD9aZDvfT423Py2yne+nxtM/MQisHFpk5z8UrkfhehT0Pw==\",\"dtype\":\"float64\",\"shape\":[17]}},\"selected\":{\"id\":\"33753\",\"type\":\"Selection\"},\"selection_policy\":{\"id\":\"33752\",\"type\":\"UnionRenderers\"}},\"id\":\"33638\",\"type\":\"ColumnDataSource\"},{\"attributes\":{\"source\":{\"id\":\"33678\",\"type\":\"ColumnDataSource\"}},\"id\":\"33682\",\"type\":\"CDSView\"},{\"attributes\":{\"formatter\":{\"id\":\"33740\",\"type\":\"BasicTickFormatter\"},\"major_label_text_font_size\":{\"value\":\"13pt\"},\"ticker\":{\"id\":\"33574\",\"type\":\"BasicTicker\"}},\"id\":\"33573\",\"type\":\"LinearAxis\"},{\"attributes\":{},\"id\":\"33786\",\"type\":\"UnionRenderers\"},{\"attributes\":{},\"id\":\"33616\",\"type\":\"WheelZoomTool\"},{\"attributes\":{},\"id\":\"33779\",\"type\":\"Selection\"},{\"attributes\":{},\"id\":\"33537\",\"type\":\"LinearScale\"},{\"attributes\":{\"data_source\":{\"id\":\"33698\",\"type\":\"ColumnDataSource\"},\"glyph\":{\"id\":\"33699\",\"type\":\"Cross\"},\"hover_glyph\":null,\"muted_glyph\":null,\"nonselection_glyph\":{\"id\":\"33700\",\"type\":\"Cross\"},\"selection_glyph\":null,\"view\":{\"id\":\"33702\",\"type\":\"CDSView\"}},\"id\":\"33701\",\"type\":\"GlyphRenderer\"},{\"attributes\":{},\"id\":\"33611\",\"type\":\"BasicTicker\"},{\"attributes\":{\"bottom_units\":\"screen\",\"fill_alpha\":{\"value\":0.5},\"fill_color\":{\"value\":\"lightgrey\"},\"left_units\":\"screen\",\"level\":\"overlay\",\"line_alpha\":{\"value\":1.0},\"line_color\":{\"value\":\"black\"},\"line_dash\":[4,4],\"line_width\":{\"value\":2},\"render_mode\":\"css\",\"right_units\":\"screen\",\"top_units\":\"screen\"},\"id\":\"33747\",\"type\":\"BoxAnnotation\"},{\"attributes\":{\"data_source\":{\"id\":\"33653\",\"type\":\"ColumnDataSource\"},\"glyph\":{\"id\":\"33654\",\"type\":\"Line\"},\"hover_glyph\":null,\"muted_glyph\":null,\"nonselection_glyph\":{\"id\":\"33655\",\"type\":\"Line\"},\"selection_glyph\":null,\"view\":{\"id\":\"33657\",\"type\":\"CDSView\"}},\"id\":\"33656\",\"type\":\"GlyphRenderer\"},{\"attributes\":{\"callback\":null,\"data\":{\"x\":{\"__ndarray__\":\"AAAAAAAAAACamZmZmZm5P5qZmZmZmck/MzMzMzMz0z+amZmZmZnZPwAAAAAAAOA/MzMzMzMz4z9mZmZmZmbmP5qZmZmZmek/zczMzMzM7D8AAAAAAADwP5qZmZmZmfE/MzMzMzMz8z/NzMzMzMz0P2ZmZmZmZvY/AAAAAAAA+D+amZmZmZn5Pw==\",\"dtype\":\"float64\",\"shape\":[17]},\"y\":{\"__ndarray__\":\"AAAAAAAAAAAAAAAAAAAAAAAAAAAAAAAAAAAAAAAAAAAAAAAAAAAAAAAAAAAAAAAAAAAAAAAAAAAAAAAAAAAAAAAAAAAAAAAAAAAAAAAAAAD8qfHSTWJQP3jpJjEIrHw/exSuR+F6lD9aZDvfT423Py2yne+nxtM/MQisHFpk5z8UrkfhehT0Pw==\",\"dtype\":\"float64\",\"shape\":[17]}},\"selected\":{\"id\":\"33755\",\"type\":\"Selection\"},\"selection_policy\":{\"id\":\"33754\",\"type\":\"UnionRenderers\"}},\"id\":\"33643\",\"type\":\"ColumnDataSource\"},{\"attributes\":{\"line_alpha\":0.1,\"line_color\":\"#1f77b4\",\"x\":{\"field\":\"x\"},\"y\":{\"field\":\"y\"}},\"id\":\"33695\",\"type\":\"Line\"},{\"attributes\":{\"bottom_units\":\"screen\",\"fill_alpha\":{\"value\":0.5},\"fill_color\":{\"value\":\"lightgrey\"},\"left_units\":\"screen\",\"level\":\"overlay\",\"line_alpha\":{\"value\":1.0},\"line_color\":{\"value\":\"black\"},\"line_dash\":[4,4],\"line_width\":{\"value\":2},\"render_mode\":\"css\",\"right_units\":\"screen\",\"top_units\":\"screen\"},\"id\":\"33762\",\"type\":\"BoxAnnotation\"},{\"attributes\":{},\"id\":\"33606\",\"type\":\"BasicTicker\"},{\"attributes\":{\"data_source\":{\"id\":\"33668\",\"type\":\"ColumnDataSource\"},\"glyph\":{\"id\":\"33669\",\"type\":\"Cross\"},\"hover_glyph\":null,\"muted_glyph\":null,\"nonselection_glyph\":{\"id\":\"33670\",\"type\":\"Cross\"},\"selection_glyph\":null,\"view\":{\"id\":\"33672\",\"type\":\"CDSView\"}},\"id\":\"33671\",\"type\":\"GlyphRenderer\"},{\"attributes\":{\"line_color\":\"#c34e52\",\"x\":{\"field\":\"x\"},\"y\":{\"field\":\"y\"}},\"id\":\"33644\",\"type\":\"Line\"},{\"attributes\":{\"source\":{\"id\":\"33713\",\"type\":\"ColumnDataSource\"}},\"id\":\"33717\",\"type\":\"CDSView\"},{\"attributes\":{},\"id\":\"33750\",\"type\":\"UnionRenderers\"},{\"attributes\":{\"fill_alpha\":{\"value\":0.1},\"fill_color\":{\"value\":\"#1f77b4\"},\"line_alpha\":{\"value\":0.1},\"line_color\":{\"value\":\"#1f77b4\"},\"size\":{\"units\":\"screen\",\"value\":9},\"x\":{\"field\":\"x\"},\"y\":{\"field\":\"y\"}},\"id\":\"33700\",\"type\":\"Cross\"},{\"attributes\":{\"label\":{\"value\":\"Die\"},\"renderers\":[{\"id\":\"33721\",\"type\":\"GlyphRenderer\"}]},\"id\":\"33724\",\"type\":\"LegendItem\"},{\"attributes\":{},\"id\":\"33754\",\"type\":\"UnionRenderers\"},{\"attributes\":{\"fill_alpha\":{\"value\":0.1},\"fill_color\":{\"value\":\"#1f77b4\"},\"line_alpha\":{\"value\":0.1},\"line_color\":{\"value\":\"#1f77b4\"},\"size\":{\"units\":\"screen\",\"value\":9},\"x\":{\"field\":\"x\"},\"y\":{\"field\":\"y\"}},\"id\":\"33670\",\"type\":\"Cross\"},{\"attributes\":{},\"id\":\"33755\",\"type\":\"Selection\"},{\"attributes\":{\"data_source\":{\"id\":\"33713\",\"type\":\"ColumnDataSource\"},\"glyph\":{\"id\":\"33714\",\"type\":\"Line\"},\"hover_glyph\":null,\"muted_glyph\":null,\"nonselection_glyph\":{\"id\":\"33715\",\"type\":\"Line\"},\"selection_glyph\":null,\"view\":{\"id\":\"33717\",\"type\":\"CDSView\"}},\"id\":\"33716\",\"type\":\"GlyphRenderer\"},{\"attributes\":{\"callback\":null,\"data\":{\"x\":{\"__ndarray__\":\"AAAAAAAAAACamZmZmZm5P5qZmZmZmck/MzMzMzMz0z+amZmZmZnZPwAAAAAAAOA/MzMzMzMz4z9mZmZmZmbmP5qZmZmZmek/zczMzMzM7D8AAAAAAADwP5qZmZmZmfE/MzMzMzMz8z/NzMzMzMz0P2ZmZmZmZvY/AAAAAAAA+D+amZmZmZn5Pw==\",\"dtype\":\"float64\",\"shape\":[17]},\"y\":{\"__ndarray__\":\"AAAAAAAAAAAAAAAAAAAAAAAAAAAAAAAAAAAAAAAAAAAAAAAAAAAAAAAAAAAAAAAAAAAAAAAAAAAAAAAAAAAAAAAAAAAAAAAAAAAAAAAAAABhMlUwKqlTPxWMSuoENIE/+n5qvHSTmD/azvdT46W7PwrXo3A9Ctc/4XoUrkfh6j8K16NwPQr3Pw==\",\"dtype\":\"float64\",\"shape\":[17]}},\"selected\":{\"id\":\"33766\",\"type\":\"Selection\"},\"selection_policy\":{\"id\":\"33765\",\"type\":\"UnionRenderers\"}},\"id\":\"33663\",\"type\":\"ColumnDataSource\"},{\"attributes\":{},\"id\":\"33742\",\"type\":\"BasicTickFormatter\"},{\"attributes\":{\"callback\":null},\"id\":\"33533\",\"type\":\"DataRange1d\"},{\"attributes\":{\"line_color\":\"#4b72b0\",\"x\":{\"field\":\"x\"},\"y\":{\"field\":\"y\"}},\"id\":\"33664\",\"type\":\"Line\"},{\"attributes\":{\"source\":{\"id\":\"33693\",\"type\":\"ColumnDataSource\"}},\"id\":\"33697\",\"type\":\"CDSView\"},{\"attributes\":{\"callback\":null,\"data\":{\"x\":{\"__ndarray__\":\"AAAAAAAAAACamZmZmZm5P5qZmZmZmck/MzMzMzMz0z+amZmZmZnZPwAAAAAAAOA/MzMzMzMz4z9mZmZmZmbmP5qZmZmZmek/zczMzMzM7D8AAAAAAADwP5qZmZmZmfE/MzMzMzMz8z/NzMzMzMz0P2ZmZmZmZvY/AAAAAAAA+D+amZmZmZn5Pw==\",\"dtype\":\"float64\",\"shape\":[17]},\"y\":{\"__ndarray__\":\"AAAAAAAAAAAAAAAAAAAAAAAAAAAAAAAAAAAAAAAAAAAAAAAAAAAAAAAAAAAAAAAAL26jAbwFUj9GJXUCmghrP9IA3gIJin8/u0kMAiuHhj9MN4lBYOWgP4PAyqFFtrM/8tJNYhBYuT+amZmZmZnhPylcj8L1KOw/pHA9Ctej+D+amZmZmZkBQA==\",\"dtype\":\"float64\",\"shape\":[17]}},\"selected\":{\"id\":\"33787\",\"type\":\"Selection\"},\"selection_policy\":{\"id\":\"33786\",\"type\":\"UnionRenderers\"}},\"id\":\"33713\",\"type\":\"ColumnDataSource\"},{\"attributes\":{\"line_alpha\":0.1,\"line_color\":\"#1f77b4\",\"x\":{\"field\":\"x\"},\"y\":{\"field\":\"y\"}},\"id\":\"33705\",\"type\":\"Line\"},{\"attributes\":{\"fill_color\":{\"value\":null},\"line_color\":{\"value\":null},\"size\":{\"units\":\"screen\",\"value\":1e-08},\"x\":{\"value\":0},\"y\":{\"value\":0}},\"id\":\"33719\",\"type\":\"Circle\"},{\"attributes\":{\"source\":{\"id\":\"33663\",\"type\":\"ColumnDataSource\"}},\"id\":\"33667\",\"type\":\"CDSView\"},{\"attributes\":{\"data_source\":{\"id\":\"33658\",\"type\":\"ColumnDataSource\"},\"glyph\":{\"id\":\"33659\",\"type\":\"Circle\"},\"hover_glyph\":null,\"muted_glyph\":null,\"nonselection_glyph\":{\"id\":\"33660\",\"type\":\"Circle\"},\"selection_glyph\":null,\"view\":{\"id\":\"33662\",\"type\":\"CDSView\"}},\"id\":\"33661\",\"type\":\"GlyphRenderer\"},{\"attributes\":{},\"id\":\"33757\",\"type\":\"Selection\"},{\"attributes\":{\"data_source\":{\"id\":\"33683\",\"type\":\"ColumnDataSource\"},\"glyph\":{\"id\":\"33684\",\"type\":\"Line\"},\"hover_glyph\":null,\"muted_glyph\":null,\"nonselection_glyph\":{\"id\":\"33685\",\"type\":\"Line\"},\"selection_glyph\":null,\"view\":{\"id\":\"33687\",\"type\":\"CDSView\"}},\"id\":\"33686\",\"type\":\"GlyphRenderer\"},{\"attributes\":{\"line_alpha\":0.1,\"line_color\":\"#1f77b4\",\"x\":{\"field\":\"x\"},\"y\":{\"field\":\"y\"}},\"id\":\"33665\",\"type\":\"Line\"},{\"attributes\":{\"data_source\":{\"id\":\"33643\",\"type\":\"ColumnDataSource\"},\"glyph\":{\"id\":\"33644\",\"type\":\"Line\"},\"hover_glyph\":null,\"muted_glyph\":null,\"nonselection_glyph\":{\"id\":\"33645\",\"type\":\"Line\"},\"selection_glyph\":null,\"view\":{\"id\":\"33647\",\"type\":\"CDSView\"}},\"id\":\"33646\",\"type\":\"GlyphRenderer\"},{\"attributes\":{\"callback\":null,\"data\":{\"x\":{\"__ndarray__\":\"AAAAAAAAAACamZmZmZm5P5qZmZmZmck/MzMzMzMz0z+amZmZmZnZPwAAAAAAAOA/MzMzMzMz4z9mZmZmZmbmP5qZmZmZmek/zczMzMzM7D8AAAAAAADwP5qZmZmZmfE/MzMzMzMz8z/NzMzMzMz0P2ZmZmZmZvY/AAAAAAAA+D+amZmZmZn5Pw==\",\"dtype\":\"float64\",\"shape\":[17]},\"y\":{\"__ndarray__\":\"AAAAAAAAAAAAAAAAAAAAAAAAAAAAAAAAAAAAAAAAAAAAAAAAAAAAAAAAAAAAAAAAznADPj+MUD81KQXdXtJoP2gFhqxu9Xw/AU2EDU+vhD+Cc0aU9gafP2HD0ytlGbI/odY07zhFtz8pXI/C9SjgP0Fg5dAi2+k/OrTIdr6f9j8pXI/C9SgAQA==\",\"dtype\":\"float64\",\"shape\":[17]}},\"selected\":{\"id\":\"33777\",\"type\":\"Selection\"},\"selection_policy\":{\"id\":\"33776\",\"type\":\"UnionRenderers\"}},\"id\":\"33688\",\"type\":\"ColumnDataSource\"},{\"attributes\":{\"axis_label\":\"Voltage\",\"axis_label_text_color\":{\"value\":\"#000000\"},\"axis_label_text_font\":\"sans-serif\",\"axis_label_text_font_size\":{\"value\":\"14pt\"},\"formatter\":{\"id\":\"33744\",\"type\":\"BasicTickFormatter\"},\"major_label_text_font_size\":{\"value\":\"13pt\"},\"ticker\":{\"id\":\"33606\",\"type\":\"BasicTicker\"}},\"id\":\"33605\",\"type\":\"LinearAxis\"},{\"attributes\":{\"source\":{\"id\":\"33658\",\"type\":\"ColumnDataSource\"}},\"id\":\"33662\",\"type\":\"CDSView\"},{\"attributes\":{\"line_color\":\"#54a767\",\"x\":{\"field\":\"x\"},\"y\":{\"field\":\"y\"}},\"id\":\"33714\",\"type\":\"Line\"},{\"attributes\":{\"data_source\":{\"id\":\"33693\",\"type\":\"ColumnDataSource\"},\"glyph\":{\"id\":\"33694\",\"type\":\"Line\"},\"hover_glyph\":null,\"muted_glyph\":null,\"nonselection_glyph\":{\"id\":\"33695\",\"type\":\"Line\"},\"selection_glyph\":null,\"view\":{\"id\":\"33697\",\"type\":\"CDSView\"}},\"id\":\"33696\",\"type\":\"GlyphRenderer\"},{\"attributes\":{},\"id\":\"33736\",\"type\":\"BasicTickFormatter\"},{\"attributes\":{},\"id\":\"33758\",\"type\":\"UnionRenderers\"},{\"attributes\":{\"data_source\":{\"id\":\"33718\",\"type\":\"ColumnDataSource\"},\"glyph\":{\"id\":\"33719\",\"type\":\"Circle\"},\"hover_glyph\":null,\"muted_glyph\":null,\"nonselection_glyph\":{\"id\":\"33720\",\"type\":\"Circle\"},\"selection_glyph\":null,\"view\":{\"id\":\"33722\",\"type\":\"CDSView\"}},\"id\":\"33721\",\"type\":\"GlyphRenderer\"},{\"attributes\":{\"grid_line_color\":{\"value\":\"#ffffff\"},\"grid_line_width\":{\"value\":1.3},\"minor_grid_line_width\":{\"value\":0.5},\"ticker\":{\"id\":\"33542\",\"type\":\"BasicTicker\"}},\"id\":\"33545\",\"type\":\"Grid\"},{\"attributes\":{},\"id\":\"33603\",\"type\":\"LinearScale\"},{\"attributes\":{},\"id\":\"33764\",\"type\":\"Selection\"},{\"attributes\":{\"items\":[{\"id\":\"33724\",\"type\":\"LegendItem\"},{\"id\":\"33725\",\"type\":\"LegendItem\"},{\"id\":\"33726\",\"type\":\"LegendItem\"},{\"id\":\"33727\",\"type\":\"LegendItem\"}]},\"id\":\"33723\",\"type\":\"Legend\"},{\"attributes\":{\"line_color\":\"#54a767\",\"x\":{\"field\":\"x\"},\"y\":{\"field\":\"y\"}},\"id\":\"33654\",\"type\":\"Line\"},{\"attributes\":{},\"id\":\"33761\",\"type\":\"Selection\"},{\"attributes\":{\"fill_alpha\":{\"value\":0.1},\"fill_color\":{\"value\":\"#1f77b4\"},\"line_alpha\":{\"value\":0.1},\"line_color\":{\"value\":\"#1f77b4\"},\"size\":{\"units\":\"screen\",\"value\":9},\"x\":{\"field\":\"x\"},\"y\":{\"field\":\"y\"}},\"id\":\"33660\",\"type\":\"Circle\"},{\"attributes\":{},\"id\":\"33744\",\"type\":\"BasicTickFormatter\"},{\"attributes\":{\"fill_color\":{\"value\":null},\"line_color\":{\"value\":\"#4b72b0\"},\"size\":{\"units\":\"screen\",\"value\":9},\"x\":{\"field\":\"x\"},\"y\":{\"field\":\"y\"}},\"id\":\"33659\",\"type\":\"Circle\"},{\"attributes\":{\"source\":{\"id\":\"33638\",\"type\":\"ColumnDataSource\"}},\"id\":\"33642\",\"type\":\"CDSView\"},{\"attributes\":{\"source\":{\"id\":\"33653\",\"type\":\"ColumnDataSource\"}},\"id\":\"33657\",\"type\":\"CDSView\"},{\"attributes\":{},\"id\":\"33752\",\"type\":\"UnionRenderers\"},{\"attributes\":{\"callback\":null},\"id\":\"33535\",\"type\":\"DataRange1d\"},{\"attributes\":{\"source\":{\"id\":\"33718\",\"type\":\"ColumnDataSource\"}},\"id\":\"33722\",\"type\":\"CDSView\"},{\"attributes\":{\"axis_label\":\"I [A]\",\"axis_label_text_color\":{\"value\":\"#000000\"},\"axis_label_text_font\":\"sans-serif\",\"axis_label_text_font_size\":{\"value\":\"14pt\"},\"formatter\":{\"id\":\"33746\",\"type\":\"BasicTickFormatter\"},\"major_label_text_font_size\":{\"value\":\"13pt\"},\"ticker\":{\"id\":\"33611\",\"type\":\"BasicTicker\"}},\"id\":\"33610\",\"type\":\"LinearAxis\"},{\"attributes\":{\"line_alpha\":0.1,\"line_color\":\"#1f77b4\",\"x\":{\"field\":\"x\"},\"y\":{\"field\":\"y\"}},\"id\":\"33685\",\"type\":\"Line\"},{\"attributes\":{},\"id\":\"33751\",\"type\":\"Selection\"},{\"attributes\":{\"text\":\"\"},\"id\":\"33732\",\"type\":\"Title\"},{\"attributes\":{},\"id\":\"33555\",\"type\":\"ResetTool\"},{\"attributes\":{},\"id\":\"33759\",\"type\":\"Selection\"},{\"attributes\":{\"data_source\":{\"id\":\"33663\",\"type\":\"ColumnDataSource\"},\"glyph\":{\"id\":\"33664\",\"type\":\"Line\"},\"hover_glyph\":null,\"muted_glyph\":null,\"nonselection_glyph\":{\"id\":\"33665\",\"type\":\"Line\"},\"selection_glyph\":null,\"view\":{\"id\":\"33667\",\"type\":\"CDSView\"}},\"id\":\"33666\",\"type\":\"GlyphRenderer\"},{\"attributes\":{\"label\":{\"value\":\"(1,1)\"},\"renderers\":[{\"id\":\"33691\",\"type\":\"GlyphRenderer\"},{\"id\":\"33696\",\"type\":\"GlyphRenderer\"}]},\"id\":\"33725\",\"type\":\"LegendItem\"},{\"attributes\":{\"callback\":null,\"data\":{\"x\":{\"__ndarray__\":\"AAAAAAAAAACamZmZmZm5P5qZmZmZmck/MzMzMzMz0z+amZmZmZnZPwAAAAAAAOA/MzMzMzMz4z9mZmZmZmbmP5qZmZmZmek/zczMzMzM7D8AAAAAAADwP5qZmZmZmfE/MzMzMzMz8z/NzMzMzMz0P2ZmZmZmZvY/AAAAAAAA+D+amZmZmZn5Pw==\",\"dtype\":\"float64\",\"shape\":[17]},\"y\":{\"__ndarray__\":\"AAAAAAAAAAAAAAAAAAAAAAAAAAAAAAAAAAAAAAAAAAAAAAAAAAAAAAAAAAAAAAAAAAAAAAAAAAAAAAAAAAAAAAAAAAAAAAAAAAAAAAAAAABhMlUwKqlTPxWMSuoENIE/+n5qvHSTmD/azvdT46W7PwrXo3A9Ctc/4XoUrkfh6j8K16NwPQr3Pw==\",\"dtype\":\"float64\",\"shape\":[17]}},\"selected\":{\"id\":\"33764\",\"type\":\"Selection\"},\"selection_policy\":{\"id\":\"33763\",\"type\":\"UnionRenderers\"}},\"id\":\"33658\",\"type\":\"ColumnDataSource\"},{\"attributes\":{\"data_source\":{\"id\":\"33703\",\"type\":\"ColumnDataSource\"},\"glyph\":{\"id\":\"33704\",\"type\":\"Line\"},\"hover_glyph\":null,\"muted_glyph\":null,\"nonselection_glyph\":{\"id\":\"33705\",\"type\":\"Line\"},\"selection_glyph\":null,\"view\":{\"id\":\"33707\",\"type\":\"CDSView\"}},\"id\":\"33706\",\"type\":\"GlyphRenderer\"},{\"attributes\":{\"line_alpha\":0.1,\"line_color\":\"#1f77b4\",\"x\":{\"field\":\"x\"},\"y\":{\"field\":\"y\"}},\"id\":\"33645\",\"type\":\"Line\"},{\"attributes\":{\"line_alpha\":0.1,\"line_color\":\"#1f77b4\",\"x\":{\"field\":\"x\"},\"y\":{\"field\":\"y\"}},\"id\":\"33655\",\"type\":\"Line\"},{\"attributes\":{\"data_source\":{\"id\":\"33638\",\"type\":\"ColumnDataSource\"},\"glyph\":{\"id\":\"33639\",\"type\":\"Cross\"},\"hover_glyph\":null,\"muted_glyph\":null,\"nonselection_glyph\":{\"id\":\"33640\",\"type\":\"Cross\"},\"selection_glyph\":null,\"view\":{\"id\":\"33642\",\"type\":\"CDSView\"}},\"id\":\"33641\",\"type\":\"GlyphRenderer\"},{\"attributes\":{},\"id\":\"33749\",\"type\":\"Selection\"},{\"attributes\":{},\"id\":\"33542\",\"type\":\"BasicTicker\"},{\"attributes\":{\"label\":{\"value\":\"(-1,2)\"},\"renderers\":[{\"id\":\"33711\",\"type\":\"GlyphRenderer\"},{\"id\":\"33716\",\"type\":\"GlyphRenderer\"}]},\"id\":\"33727\",\"type\":\"LegendItem\"},{\"attributes\":{},\"id\":\"33539\",\"type\":\"LinearScale\"},{\"attributes\":{\"text\":\"\"},\"id\":\"33730\",\"type\":\"Title\"},{\"attributes\":{\"axis_label\":\"I [A]\",\"axis_label_text_color\":{\"value\":\"#000000\"},\"axis_label_text_font\":\"sans-serif\",\"axis_label_text_font_size\":{\"value\":\"14pt\"},\"formatter\":{\"id\":\"33738\",\"type\":\"BasicTickFormatter\"},\"major_label_text_font_size\":{\"value\":\"13pt\"},\"ticker\":{\"id\":\"33547\",\"type\":\"BasicTicker\"}},\"id\":\"33546\",\"type\":\"LinearAxis\"},{\"attributes\":{},\"id\":\"33601\",\"type\":\"LinearScale\"},{\"attributes\":{\"fill_color\":{\"value\":null},\"line_color\":{\"value\":\"#c34e52\"},\"size\":{\"units\":\"screen\",\"value\":9},\"x\":{\"field\":\"x\"},\"y\":{\"field\":\"y\"}},\"id\":\"33699\",\"type\":\"Cross\"},{\"attributes\":{\"line_color\":\"#4b72b0\",\"x\":{\"field\":\"x\"},\"y\":{\"field\":\"y\"}},\"id\":\"33694\",\"type\":\"Line\"},{\"attributes\":{},\"id\":\"33756\",\"type\":\"UnionRenderers\"},{\"attributes\":{\"callback\":null,\"data\":{\"x\":{\"__ndarray__\":\"AAAAAAAAAACamZmZmZm5P5qZmZmZmck/MzMzMzMz0z+amZmZmZnZPwAAAAAAAOA/MzMzMzMz4z9mZmZmZmbmP5qZmZmZmek/zczMzMzM7D8AAAAAAADwP5qZmZmZmfE/MzMzMzMz8z/NzMzMzMz0P2ZmZmZmZvY/AAAAAAAA+D+amZmZmZn5Pw==\",\"dtype\":\"float64\",\"shape\":[17]},\"y\":{\"__ndarray__\":\"AAAAAAAAAAAAAAAAAAAAAAAAAAAAAAAAAAAAAAAAAAAAAAAAAAAAAAAAAAAAAAAAexSuR+F6ZD+4HoXrUbh+P+xRuB6F65E/mpmZmZmZmT8zMzMzMzOzP2ZmZmZmZsY/zczMzMzMzD8AAAAAAAD0PwAAAAAAAABAAAAAAAAADEAAAAAAAAAUQA==\",\"dtype\":\"float64\",\"shape\":[17]}},\"selected\":{\"id\":\"33781\",\"type\":\"Selection\"},\"selection_policy\":{\"id\":\"33780\",\"type\":\"UnionRenderers\"}},\"id\":\"33698\",\"type\":\"ColumnDataSource\"},{\"attributes\":{\"fill_alpha\":{\"value\":0.1},\"fill_color\":{\"value\":\"#1f77b4\"},\"line_alpha\":{\"value\":0.1},\"line_color\":{\"value\":\"#1f77b4\"},\"size\":{\"units\":\"screen\",\"value\":9},\"x\":{\"field\":\"x\"},\"y\":{\"field\":\"y\"}},\"id\":\"33710\",\"type\":\"Square\"},{\"attributes\":{\"source\":{\"id\":\"33698\",\"type\":\"ColumnDataSource\"}},\"id\":\"33702\",\"type\":\"CDSView\"},{\"attributes\":{},\"id\":\"33746\",\"type\":\"BasicTickFormatter\"},{\"attributes\":{},\"id\":\"33554\",\"type\":\"SaveTool\"},{\"attributes\":{\"callback\":null,\"data\":{\"x\":{\"__ndarray__\":\"AAAAAAAAAACamZmZmZm5P5qZmZmZmck/MzMzMzMz0z+amZmZmZnZPwAAAAAAAOA/MzMzMzMz4z9mZmZmZmbmP5qZmZmZmek/zczMzMzM7D8AAAAAAADwP5qZmZmZmfE/MzMzMzMz8z/NzMzMzMz0P2ZmZmZmZvY/AAAAAAAA+D+amZmZmZn5Pw==\",\"dtype\":\"float64\",\"shape\":[17]},\"y\":{\"__ndarray__\":\"AAAAAAAAAAAAAAAAAAAAAAAAAAAAAAAAAAAAAAAAAAAAAAAAAAAAAAAAAAAAAAAAAAAAAAAAAAAAAAAAAAAAAAAAAAAAAAAAAAAAAAAAAAD8qfHSTWJgP3jpJjEIrIw/exSuR+F6pD8K16NwPQrHPylcj8L1KOQ/MzMzMzMz8z/GSzeJQWDzPw==\",\"dtype\":\"float64\",\"shape\":[17]}},\"selected\":{\"id\":\"33759\",\"type\":\"Selection\"},\"selection_policy\":{\"id\":\"33758\",\"type\":\"UnionRenderers\"}},\"id\":\"33653\",\"type\":\"ColumnDataSource\"},{\"attributes\":{\"source\":{\"id\":\"33688\",\"type\":\"ColumnDataSource\"}},\"id\":\"33692\",\"type\":\"CDSView\"},{\"attributes\":{\"line_alpha\":0.1,\"line_color\":\"#1f77b4\",\"x\":{\"field\":\"x\"},\"y\":{\"field\":\"y\"}},\"id\":\"33715\",\"type\":\"Line\"},{\"attributes\":{\"grid_line_color\":{\"value\":\"#ffffff\"},\"grid_line_width\":{\"value\":1.3},\"minor_grid_line_width\":{\"value\":0.5},\"ticker\":{\"id\":\"33606\",\"type\":\"BasicTicker\"}},\"id\":\"33609\",\"type\":\"Grid\"},{\"attributes\":{\"fill_alpha\":{\"value\":0.1},\"fill_color\":{\"value\":\"#1f77b4\"},\"line_alpha\":{\"value\":0.1},\"line_color\":{\"value\":\"#1f77b4\"},\"size\":{\"units\":\"screen\",\"value\":1e-08},\"x\":{\"value\":0},\"y\":{\"value\":0}},\"id\":\"33720\",\"type\":\"Circle\"},{\"attributes\":{\"fill_color\":{\"value\":null},\"line_color\":{\"value\":\"#54a767\"},\"size\":{\"units\":\"screen\",\"value\":9},\"x\":{\"field\":\"x\"},\"y\":{\"field\":\"y\"}},\"id\":\"33709\",\"type\":\"Square\"},{\"attributes\":{\"source\":{\"id\":\"33648\",\"type\":\"ColumnDataSource\"}},\"id\":\"33652\",\"type\":\"CDSView\"},{\"attributes\":{\"source\":{\"id\":\"33703\",\"type\":\"ColumnDataSource\"}},\"id\":\"33707\",\"type\":\"CDSView\"},{\"attributes\":{},\"id\":\"33753\",\"type\":\"Selection\"},{\"attributes\":{\"formatter\":{\"id\":\"33736\",\"type\":\"BasicTickFormatter\"},\"major_label_text_font_size\":{\"value\":\"13pt\"},\"ticker\":{\"id\":\"33542\",\"type\":\"BasicTicker\"}},\"id\":\"33541\",\"type\":\"LinearAxis\"},{\"attributes\":{\"data_source\":{\"id\":\"33648\",\"type\":\"ColumnDataSource\"},\"glyph\":{\"id\":\"33649\",\"type\":\"Square\"},\"hover_glyph\":null,\"muted_glyph\":null,\"nonselection_glyph\":{\"id\":\"33650\",\"type\":\"Square\"},\"selection_glyph\":null,\"view\":{\"id\":\"33652\",\"type\":\"CDSView\"}},\"id\":\"33651\",\"type\":\"GlyphRenderer\"},{\"attributes\":{\"fill_alpha\":{\"value\":0.1},\"fill_color\":{\"value\":\"#1f77b4\"},\"line_alpha\":{\"value\":0.1},\"line_color\":{\"value\":\"#1f77b4\"},\"size\":{\"units\":\"screen\",\"value\":9},\"x\":{\"field\":\"x\"},\"y\":{\"field\":\"y\"}},\"id\":\"33650\",\"type\":\"Square\"},{\"attributes\":{\"callback\":null,\"data\":{},\"selected\":{\"id\":\"33761\",\"type\":\"Selection\"},\"selection_policy\":{\"id\":\"33760\",\"type\":\"UnionRenderers\"}},\"id\":\"33718\",\"type\":\"ColumnDataSource\"},{\"attributes\":{\"dimension\":1,\"grid_line_color\":{\"value\":\"#ffffff\"},\"grid_line_width\":{\"value\":1.3},\"minor_grid_line_width\":{\"value\":0.5},\"ticker\":{\"id\":\"33547\",\"type\":\"BasicTicker\"}},\"id\":\"33550\",\"type\":\"Grid\"},{\"attributes\":{\"label\":{\"value\":\"(2,-1)\"},\"renderers\":[{\"id\":\"33701\",\"type\":\"GlyphRenderer\"},{\"id\":\"33706\",\"type\":\"GlyphRenderer\"}]},\"id\":\"33726\",\"type\":\"LegendItem\"},{\"attributes\":{\"data_source\":{\"id\":\"33708\",\"type\":\"ColumnDataSource\"},\"glyph\":{\"id\":\"33709\",\"type\":\"Square\"},\"hover_glyph\":null,\"muted_glyph\":null,\"nonselection_glyph\":{\"id\":\"33710\",\"type\":\"Square\"},\"selection_glyph\":null,\"view\":{\"id\":\"33712\",\"type\":\"CDSView\"}},\"id\":\"33711\",\"type\":\"GlyphRenderer\"},{\"attributes\":{\"source\":{\"id\":\"33683\",\"type\":\"ColumnDataSource\"}},\"id\":\"33687\",\"type\":\"CDSView\"},{\"attributes\":{\"fill_color\":{\"value\":null},\"line_color\":{\"value\":\"#54a767\"},\"size\":{\"units\":\"screen\",\"value\":9},\"x\":{\"field\":\"x\"},\"y\":{\"field\":\"y\"}},\"id\":\"33649\",\"type\":\"Square\"},{\"attributes\":{\"callback\":null,\"data\":{\"x\":{\"__ndarray__\":\"AAAAAAAAAACamZmZmZm5P5qZmZmZmck/MzMzMzMz0z+amZmZmZnZPwAAAAAAAOA/MzMzMzMz4z9mZmZmZmbmP5qZmZmZmek/zczMzMzM7D8AAAAAAADwP5qZmZmZmfE/MzMzMzMz8z/NzMzMzMz0P2ZmZmZmZvY/AAAAAAAA+D+amZmZmZn5Pw==\",\"dtype\":\"float64\",\"shape\":[17]},\"y\":{\"__ndarray__\":\"AAAAAAAAAAAAAAAAAAAAAAAAAAAAAAAAAAAAAAAAAAAAAAAAAAAAAAAAAAAAAAAAAAAAAAAAAAAAAAAAAAAAAAAAAAAAAAAAAAAAAAAAAAD8qfHSTWJgP3jpJjEIrIw/exSuR+F6pD8K16NwPQrHPylcj8L1KOQ/MzMzMzMz8z/GSzeJQWDzPw==\",\"dtype\":\"float64\",\"shape\":[17]}},\"selected\":{\"id\":\"33757\",\"type\":\"Selection\"},\"selection_policy\":{\"id\":\"33756\",\"type\":\"UnionRenderers\"}},\"id\":\"33648\",\"type\":\"ColumnDataSource\"},{\"attributes\":{\"source\":{\"id\":\"33708\",\"type\":\"ColumnDataSource\"}},\"id\":\"33712\",\"type\":\"CDSView\"},{\"attributes\":{},\"id\":\"33740\",\"type\":\"BasicTickFormatter\"},{\"attributes\":{},\"id\":\"33547\",\"type\":\"BasicTicker\"},{\"attributes\":{\"callback\":null,\"data\":{\"x\":{\"__ndarray__\":\"AAAAAAAAAACamZmZmZm5P5qZmZmZmck/MzMzMzMz0z+amZmZmZnZPwAAAAAAAOA/MzMzMzMz4z9mZmZmZmbmP5qZmZmZmek/zczMzMzM7D8AAAAAAADwP5qZmZmZmfE/MzMzMzMz8z/NzMzMzMz0P2ZmZmZmZvY/AAAAAAAA+D+amZmZmZn5Pw==\",\"dtype\":\"float64\",\"shape\":[17]},\"y\":{\"__ndarray__\":\"AAAAAAAAAAAAAAAAAAAAAAAAAAAAAAAAAAAAAAAAAAAAAAAAAAAAAAAAAAAAAAAAexSuR+F6ZD+4HoXrUbh+P+xRuB6F65E/mpmZmZmZmT8zMzMzMzOzP2ZmZmZmZsY/zczMzMzMzD8AAAAAAAD0PwAAAAAAAABAAAAAAAAADEAAAAAAAAAUQA==\",\"dtype\":\"float64\",\"shape\":[17]}},\"selected\":{\"id\":\"33783\",\"type\":\"Selection\"},\"selection_policy\":{\"id\":\"33782\",\"type\":\"UnionRenderers\"}},\"id\":\"33703\",\"type\":\"ColumnDataSource\"},{\"attributes\":{},\"id\":\"33748\",\"type\":\"UnionRenderers\"},{\"attributes\":{\"callback\":null,\"data\":{\"x\":{\"__ndarray__\":\"AAAAAAAAAACamZmZmZm5P5qZmZmZmck/MzMzMzMz0z+amZmZmZnZPwAAAAAAAOA/MzMzMzMz4z9mZmZmZmbmP5qZmZmZmek/zczMzMzM7D8AAAAAAADwP5qZmZmZmfE/MzMzMzMz8z/NzMzMzMz0P2ZmZmZmZvY/AAAAAAAA+D+amZmZmZn5Pw==\",\"dtype\":\"float64\",\"shape\":[17]},\"y\":{\"__ndarray__\":\"AAAAAAAAAAAAAAAAAAAAAAAAAAAAAAAAAAAAAAAAAAAAAAAAAAAAAAAAAAAAAAAAL26jAbwFUj9GJXUCmghrP9IA3gIJin8/u0kMAiuHhj9MN4lBYOWgP4PAyqFFtrM/8tJNYhBYuT+amZmZmZnhPylcj8L1KOw/pHA9Ctej+D+amZmZmZkBQA==\",\"dtype\":\"float64\",\"shape\":[17]}},\"selected\":{\"id\":\"33785\",\"type\":\"Selection\"},\"selection_policy\":{\"id\":\"33784\",\"type\":\"UnionRenderers\"}},\"id\":\"33708\",\"type\":\"ColumnDataSource\"},{\"attributes\":{\"dimension\":1,\"grid_line_color\":{\"value\":\"#ffffff\"},\"grid_line_width\":{\"value\":1.3},\"minor_grid_line_width\":{\"value\":0.5},\"ticker\":{\"id\":\"33611\",\"type\":\"BasicTicker\"}},\"id\":\"33614\",\"type\":\"Grid\"},{\"attributes\":{},\"id\":\"33738\",\"type\":\"BasicTickFormatter\"},{\"attributes\":{\"callback\":null,\"data\":{\"x\":{\"__ndarray__\":\"AAAAAAAAAACamZmZmZm5P5qZmZmZmck/MzMzMzMz0z+amZmZmZnZPwAAAAAAAOA/MzMzMzMz4z9mZmZmZmbmP5qZmZmZmek/zczMzMzM7D8AAAAAAADwP5qZmZmZmfE/MzMzMzMz8z/NzMzMzMz0P2ZmZmZmZvY/AAAAAAAA+D+amZmZmZn5Pw==\",\"dtype\":\"float64\",\"shape\":[17]},\"y\":{\"__ndarray__\":\"AAAAAAAAAAAAAAAAAAAAAAAAAAAAAAAAAAAAAAAAAAAAAAAAAAAAAAAAAAAAAAAAznADPj+MUD81KQXdXtJoP2gFhqxu9Xw/AU2EDU+vhD+Cc0aU9gafP2HD0ytlGbI/odY07zhFtz8pXI/C9SjgP0Fg5dAi2+k/OrTIdr6f9j8pXI/C9SgAQA==\",\"dtype\":\"float64\",\"shape\":[17]}},\"selected\":{\"id\":\"33779\",\"type\":\"Selection\"},\"selection_policy\":{\"id\":\"33778\",\"type\":\"UnionRenderers\"}},\"id\":\"33693\",\"type\":\"ColumnDataSource\"},{\"attributes\":{\"line_color\":\"#c34e52\",\"x\":{\"field\":\"x\"},\"y\":{\"field\":\"y\"}},\"id\":\"33704\",\"type\":\"Line\"},{\"attributes\":{\"callback\":null},\"id\":\"33567\",\"type\":\"DataRange1d\"}],\"root_ids\":[\"33728\"]},\"title\":\"Bokeh Application\",\"version\":\"1.1.0\"}}\n",
       "        </script>\n",
       "        <script type=\"text/javascript\">\n",
       "          (function() {\n",
       "            var fn = function() {\n",
       "              Bokeh.safely(function() {\n",
       "                (function(root) {\n",
       "                  function embed_document(root) {\n",
       "                    \n",
       "                  var docs_json = document.getElementById('34272').textContent;\n",
       "                  var render_items = [{\"docid\":\"71902877-ccb4-4e98-9e2e-e7e25fe2fb9e\",\"roots\":{\"33728\":\"207eb6ec-ad6a-4fe5-9dbc-a603e2fea06c\"}}];\n",
       "                  root.Bokeh.embed.embed_items(docs_json, render_items);\n",
       "                \n",
       "                  }\n",
       "                  if (root.Bokeh !== undefined) {\n",
       "                    embed_document(root);\n",
       "                  } else {\n",
       "                    var attempts = 0;\n",
       "                    var timer = setInterval(function(root) {\n",
       "                      if (root.Bokeh !== undefined) {\n",
       "                        embed_document(root);\n",
       "                        clearInterval(timer);\n",
       "                      }\n",
       "                      attempts++;\n",
       "                      if (attempts > 100) {\n",
       "                        console.log(\"Bokeh: ERROR: Unable to run BokehJS code because BokehJS library is missing\");\n",
       "                        clearInterval(timer);\n",
       "                      }\n",
       "                    }, 10, root)\n",
       "                  }\n",
       "                })(window);\n",
       "              });\n",
       "            };\n",
       "            if (document.readyState != \"loading\") fn();\n",
       "            else document.addEventListener(\"DOMContentLoaded\", fn);\n",
       "          })();\n",
       "        </script>\n",
       "    \n",
       "  </body>\n",
       "  \n",
       "</html>"
      ],
      "text/plain": [
       "<IPython.core.display.HTML object>"
      ]
     },
     "execution_count": 257,
     "metadata": {},
     "output_type": "execute_result"
    }
   ],
   "source": [
    "fcp.plot(df, x='Voltage', y='I [A]', legend='Die', row='Boost Level', show=False, ax_size=[225, 225], \n",
    "         filter='Substrate==\"Si\" & Target Wavelength==450 & Temperature [C]==25')"
   ]
  },
  {
   "cell_type": "markdown",
   "metadata": {},
   "source": [
    "### Column plot"
   ]
  },
  {
   "cell_type": "markdown",
   "metadata": {},
   "source": [
    "Create a unique plot for each unique value of the \"col\" column in the specified DataFrame.  Plots are arranged in a single row, column by column.  Each column contains a label indicating the unique value of the \"col\" column."
   ]
  },
  {
   "cell_type": "code",
   "execution_count": 289,
   "metadata": {},
   "outputs": [
    {
     "data": {
      "text/html": [
       "\n",
       "\n",
       "\n",
       "\n",
       "<!DOCTYPE html>\n",
       "<html lang=\"en\">\n",
       "  \n",
       "  <head>\n",
       "    \n",
       "      <meta charset=\"utf-8\">\n",
       "      <title>Bokeh Plot</title>\n",
       "      \n",
       "      \n",
       "        \n",
       "          \n",
       "        <link rel=\"stylesheet\" href=\"https://cdn.pydata.org/bokeh/release/bokeh-1.1.0.min.css\" type=\"text/css\" />\n",
       "        \n",
       "        \n",
       "          \n",
       "        <script type=\"text/javascript\" src=\"https://cdn.pydata.org/bokeh/release/bokeh-1.1.0.min.js\"></script>\n",
       "        <script type=\"text/javascript\">\n",
       "            Bokeh.set_log_level(\"info\");\n",
       "        </script>\n",
       "        \n",
       "      \n",
       "      \n",
       "    \n",
       "  </head>\n",
       "  \n",
       "  \n",
       "  <body>\n",
       "    \n",
       "      \n",
       "        \n",
       "          \n",
       "          \n",
       "            \n",
       "              <div class=\"bk-root\" id=\"e71677bd-ce65-46f9-b004-d0c566590207\" data-root-id=\"48645\"></div>\n",
       "            \n",
       "          \n",
       "        \n",
       "      \n",
       "      \n",
       "        <script type=\"application/json\" id=\"49177\">\n",
       "          {\"a236b987-b54f-45b8-930f-f811ba9df3dc\":{\"roots\":{\"references\":[{\"attributes\":{\"callback\":null,\"data\":{\"x\":{\"__ndarray__\":\"AAAAAAAAAACamZmZmZm5P5qZmZmZmck/MzMzMzMz0z+amZmZmZnZPwAAAAAAAOA/MzMzMzMz4z9mZmZmZmbmP5qZmZmZmek/zczMzMzM7D8AAAAAAADwP5qZmZmZmfE/MzMzMzMz8z/NzMzMzMz0P2ZmZmZmZvY/AAAAAAAA+D+amZmZmZn5Pw==\",\"dtype\":\"float64\",\"shape\":[17]},\"y\":{\"__ndarray__\":\"AAAAAAAAAAAAAAAAAAAAAAAAAAAAAAAAAAAAAAAAAAAAAAAAAAAAAAAAAAAAAAAAAAAAAAAAAAAAAAAAAAAAAAAAAAAAAAAA/Knx0k1iQD+4+qAdJtBWP1/b7Fkh9oM/ZTkJpS+EnD9JMNXMWgrAP86luKrsu9o/xRaCHJQw7z/Opbiq7Lv6Pw==\",\"dtype\":\"float64\",\"shape\":[17]}},\"selected\":{\"id\":\"48687\",\"type\":\"Selection\"},\"selection_policy\":{\"id\":\"48686\",\"type\":\"UnionRenderers\"}},\"id\":\"48585\",\"type\":\"ColumnDataSource\"},{\"attributes\":{\"fill_alpha\":{\"value\":0.1},\"fill_color\":{\"value\":\"#1f77b4\"},\"line_alpha\":{\"value\":0.1},\"line_color\":{\"value\":\"#1f77b4\"},\"size\":{\"units\":\"screen\",\"value\":9},\"x\":{\"field\":\"x\"},\"y\":{\"field\":\"y\"}},\"id\":\"48612\",\"type\":\"Cross\"},{\"attributes\":{},\"id\":\"48503\",\"type\":\"LinearScale\"},{\"attributes\":{\"data_source\":{\"id\":\"48625\",\"type\":\"ColumnDataSource\"},\"glyph\":{\"id\":\"48626\",\"type\":\"Line\"},\"hover_glyph\":null,\"muted_glyph\":null,\"nonselection_glyph\":{\"id\":\"48627\",\"type\":\"Line\"},\"selection_glyph\":null,\"view\":{\"id\":\"48629\",\"type\":\"CDSView\"}},\"id\":\"48628\",\"type\":\"GlyphRenderer\"},{\"attributes\":{},\"id\":\"48668\",\"type\":\"Selection\"},{\"attributes\":{},\"id\":\"48704\",\"type\":\"Selection\"},{\"attributes\":{\"active_drag\":\"auto\",\"active_inspect\":\"auto\",\"active_multi\":null,\"active_scroll\":\"auto\",\"active_tap\":\"auto\",\"tools\":[{\"id\":\"48485\",\"type\":\"PanTool\"},{\"id\":\"48486\",\"type\":\"WheelZoomTool\"},{\"id\":\"48487\",\"type\":\"BoxZoomTool\"},{\"id\":\"48488\",\"type\":\"SaveTool\"},{\"id\":\"48489\",\"type\":\"ResetTool\"},{\"id\":\"48490\",\"type\":\"HelpTool\"}]},\"id\":\"48491\",\"type\":\"Toolbar\"},{\"attributes\":{},\"id\":\"48659\",\"type\":\"BasicTickFormatter\"},{\"attributes\":{\"label\":{\"value\":\"(-1,2)\"},\"renderers\":[{\"id\":\"48623\",\"type\":\"GlyphRenderer\"},{\"id\":\"48628\",\"type\":\"GlyphRenderer\"}]},\"id\":\"48644\",\"type\":\"LegendItem\"},{\"attributes\":{\"source\":{\"id\":\"48615\",\"type\":\"ColumnDataSource\"}},\"id\":\"48619\",\"type\":\"CDSView\"},{\"attributes\":{\"dimension\":1,\"grid_line_color\":{\"value\":\"#ffffff\"},\"grid_line_width\":{\"value\":1.3},\"minor_grid_line_width\":{\"value\":0.5},\"ticker\":{\"id\":\"48481\",\"type\":\"BasicTicker\"}},\"id\":\"48484\",\"type\":\"Grid\"},{\"attributes\":{\"fill_color\":{\"value\":null},\"line_color\":{\"value\":\"#4b72b0\"},\"size\":{\"units\":\"screen\",\"value\":9},\"x\":{\"field\":\"x\"},\"y\":{\"field\":\"y\"}},\"id\":\"48566\",\"type\":\"Circle\"},{\"attributes\":{\"source\":{\"id\":\"48625\",\"type\":\"ColumnDataSource\"}},\"id\":\"48629\",\"type\":\"CDSView\"},{\"attributes\":{\"data_source\":{\"id\":\"48590\",\"type\":\"ColumnDataSource\"},\"glyph\":{\"id\":\"48591\",\"type\":\"Line\"},\"hover_glyph\":null,\"muted_glyph\":null,\"nonselection_glyph\":{\"id\":\"48592\",\"type\":\"Line\"},\"selection_glyph\":null,\"view\":{\"id\":\"48594\",\"type\":\"CDSView\"}},\"id\":\"48593\",\"type\":\"GlyphRenderer\"},{\"attributes\":{\"overlay\":{\"id\":\"48677\",\"type\":\"BoxAnnotation\"}},\"id\":\"48487\",\"type\":\"BoxZoomTool\"},{\"attributes\":{\"source\":{\"id\":\"48570\",\"type\":\"ColumnDataSource\"}},\"id\":\"48574\",\"type\":\"CDSView\"},{\"attributes\":{},\"id\":\"48703\",\"type\":\"UnionRenderers\"},{\"attributes\":{},\"id\":\"48473\",\"type\":\"LinearScale\"},{\"attributes\":{\"label\":{\"value\":\"(1,1)\"},\"renderers\":[{\"id\":\"48603\",\"type\":\"GlyphRenderer\"},{\"id\":\"48608\",\"type\":\"GlyphRenderer\"}]},\"id\":\"48642\",\"type\":\"LegendItem\"},{\"attributes\":{},\"id\":\"48481\",\"type\":\"BasicTicker\"},{\"attributes\":{\"formatter\":{\"id\":\"48659\",\"type\":\"BasicTickFormatter\"},\"major_label_text_font_size\":{\"value\":\"13pt\"},\"ticker\":{\"id\":\"48481\",\"type\":\"BasicTicker\"}},\"id\":\"48480\",\"type\":\"LinearAxis\"},{\"attributes\":{\"source\":{\"id\":\"48535\",\"type\":\"ColumnDataSource\"}},\"id\":\"48539\",\"type\":\"CDSView\"},{\"attributes\":{\"fill_color\":{\"value\":null},\"line_color\":{\"value\":\"#c34e52\"},\"size\":{\"units\":\"screen\",\"value\":9},\"x\":{\"field\":\"x\"},\"y\":{\"field\":\"y\"}},\"id\":\"48611\",\"type\":\"Cross\"},{\"attributes\":{\"background_fill_color\":{\"value\":\"#eaeaea\"},\"below\":[{\"id\":\"48507\",\"type\":\"LinearAxis\"}],\"center\":[{\"id\":\"48511\",\"type\":\"Grid\"},{\"id\":\"48516\",\"type\":\"Grid\"}],\"left\":[{\"id\":\"48512\",\"type\":\"LinearAxis\"}],\"plot_height\":285,\"plot_width\":337,\"renderers\":[{\"id\":\"48603\",\"type\":\"GlyphRenderer\"},{\"id\":\"48608\",\"type\":\"GlyphRenderer\"},{\"id\":\"48613\",\"type\":\"GlyphRenderer\"},{\"id\":\"48618\",\"type\":\"GlyphRenderer\"},{\"id\":\"48623\",\"type\":\"GlyphRenderer\"},{\"id\":\"48628\",\"type\":\"GlyphRenderer\"},{\"id\":\"48638\",\"type\":\"GlyphRenderer\"}],\"right\":[{\"id\":\"48640\",\"type\":\"Legend\"}],\"title\":{\"id\":\"48634\",\"type\":\"Title\"},\"toolbar\":{\"id\":\"48523\",\"type\":\"Toolbar\"},\"x_range\":{\"id\":\"48631\",\"type\":\"Range1d\"},\"x_scale\":{\"id\":\"48503\",\"type\":\"LinearScale\"},\"y_range\":{\"id\":\"48633\",\"type\":\"Range1d\"},\"y_scale\":{\"id\":\"48505\",\"type\":\"LinearScale\"}},\"id\":\"48498\",\"subtype\":\"Figure\",\"type\":\"Plot\"},{\"attributes\":{\"callback\":null,\"data\":{\"x\":{\"__ndarray__\":\"AAAAAAAAAACamZmZmZm5P5qZmZmZmck/MzMzMzMz0z+amZmZmZnZPwAAAAAAAOA/MzMzMzMz4z9mZmZmZmbmP5qZmZmZmek/zczMzMzM7D8AAAAAAADwP5qZmZmZmfE/MzMzMzMz8z/NzMzMzMz0P2ZmZmZmZvY/AAAAAAAA+D+amZmZmZn5Pw==\",\"dtype\":\"float64\",\"shape\":[17]},\"y\":{\"__ndarray__\":\"AAAAAAAAAAAAAAAAAAAAAAAAAAAAAAAAAAAAAAAAAAAAAAAAAAAAAAAAAAAAAAAAAAAAAAAAAAAAAAAAAAAAAAAAAAAAAAAA/Knx0k1iUD+Qa0PFOH9TPx3+mqxRD4E/dEaU9gZfmD9Cz2bV52q7Pw0CK4cW2dY/Di2yne+n6j8NAiuHFtn2Pw==\",\"dtype\":\"float64\",\"shape\":[17]}},\"selected\":{\"id\":\"48683\",\"type\":\"Selection\"},\"selection_policy\":{\"id\":\"48682\",\"type\":\"UnionRenderers\"}},\"id\":\"48575\",\"type\":\"ColumnDataSource\"},{\"attributes\":{\"fill_color\":{\"value\":null},\"line_color\":{\"value\":\"#4b72b0\"},\"size\":{\"units\":\"screen\",\"value\":9},\"x\":{\"field\":\"x\"},\"y\":{\"field\":\"y\"}},\"id\":\"48601\",\"type\":\"Circle\"},{\"attributes\":{\"callback\":null,\"end\":1.6800000000000002},\"id\":\"48631\",\"type\":\"Range1d\"},{\"attributes\":{},\"id\":\"48476\",\"type\":\"BasicTicker\"},{\"attributes\":{},\"id\":\"48657\",\"type\":\"BasicTickFormatter\"},{\"attributes\":{},\"id\":\"48667\",\"type\":\"UnionRenderers\"},{\"attributes\":{\"callback\":null,\"data\":{\"x\":{\"__ndarray__\":\"AAAAAAAAAACamZmZmZm5P5qZmZmZmck/MzMzMzMz0z+amZmZmZnZPwAAAAAAAOA/MzMzMzMz4z9mZmZmZmbmP5qZmZmZmek/zczMzMzM7D8AAAAAAADwP5qZmZmZmfE/MzMzMzMz8z/NzMzMzMz0P2ZmZmZmZvY/AAAAAAAA+D+amZmZmZn5Pw==\",\"dtype\":\"float64\",\"shape\":[17]},\"y\":{\"__ndarray__\":\"AAAAAAAAAAAAAAAAAAAAAAAAAAAAAAAAAAAAAAAAAAAAAAAAAAAAAAAAAAAAAAAAznADPj+MUD81KQXdXtJoP2gFhqxu9Xw/AU2EDU+vhD+Cc0aU9gafP2HD0ytlGbI/odY07zhFtz8pXI/C9SjgP0Fg5dAi2+k/OrTIdr6f9j8pXI/C9SgAQA==\",\"dtype\":\"float64\",\"shape\":[17]}},\"selected\":{\"id\":\"48692\",\"type\":\"Selection\"},\"selection_policy\":{\"id\":\"48691\",\"type\":\"UnionRenderers\"}},\"id\":\"48600\",\"type\":\"ColumnDataSource\"},{\"attributes\":{\"line_color\":\"#54a767\",\"x\":{\"field\":\"x\"},\"y\":{\"field\":\"y\"}},\"id\":\"48626\",\"type\":\"Line\"},{\"attributes\":{},\"id\":\"48698\",\"type\":\"Selection\"},{\"attributes\":{},\"id\":\"48444\",\"type\":\"BasicTicker\"},{\"attributes\":{\"fill_alpha\":{\"value\":0.1},\"fill_color\":{\"value\":\"#1f77b4\"},\"line_alpha\":{\"value\":0.1},\"line_color\":{\"value\":\"#1f77b4\"},\"size\":{\"units\":\"screen\",\"value\":9},\"x\":{\"field\":\"x\"},\"y\":{\"field\":\"y\"}},\"id\":\"48577\",\"type\":\"Cross\"},{\"attributes\":{\"callback\":null,\"data\":{\"x\":{\"__ndarray__\":\"AAAAAAAAAACamZmZmZm5P5qZmZmZmck/MzMzMzMz0z+amZmZmZnZPwAAAAAAAOA/MzMzMzMz4z9mZmZmZmbmP5qZmZmZmek/zczMzMzM7D8AAAAAAADwP5qZmZmZmfE/MzMzMzMz8z/NzMzMzMz0P2ZmZmZmZvY/AAAAAAAA+D+amZmZmZn5Pw==\",\"dtype\":\"float64\",\"shape\":[17]},\"y\":{\"__ndarray__\":\"AAAAAAAAAAAAAAAAAAAAAAAAAAAAAAAAAAAAAAAAAAAAAAAAAAAAAAAAAAAAAAAAAAAAAAAAAAAAAAAAAAAAAAAAAAAAAAAAAAAAAAAAAABhMlUwKqlTPxWMSuoENIE/+n5qvHSTmD/azvdT46W7PwrXo3A9Ctc/4XoUrkfh6j8K16NwPQr3Pw==\",\"dtype\":\"float64\",\"shape\":[17]}},\"selected\":{\"id\":\"48681\",\"type\":\"Selection\"},\"selection_policy\":{\"id\":\"48680\",\"type\":\"UnionRenderers\"}},\"id\":\"48570\",\"type\":\"ColumnDataSource\"},{\"attributes\":{\"fill_color\":{\"value\":null},\"line_color\":{\"value\":\"#54a767\"},\"size\":{\"units\":\"screen\",\"value\":9},\"x\":{\"field\":\"x\"},\"y\":{\"field\":\"y\"}},\"id\":\"48621\",\"type\":\"Square\"},{\"attributes\":{\"source\":{\"id\":\"48580\",\"type\":\"ColumnDataSource\"}},\"id\":\"48584\",\"type\":\"CDSView\"},{\"attributes\":{\"bottom_units\":\"screen\",\"fill_alpha\":{\"value\":0.5},\"fill_color\":{\"value\":\"lightgrey\"},\"left_units\":\"screen\",\"level\":\"overlay\",\"line_alpha\":{\"value\":1.0},\"line_color\":{\"value\":\"black\"},\"line_dash\":[4,4],\"line_width\":{\"value\":2},\"render_mode\":\"css\",\"right_units\":\"screen\",\"top_units\":\"screen\"},\"id\":\"48664\",\"type\":\"BoxAnnotation\"},{\"attributes\":{\"dimension\":1,\"grid_line_color\":{\"value\":\"#ffffff\"},\"grid_line_width\":{\"value\":1.3},\"minor_grid_line_width\":{\"value\":0.5},\"ticker\":{\"id\":\"48449\",\"type\":\"BasicTicker\"}},\"id\":\"48452\",\"type\":\"Grid\"},{\"attributes\":{},\"id\":\"48441\",\"type\":\"LinearScale\"},{\"attributes\":{\"source\":{\"id\":\"48610\",\"type\":\"ColumnDataSource\"}},\"id\":\"48614\",\"type\":\"CDSView\"},{\"attributes\":{},\"id\":\"48655\",\"type\":\"BasicTickFormatter\"},{\"attributes\":{\"callback\":null,\"end\":5.25},\"id\":\"48598\",\"type\":\"Range1d\"},{\"attributes\":{\"data_source\":{\"id\":\"48600\",\"type\":\"ColumnDataSource\"},\"glyph\":{\"id\":\"48601\",\"type\":\"Circle\"},\"hover_glyph\":null,\"muted_glyph\":null,\"nonselection_glyph\":{\"id\":\"48602\",\"type\":\"Circle\"},\"selection_glyph\":null,\"view\":{\"id\":\"48604\",\"type\":\"CDSView\"}},\"id\":\"48603\",\"type\":\"GlyphRenderer\"},{\"attributes\":{\"background_fill_color\":{\"value\":\"#eaeaea\"},\"below\":[{\"id\":\"48443\",\"type\":\"LinearAxis\"}],\"center\":[{\"id\":\"48447\",\"type\":\"Grid\"},{\"id\":\"48452\",\"type\":\"Grid\"}],\"left\":[{\"id\":\"48448\",\"type\":\"LinearAxis\"}],\"plot_height\":285,\"plot_width\":293,\"renderers\":[{\"id\":\"48533\",\"type\":\"GlyphRenderer\"},{\"id\":\"48538\",\"type\":\"GlyphRenderer\"},{\"id\":\"48543\",\"type\":\"GlyphRenderer\"},{\"id\":\"48548\",\"type\":\"GlyphRenderer\"},{\"id\":\"48553\",\"type\":\"GlyphRenderer\"},{\"id\":\"48558\",\"type\":\"GlyphRenderer\"}],\"title\":{\"id\":\"48564\",\"type\":\"Title\"},\"toolbar\":{\"id\":\"48459\",\"type\":\"Toolbar\"},\"x_range\":{\"id\":\"48561\",\"type\":\"Range1d\"},\"x_scale\":{\"id\":\"48439\",\"type\":\"LinearScale\"},\"y_range\":{\"id\":\"48563\",\"type\":\"Range1d\"},\"y_scale\":{\"id\":\"48441\",\"type\":\"LinearScale\"}},\"id\":\"48434\",\"subtype\":\"Figure\",\"type\":\"Plot\"},{\"attributes\":{\"children\":[{\"id\":\"48434\",\"subtype\":\"Figure\",\"type\":\"Plot\"},{\"id\":\"48466\",\"subtype\":\"Figure\",\"type\":\"Plot\"},{\"id\":\"48498\",\"subtype\":\"Figure\",\"type\":\"Plot\"}]},\"id\":\"48645\",\"type\":\"Row\"},{\"attributes\":{\"callback\":null,\"data\":{\"x\":{\"__ndarray__\":\"AAAAAAAAAACamZmZmZm5P5qZmZmZmck/MzMzMzMz0z+amZmZmZnZPwAAAAAAAOA/MzMzMzMz4z9mZmZmZmbmP5qZmZmZmek/zczMzMzM7D8AAAAAAADwP5qZmZmZmfE/MzMzMzMz8z/NzMzMzMz0P2ZmZmZmZvY/AAAAAAAA+D+amZmZmZn5Pw==\",\"dtype\":\"float64\",\"shape\":[17]},\"y\":{\"__ndarray__\":\"AAAAAAAAAAAAAAAAAAAAAAAAAAAAAAAAAAAAAAAAAAAAAAAAAAAAAAAAAAAAAAAAAAAAAAAAAAAAAAAAAAAAAAAAAAAAAAAA/Knx0k1iQD+4+qAdJtBWP1/b7Fkh9oM/ZTkJpS+EnD9JMNXMWgrAP86luKrsu9o/xRaCHJQw7z/Opbiq7Lv6Pw==\",\"dtype\":\"float64\",\"shape\":[17]}},\"selected\":{\"id\":\"48689\",\"type\":\"Selection\"},\"selection_policy\":{\"id\":\"48688\",\"type\":\"UnionRenderers\"}},\"id\":\"48590\",\"type\":\"ColumnDataSource\"},{\"attributes\":{},\"id\":\"48665\",\"type\":\"UnionRenderers\"},{\"attributes\":{\"background_fill_color\":{\"value\":\"#eaeaea\"},\"below\":[{\"id\":\"48475\",\"type\":\"LinearAxis\"}],\"center\":[{\"id\":\"48479\",\"type\":\"Grid\"},{\"id\":\"48484\",\"type\":\"Grid\"}],\"left\":[{\"id\":\"48480\",\"type\":\"LinearAxis\"}],\"plot_height\":285,\"plot_width\":260,\"renderers\":[{\"id\":\"48568\",\"type\":\"GlyphRenderer\"},{\"id\":\"48573\",\"type\":\"GlyphRenderer\"},{\"id\":\"48578\",\"type\":\"GlyphRenderer\"},{\"id\":\"48583\",\"type\":\"GlyphRenderer\"},{\"id\":\"48588\",\"type\":\"GlyphRenderer\"},{\"id\":\"48593\",\"type\":\"GlyphRenderer\"}],\"title\":{\"id\":\"48599\",\"type\":\"Title\"},\"toolbar\":{\"id\":\"48491\",\"type\":\"Toolbar\"},\"x_range\":{\"id\":\"48596\",\"type\":\"Range1d\"},\"x_scale\":{\"id\":\"48471\",\"type\":\"LinearScale\"},\"y_range\":{\"id\":\"48598\",\"type\":\"Range1d\"},\"y_scale\":{\"id\":\"48473\",\"type\":\"LinearScale\"}},\"id\":\"48466\",\"subtype\":\"Figure\",\"type\":\"Plot\"},{\"attributes\":{\"items\":[{\"id\":\"48641\",\"type\":\"LegendItem\"},{\"id\":\"48642\",\"type\":\"LegendItem\"},{\"id\":\"48643\",\"type\":\"LegendItem\"},{\"id\":\"48644\",\"type\":\"LegendItem\"}]},\"id\":\"48640\",\"type\":\"Legend\"},{\"attributes\":{\"line_alpha\":0.1,\"line_color\":\"#1f77b4\",\"x\":{\"field\":\"x\"},\"y\":{\"field\":\"y\"}},\"id\":\"48537\",\"type\":\"Line\"},{\"attributes\":{},\"id\":\"48453\",\"type\":\"PanTool\"},{\"attributes\":{\"line_alpha\":0.1,\"line_color\":\"#1f77b4\",\"x\":{\"field\":\"x\"},\"y\":{\"field\":\"y\"}},\"id\":\"48572\",\"type\":\"Line\"},{\"attributes\":{\"callback\":null,\"data\":{\"x\":{\"__ndarray__\":\"AAAAAAAAAACamZmZmZm5P5qZmZmZmck/MzMzMzMz0z+amZmZmZnZPwAAAAAAAOA/MzMzMzMz4z9mZmZmZmbmP5qZmZmZmek/zczMzMzM7D8AAAAAAADwP5qZmZmZmfE/MzMzMzMz8z/NzMzMzMz0P2ZmZmZmZvY/AAAAAAAA+D+amZmZmZn5Pw==\",\"dtype\":\"float64\",\"shape\":[17]},\"y\":{\"__ndarray__\":\"AAAAAAAAAAAAAAAAAAAAAAAAAAAAAAAAAAAAAAAAAAAAAAAAAAAAAAAAAAAAAAAAexSuR+F6ZD+4HoXrUbh+P+xRuB6F65E/mpmZmZmZmT8zMzMzMzOzP2ZmZmZmZsY/zczMzMzMzD8AAAAAAAD0PwAAAAAAAABAAAAAAAAADEAAAAAAAAAUQA==\",\"dtype\":\"float64\",\"shape\":[17]}},\"selected\":{\"id\":\"48696\",\"type\":\"Selection\"},\"selection_policy\":{\"id\":\"48695\",\"type\":\"UnionRenderers\"}},\"id\":\"48610\",\"type\":\"ColumnDataSource\"},{\"attributes\":{\"fill_alpha\":{\"value\":0.1},\"fill_color\":{\"value\":\"#1f77b4\"},\"line_alpha\":{\"value\":0.1},\"line_color\":{\"value\":\"#1f77b4\"},\"size\":{\"units\":\"screen\",\"value\":9},\"x\":{\"field\":\"x\"},\"y\":{\"field\":\"y\"}},\"id\":\"48622\",\"type\":\"Square\"},{\"attributes\":{\"data_source\":{\"id\":\"48615\",\"type\":\"ColumnDataSource\"},\"glyph\":{\"id\":\"48616\",\"type\":\"Line\"},\"hover_glyph\":null,\"muted_glyph\":null,\"nonselection_glyph\":{\"id\":\"48617\",\"type\":\"Line\"},\"selection_glyph\":null,\"view\":{\"id\":\"48619\",\"type\":\"CDSView\"}},\"id\":\"48618\",\"type\":\"GlyphRenderer\"},{\"attributes\":{},\"id\":\"48456\",\"type\":\"SaveTool\"},{\"attributes\":{\"fill_alpha\":{\"value\":0.1},\"fill_color\":{\"value\":\"#1f77b4\"},\"line_alpha\":{\"value\":0.1},\"line_color\":{\"value\":\"#1f77b4\"},\"size\":{\"units\":\"screen\",\"value\":9},\"x\":{\"field\":\"x\"},\"y\":{\"field\":\"y\"}},\"id\":\"48567\",\"type\":\"Circle\"},{\"attributes\":{\"callback\":null,\"end\":5.25},\"id\":\"48633\",\"type\":\"Range1d\"},{\"attributes\":{\"callback\":null,\"data\":{\"x\":{\"__ndarray__\":\"AAAAAAAAAACamZmZmZm5P5qZmZmZmck/MzMzMzMz0z+amZmZmZnZPwAAAAAAAOA/MzMzMzMz4z9mZmZmZmbmP5qZmZmZmek/zczMzMzM7D8AAAAAAADwP5qZmZmZmfE/MzMzMzMz8z/NzMzMzMz0P2ZmZmZmZvY/AAAAAAAA+D+amZmZmZn5Pw==\",\"dtype\":\"float64\",\"shape\":[17]},\"y\":{\"__ndarray__\":\"AAAAAAAAAAAAAAAAAAAAAAAAAAAAAAAAAAAAAAAAAAAAAAAAAAAAAAAAAAAAAAAAAAAAAAAAAAAAAAAAAAAAAAAAAAAAAAAAAAAAAAAAAABhMlUwKqlTPxWMSuoENIE/+n5qvHSTmD/azvdT46W7PwrXo3A9Ctc/4XoUrkfh6j8K16NwPQr3Pw==\",\"dtype\":\"float64\",\"shape\":[17]}},\"selected\":{\"id\":\"48679\",\"type\":\"Selection\"},\"selection_policy\":{\"id\":\"48678\",\"type\":\"UnionRenderers\"}},\"id\":\"48565\",\"type\":\"ColumnDataSource\"},{\"attributes\":{\"fill_alpha\":{\"value\":0.1},\"fill_color\":{\"value\":\"#1f77b4\"},\"line_alpha\":{\"value\":0.1},\"line_color\":{\"value\":\"#1f77b4\"},\"size\":{\"units\":\"screen\",\"value\":9},\"x\":{\"field\":\"x\"},\"y\":{\"field\":\"y\"}},\"id\":\"48587\",\"type\":\"Square\"},{\"attributes\":{},\"id\":\"48439\",\"type\":\"LinearScale\"},{\"attributes\":{},\"id\":\"48471\",\"type\":\"LinearScale\"},{\"attributes\":{\"axis_label\":\"Voltage\",\"axis_label_text_color\":{\"value\":\"#000000\"},\"axis_label_text_font\":\"sans-serif\",\"axis_label_text_font_size\":{\"value\":\"14pt\"},\"formatter\":{\"id\":\"48657\",\"type\":\"BasicTickFormatter\"},\"major_label_text_font_size\":{\"value\":\"13pt\"},\"ticker\":{\"id\":\"48476\",\"type\":\"BasicTicker\"}},\"id\":\"48475\",\"type\":\"LinearAxis\"},{\"attributes\":{\"data_source\":{\"id\":\"48620\",\"type\":\"ColumnDataSource\"},\"glyph\":{\"id\":\"48621\",\"type\":\"Square\"},\"hover_glyph\":null,\"muted_glyph\":null,\"nonselection_glyph\":{\"id\":\"48622\",\"type\":\"Square\"},\"selection_glyph\":null,\"view\":{\"id\":\"48624\",\"type\":\"CDSView\"}},\"id\":\"48623\",\"type\":\"GlyphRenderer\"},{\"attributes\":{\"source\":{\"id\":\"48565\",\"type\":\"ColumnDataSource\"}},\"id\":\"48569\",\"type\":\"CDSView\"},{\"attributes\":{\"source\":{\"id\":\"48590\",\"type\":\"ColumnDataSource\"}},\"id\":\"48594\",\"type\":\"CDSView\"},{\"attributes\":{\"fill_alpha\":{\"value\":0.1},\"fill_color\":{\"value\":\"#1f77b4\"},\"line_alpha\":{\"value\":0.1},\"line_color\":{\"value\":\"#1f77b4\"},\"size\":{\"units\":\"screen\",\"value\":9},\"x\":{\"field\":\"x\"},\"y\":{\"field\":\"y\"}},\"id\":\"48602\",\"type\":\"Circle\"},{\"attributes\":{\"source\":{\"id\":\"48600\",\"type\":\"ColumnDataSource\"}},\"id\":\"48604\",\"type\":\"CDSView\"},{\"attributes\":{},\"id\":\"48663\",\"type\":\"BasicTickFormatter\"},{\"attributes\":{\"data_source\":{\"id\":\"48605\",\"type\":\"ColumnDataSource\"},\"glyph\":{\"id\":\"48606\",\"type\":\"Line\"},\"hover_glyph\":null,\"muted_glyph\":null,\"nonselection_glyph\":{\"id\":\"48607\",\"type\":\"Line\"},\"selection_glyph\":null,\"view\":{\"id\":\"48609\",\"type\":\"CDSView\"}},\"id\":\"48608\",\"type\":\"GlyphRenderer\"},{\"attributes\":{\"axis_label\":\"Voltage\",\"axis_label_text_color\":{\"value\":\"#000000\"},\"axis_label_text_font\":\"sans-serif\",\"axis_label_text_font_size\":{\"value\":\"14pt\"},\"formatter\":{\"id\":\"48653\",\"type\":\"BasicTickFormatter\"},\"major_label_text_font_size\":{\"value\":\"13pt\"},\"ticker\":{\"id\":\"48444\",\"type\":\"BasicTicker\"}},\"id\":\"48443\",\"type\":\"LinearAxis\"},{\"attributes\":{},\"id\":\"48488\",\"type\":\"SaveTool\"},{\"attributes\":{\"line_alpha\":0.1,\"line_color\":\"#1f77b4\",\"x\":{\"field\":\"x\"},\"y\":{\"field\":\"y\"}},\"id\":\"48582\",\"type\":\"Line\"},{\"attributes\":{\"data_source\":{\"id\":\"48575\",\"type\":\"ColumnDataSource\"},\"glyph\":{\"id\":\"48576\",\"type\":\"Cross\"},\"hover_glyph\":null,\"muted_glyph\":null,\"nonselection_glyph\":{\"id\":\"48577\",\"type\":\"Cross\"},\"selection_glyph\":null,\"view\":{\"id\":\"48579\",\"type\":\"CDSView\"}},\"id\":\"48578\",\"type\":\"GlyphRenderer\"},{\"attributes\":{\"active_drag\":\"auto\",\"active_inspect\":\"auto\",\"active_multi\":null,\"active_scroll\":\"auto\",\"active_tap\":\"auto\",\"tools\":[{\"id\":\"48453\",\"type\":\"PanTool\"},{\"id\":\"48454\",\"type\":\"WheelZoomTool\"},{\"id\":\"48455\",\"type\":\"BoxZoomTool\"},{\"id\":\"48456\",\"type\":\"SaveTool\"},{\"id\":\"48457\",\"type\":\"ResetTool\"},{\"id\":\"48458\",\"type\":\"HelpTool\"}]},\"id\":\"48459\",\"type\":\"Toolbar\"},{\"attributes\":{\"callback\":null,\"data\":{\"x\":{\"__ndarray__\":\"AAAAAAAAAACamZmZmZm5P5qZmZmZmck/MzMzMzMz0z+amZmZmZnZPwAAAAAAAOA/MzMzMzMz4z9mZmZmZmbmP5qZmZmZmek/zczMzMzM7D8AAAAAAADwP5qZmZmZmfE/MzMzMzMz8z/NzMzMzMz0P2ZmZmZmZvY/AAAAAAAA+D+amZmZmZn5Pw==\",\"dtype\":\"float64\",\"shape\":[17]},\"y\":{\"__ndarray__\":\"AAAAAAAAAAAAAAAAAAAAAAAAAAAAAAAAAAAAAAAAAAAAAAAAAAAAAAAAAAAAAAAAL26jAbwFUj9GJXUCmghrP9IA3gIJin8/u0kMAiuHhj9MN4lBYOWgP4PAyqFFtrM/8tJNYhBYuT+amZmZmZnhPylcj8L1KOw/pHA9Ctej+D+amZmZmZkBQA==\",\"dtype\":\"float64\",\"shape\":[17]}},\"selected\":{\"id\":\"48702\",\"type\":\"Selection\"},\"selection_policy\":{\"id\":\"48701\",\"type\":\"UnionRenderers\"}},\"id\":\"48625\",\"type\":\"ColumnDataSource\"},{\"attributes\":{\"source\":{\"id\":\"48585\",\"type\":\"ColumnDataSource\"}},\"id\":\"48589\",\"type\":\"CDSView\"},{\"attributes\":{\"fill_color\":{\"value\":null},\"line_color\":{\"value\":null},\"size\":{\"units\":\"screen\",\"value\":1e-08},\"x\":{\"value\":0},\"y\":{\"value\":0}},\"id\":\"48636\",\"type\":\"Circle\"},{\"attributes\":{},\"id\":\"48485\",\"type\":\"PanTool\"},{\"attributes\":{},\"id\":\"48666\",\"type\":\"Selection\"},{\"attributes\":{\"label\":{\"value\":\"Die\"},\"renderers\":[{\"id\":\"48638\",\"type\":\"GlyphRenderer\"}]},\"id\":\"48641\",\"type\":\"LegendItem\"},{\"attributes\":{\"line_color\":\"#4b72b0\",\"x\":{\"field\":\"x\"},\"y\":{\"field\":\"y\"}},\"id\":\"48571\",\"type\":\"Line\"},{\"attributes\":{\"line_alpha\":0.1,\"line_color\":\"#1f77b4\",\"x\":{\"field\":\"x\"},\"y\":{\"field\":\"y\"}},\"id\":\"48607\",\"type\":\"Line\"},{\"attributes\":{\"fill_color\":{\"value\":null},\"line_color\":{\"value\":\"#54a767\"},\"size\":{\"units\":\"screen\",\"value\":9},\"x\":{\"field\":\"x\"},\"y\":{\"field\":\"y\"}},\"id\":\"48586\",\"type\":\"Square\"},{\"attributes\":{},\"id\":\"48454\",\"type\":\"WheelZoomTool\"},{\"attributes\":{\"fill_alpha\":{\"value\":0.1},\"fill_color\":{\"value\":\"#1f77b4\"},\"line_alpha\":{\"value\":0.1},\"line_color\":{\"value\":\"#1f77b4\"},\"size\":{\"units\":\"screen\",\"value\":1e-08},\"x\":{\"value\":0},\"y\":{\"value\":0}},\"id\":\"48637\",\"type\":\"Circle\"},{\"attributes\":{\"data_source\":{\"id\":\"48570\",\"type\":\"ColumnDataSource\"},\"glyph\":{\"id\":\"48571\",\"type\":\"Line\"},\"hover_glyph\":null,\"muted_glyph\":null,\"nonselection_glyph\":{\"id\":\"48572\",\"type\":\"Line\"},\"selection_glyph\":null,\"view\":{\"id\":\"48574\",\"type\":\"CDSView\"}},\"id\":\"48573\",\"type\":\"GlyphRenderer\"},{\"attributes\":{},\"id\":\"48449\",\"type\":\"BasicTicker\"},{\"attributes\":{},\"id\":\"48489\",\"type\":\"ResetTool\"},{\"attributes\":{\"callback\":null,\"data\":{\"x\":{\"__ndarray__\":\"AAAAAAAAAACamZmZmZm5P5qZmZmZmck/MzMzMzMz0z+amZmZmZnZPwAAAAAAAOA/MzMzMzMz4z9mZmZmZmbmP5qZmZmZmek/zczMzMzM7D8AAAAAAADwP5qZmZmZmfE/MzMzMzMz8z/NzMzMzMz0P2ZmZmZmZvY/AAAAAAAA+D+amZmZmZn5Pw==\",\"dtype\":\"float64\",\"shape\":[17]},\"y\":{\"__ndarray__\":\"AAAAAAAAAAAAAAAAAAAAAAAAAAAAAAAAAAAAAAAAAAAAAAAAAAAAAAAAAAAAAAAAexSuR+F6ZD+4HoXrUbh+P+xRuB6F65E/mpmZmZmZmT8zMzMzMzOzP2ZmZmZmZsY/zczMzMzMzD8AAAAAAAD0PwAAAAAAAABAAAAAAAAADEAAAAAAAAAUQA==\",\"dtype\":\"float64\",\"shape\":[17]}},\"selected\":{\"id\":\"48698\",\"type\":\"Selection\"},\"selection_policy\":{\"id\":\"48697\",\"type\":\"UnionRenderers\"}},\"id\":\"48615\",\"type\":\"ColumnDataSource\"},{\"attributes\":{\"data_source\":{\"id\":\"48535\",\"type\":\"ColumnDataSource\"},\"glyph\":{\"id\":\"48536\",\"type\":\"Line\"},\"hover_glyph\":null,\"muted_glyph\":null,\"nonselection_glyph\":{\"id\":\"48537\",\"type\":\"Line\"},\"selection_glyph\":null,\"view\":{\"id\":\"48539\",\"type\":\"CDSView\"}},\"id\":\"48538\",\"type\":\"GlyphRenderer\"},{\"attributes\":{\"line_color\":\"#c34e52\",\"x\":{\"field\":\"x\"},\"y\":{\"field\":\"y\"}},\"id\":\"48616\",\"type\":\"Line\"},{\"attributes\":{\"source\":{\"id\":\"48635\",\"type\":\"ColumnDataSource\"}},\"id\":\"48639\",\"type\":\"CDSView\"},{\"attributes\":{\"grid_line_color\":{\"value\":\"#ffffff\"},\"grid_line_width\":{\"value\":1.3},\"minor_grid_line_width\":{\"value\":0.5},\"ticker\":{\"id\":\"48476\",\"type\":\"BasicTicker\"}},\"id\":\"48479\",\"type\":\"Grid\"},{\"attributes\":{\"callback\":null,\"data\":{},\"selected\":{\"id\":\"48704\",\"type\":\"Selection\"},\"selection_policy\":{\"id\":\"48703\",\"type\":\"UnionRenderers\"}},\"id\":\"48635\",\"type\":\"ColumnDataSource\"},{\"attributes\":{},\"id\":\"48661\",\"type\":\"BasicTickFormatter\"},{\"attributes\":{},\"id\":\"48701\",\"type\":\"UnionRenderers\"},{\"attributes\":{\"callback\":null,\"data\":{\"x\":{\"__ndarray__\":\"AAAAAAAAAACamZmZmZm5P5qZmZmZmck/MzMzMzMz0z+amZmZmZnZPwAAAAAAAOA/MzMzMzMz4z9mZmZmZmbmP5qZmZmZmek/zczMzMzM7D8AAAAAAADwP5qZmZmZmfE/MzMzMzMz8z/NzMzMzMz0P2ZmZmZmZvY/AAAAAAAA+D+amZmZmZn5Pw==\",\"dtype\":\"float64\",\"shape\":[17]},\"y\":{\"__ndarray__\":\"AAAAAAAAAAAAAAAAAAAAAAAAAAAAAAAAAAAAAAAAAAAAAAAAAAAAAAAAAAAAAAAAL26jAbwFUj9GJXUCmghrP9IA3gIJin8/u0kMAiuHhj9MN4lBYOWgP4PAyqFFtrM/8tJNYhBYuT+amZmZmZnhPylcj8L1KOw/pHA9Ctej+D+amZmZmZkBQA==\",\"dtype\":\"float64\",\"shape\":[17]}},\"selected\":{\"id\":\"48700\",\"type\":\"Selection\"},\"selection_policy\":{\"id\":\"48699\",\"type\":\"UnionRenderers\"}},\"id\":\"48620\",\"type\":\"ColumnDataSource\"},{\"attributes\":{\"line_alpha\":0.1,\"line_color\":\"#1f77b4\",\"x\":{\"field\":\"x\"},\"y\":{\"field\":\"y\"}},\"id\":\"48627\",\"type\":\"Line\"},{\"attributes\":{\"grid_line_color\":{\"value\":\"#ffffff\"},\"grid_line_width\":{\"value\":1.3},\"minor_grid_line_width\":{\"value\":0.5},\"ticker\":{\"id\":\"48444\",\"type\":\"BasicTicker\"}},\"id\":\"48447\",\"type\":\"Grid\"},{\"attributes\":{\"data_source\":{\"id\":\"48635\",\"type\":\"ColumnDataSource\"},\"glyph\":{\"id\":\"48636\",\"type\":\"Circle\"},\"hover_glyph\":null,\"muted_glyph\":null,\"nonselection_glyph\":{\"id\":\"48637\",\"type\":\"Circle\"},\"selection_glyph\":null,\"view\":{\"id\":\"48639\",\"type\":\"CDSView\"}},\"id\":\"48638\",\"type\":\"GlyphRenderer\"},{\"attributes\":{\"overlay\":{\"id\":\"48664\",\"type\":\"BoxAnnotation\"}},\"id\":\"48455\",\"type\":\"BoxZoomTool\"},{\"attributes\":{},\"id\":\"48702\",\"type\":\"Selection\"},{\"attributes\":{\"line_color\":\"#54a767\",\"x\":{\"field\":\"x\"},\"y\":{\"field\":\"y\"}},\"id\":\"48591\",\"type\":\"Line\"},{\"attributes\":{\"source\":{\"id\":\"48575\",\"type\":\"ColumnDataSource\"}},\"id\":\"48579\",\"type\":\"CDSView\"},{\"attributes\":{\"line_color\":\"#4b72b0\",\"x\":{\"field\":\"x\"},\"y\":{\"field\":\"y\"}},\"id\":\"48606\",\"type\":\"Line\"},{\"attributes\":{\"align\":\"center\",\"background_fill_color\":{\"value\":\"#8c8c8c\"},\"text\":\" Boost Level=1.0 \",\"text_color\":{\"value\":\"#ffffff\"},\"text_font_size\":{\"value\":\"16pt\"}},\"id\":\"48634\",\"type\":\"Title\"},{\"attributes\":{},\"id\":\"48458\",\"type\":\"HelpTool\"},{\"attributes\":{\"source\":{\"id\":\"48605\",\"type\":\"ColumnDataSource\"}},\"id\":\"48609\",\"type\":\"CDSView\"},{\"attributes\":{\"fill_color\":{\"value\":null},\"line_color\":{\"value\":\"#c34e52\"},\"size\":{\"units\":\"screen\",\"value\":9},\"x\":{\"field\":\"x\"},\"y\":{\"field\":\"y\"}},\"id\":\"48576\",\"type\":\"Cross\"},{\"attributes\":{\"label\":{\"value\":\"(2,-1)\"},\"renderers\":[{\"id\":\"48613\",\"type\":\"GlyphRenderer\"},{\"id\":\"48618\",\"type\":\"GlyphRenderer\"}]},\"id\":\"48643\",\"type\":\"LegendItem\"},{\"attributes\":{\"callback\":null,\"data\":{\"x\":{\"__ndarray__\":\"AAAAAAAAAACamZmZmZm5P5qZmZmZmck/MzMzMzMz0z+amZmZmZnZPwAAAAAAAOA/MzMzMzMz4z9mZmZmZmbmP5qZmZmZmek/zczMzMzM7D8AAAAAAADwP5qZmZmZmfE/MzMzMzMz8z/NzMzMzMz0P2ZmZmZmZvY/AAAAAAAA+D+amZmZmZn5Pw==\",\"dtype\":\"float64\",\"shape\":[17]},\"y\":{\"__ndarray__\":\"AAAAAAAAAAAAAAAAAAAAAAAAAAAAAAAAAAAAAAAAAAAAAAAAAAAAAAAAAAAAAAAAznADPj+MUD81KQXdXtJoP2gFhqxu9Xw/AU2EDU+vhD+Cc0aU9gafP2HD0ytlGbI/odY07zhFtz8pXI/C9SjgP0Fg5dAi2+k/OrTIdr6f9j8pXI/C9SgAQA==\",\"dtype\":\"float64\",\"shape\":[17]}},\"selected\":{\"id\":\"48694\",\"type\":\"Selection\"},\"selection_policy\":{\"id\":\"48693\",\"type\":\"UnionRenderers\"}},\"id\":\"48605\",\"type\":\"ColumnDataSource\"},{\"attributes\":{},\"id\":\"48457\",\"type\":\"ResetTool\"},{\"attributes\":{\"line_alpha\":0.1,\"line_color\":\"#1f77b4\",\"x\":{\"field\":\"x\"},\"y\":{\"field\":\"y\"}},\"id\":\"48592\",\"type\":\"Line\"},{\"attributes\":{\"source\":{\"id\":\"48620\",\"type\":\"ColumnDataSource\"}},\"id\":\"48624\",\"type\":\"CDSView\"},{\"attributes\":{\"callback\":null,\"data\":{\"x\":{\"__ndarray__\":\"AAAAAAAAAACamZmZmZm5P5qZmZmZmck/MzMzMzMz0z+amZmZmZnZPwAAAAAAAOA/MzMzMzMz4z9mZmZmZmbmP5qZmZmZmek/zczMzMzM7D8AAAAAAADwP5qZmZmZmfE/MzMzMzMz8z/NzMzMzMz0P2ZmZmZmZvY/AAAAAAAA+D+amZmZmZn5Pw==\",\"dtype\":\"float64\",\"shape\":[17]},\"y\":{\"__ndarray__\":\"AAAAAAAAAAAAAAAAAAAAAAAAAAAAAAAAAAAAAAAAAAAAAAAAAAAAAAAAAAAAAAAAAAAAAAAAAAAAAAAAAAAAAAAAAAAAAAAA/Knx0k1iUD+Qa0PFOH9TPx3+mqxRD4E/dEaU9gZfmD9Cz2bV52q7Pw0CK4cW2dY/Di2yne+n6j8NAiuHFtn2Pw==\",\"dtype\":\"float64\",\"shape\":[17]}},\"selected\":{\"id\":\"48685\",\"type\":\"Selection\"},\"selection_policy\":{\"id\":\"48684\",\"type\":\"UnionRenderers\"}},\"id\":\"48580\",\"type\":\"ColumnDataSource\"},{\"attributes\":{},\"id\":\"48486\",\"type\":\"WheelZoomTool\"},{\"attributes\":{\"line_alpha\":0.1,\"line_color\":\"#1f77b4\",\"x\":{\"field\":\"x\"},\"y\":{\"field\":\"y\"}},\"id\":\"48617\",\"type\":\"Line\"},{\"attributes\":{\"data_source\":{\"id\":\"48580\",\"type\":\"ColumnDataSource\"},\"glyph\":{\"id\":\"48581\",\"type\":\"Line\"},\"hover_glyph\":null,\"muted_glyph\":null,\"nonselection_glyph\":{\"id\":\"48582\",\"type\":\"Line\"},\"selection_glyph\":null,\"view\":{\"id\":\"48584\",\"type\":\"CDSView\"}},\"id\":\"48583\",\"type\":\"GlyphRenderer\"},{\"attributes\":{\"axis_label\":\"I [A]\",\"axis_label_text_color\":{\"value\":\"#000000\"},\"axis_label_text_font\":\"sans-serif\",\"axis_label_text_font_size\":{\"value\":\"14pt\"},\"formatter\":{\"id\":\"48655\",\"type\":\"BasicTickFormatter\"},\"major_label_text_font_size\":{\"value\":\"13pt\"},\"ticker\":{\"id\":\"48449\",\"type\":\"BasicTicker\"}},\"id\":\"48448\",\"type\":\"LinearAxis\"},{\"attributes\":{\"data_source\":{\"id\":\"48610\",\"type\":\"ColumnDataSource\"},\"glyph\":{\"id\":\"48611\",\"type\":\"Cross\"},\"hover_glyph\":null,\"muted_glyph\":null,\"nonselection_glyph\":{\"id\":\"48612\",\"type\":\"Cross\"},\"selection_glyph\":null,\"view\":{\"id\":\"48614\",\"type\":\"CDSView\"}},\"id\":\"48613\",\"type\":\"GlyphRenderer\"},{\"attributes\":{},\"id\":\"48490\",\"type\":\"HelpTool\"},{\"attributes\":{\"line_color\":\"#c34e52\",\"x\":{\"field\":\"x\"},\"y\":{\"field\":\"y\"}},\"id\":\"48581\",\"type\":\"Line\"},{\"attributes\":{},\"id\":\"48505\",\"type\":\"LinearScale\"},{\"attributes\":{\"data_source\":{\"id\":\"48585\",\"type\":\"ColumnDataSource\"},\"glyph\":{\"id\":\"48586\",\"type\":\"Square\"},\"hover_glyph\":null,\"muted_glyph\":null,\"nonselection_glyph\":{\"id\":\"48587\",\"type\":\"Square\"},\"selection_glyph\":null,\"view\":{\"id\":\"48589\",\"type\":\"CDSView\"}},\"id\":\"48588\",\"type\":\"GlyphRenderer\"},{\"attributes\":{\"data_source\":{\"id\":\"48565\",\"type\":\"ColumnDataSource\"},\"glyph\":{\"id\":\"48566\",\"type\":\"Circle\"},\"hover_glyph\":null,\"muted_glyph\":null,\"nonselection_glyph\":{\"id\":\"48567\",\"type\":\"Circle\"},\"selection_glyph\":null,\"view\":{\"id\":\"48569\",\"type\":\"CDSView\"}},\"id\":\"48568\",\"type\":\"GlyphRenderer\"},{\"attributes\":{},\"id\":\"48689\",\"type\":\"Selection\"},{\"attributes\":{},\"id\":\"48680\",\"type\":\"UnionRenderers\"},{\"attributes\":{\"align\":\"center\",\"background_fill_color\":{\"value\":\"#8c8c8c\"},\"text\":\" Boost Level=0.2 \",\"text_color\":{\"value\":\"#ffffff\"},\"text_font_size\":{\"value\":\"16pt\"}},\"id\":\"48564\",\"type\":\"Title\"},{\"attributes\":{},\"id\":\"48520\",\"type\":\"SaveTool\"},{\"attributes\":{\"source\":{\"id\":\"48550\",\"type\":\"ColumnDataSource\"}},\"id\":\"48554\",\"type\":\"CDSView\"},{\"attributes\":{},\"id\":\"48678\",\"type\":\"UnionRenderers\"},{\"attributes\":{\"data_source\":{\"id\":\"48530\",\"type\":\"ColumnDataSource\"},\"glyph\":{\"id\":\"48531\",\"type\":\"Circle\"},\"hover_glyph\":null,\"muted_glyph\":null,\"nonselection_glyph\":{\"id\":\"48532\",\"type\":\"Circle\"},\"selection_glyph\":null,\"view\":{\"id\":\"48534\",\"type\":\"CDSView\"}},\"id\":\"48533\",\"type\":\"GlyphRenderer\"},{\"attributes\":{\"callback\":null,\"data\":{\"x\":{\"__ndarray__\":\"AAAAAAAAAACamZmZmZm5P5qZmZmZmck/MzMzMzMz0z+amZmZmZnZPwAAAAAAAOA/MzMzMzMz4z9mZmZmZmbmP5qZmZmZmek/zczMzMzM7D8AAAAAAADwP5qZmZmZmfE/MzMzMzMz8z/NzMzMzMz0P2ZmZmZmZvY/AAAAAAAA+D+amZmZmZn5Pw==\",\"dtype\":\"float64\",\"shape\":[17]},\"y\":{\"__ndarray__\":\"AAAAAAAAAAAAAAAAAAAAAAAAAAAAAAAAAAAAAAAAAAAAAAAAAAAAAAAAAAAAAAAAAAAAAAAAAAAAAAAAAAAAAAAAAAAAAAAAAAAAAAAAAAD8qfHSTWJgP3jpJjEIrIw/exSuR+F6pD8K16NwPQrHPylcj8L1KOQ/MzMzMzMz8z/GSzeJQWDzPw==\",\"dtype\":\"float64\",\"shape\":[17]}},\"selected\":{\"id\":\"48676\",\"type\":\"Selection\"},\"selection_policy\":{\"id\":\"48675\",\"type\":\"UnionRenderers\"}},\"id\":\"48555\",\"type\":\"ColumnDataSource\"},{\"attributes\":{\"callback\":null,\"data\":{\"x\":{\"__ndarray__\":\"AAAAAAAAAACamZmZmZm5P5qZmZmZmck/MzMzMzMz0z+amZmZmZnZPwAAAAAAAOA/MzMzMzMz4z9mZmZmZmbmP5qZmZmZmek/zczMzMzM7D8AAAAAAADwP5qZmZmZmfE/MzMzMzMz8z/NzMzMzMz0P2ZmZmZmZvY/AAAAAAAA+D+amZmZmZn5Pw==\",\"dtype\":\"float64\",\"shape\":[17]},\"y\":{\"__ndarray__\":\"AAAAAAAAAAAAAAAAAAAAAAAAAAAAAAAAAAAAAAAAAAAAAAAAAAAAAAAAAAAAAAAAAAAAAAAAAAAAAAAAAAAAAAAAAAAAAAAAAAAAAAAAAAD8qfHSTWJQP3jpJjEIrHw/Gy/dJAaBlT+yne+nxku3P39qvHSTGNQ/N4lBYOXQ5j8/NV66SQz0Pw==\",\"dtype\":\"float64\",\"shape\":[17]}},\"selected\":{\"id\":\"48668\",\"type\":\"Selection\"},\"selection_policy\":{\"id\":\"48667\",\"type\":\"UnionRenderers\"}},\"id\":\"48535\",\"type\":\"ColumnDataSource\"},{\"attributes\":{},\"id\":\"48674\",\"type\":\"Selection\"},{\"attributes\":{\"grid_line_color\":{\"value\":\"#ffffff\"},\"grid_line_width\":{\"value\":1.3},\"minor_grid_line_width\":{\"value\":0.5},\"ticker\":{\"id\":\"48508\",\"type\":\"BasicTicker\"}},\"id\":\"48511\",\"type\":\"Grid\"},{\"attributes\":{},\"id\":\"48687\",\"type\":\"Selection\"},{\"attributes\":{\"source\":{\"id\":\"48545\",\"type\":\"ColumnDataSource\"}},\"id\":\"48549\",\"type\":\"CDSView\"},{\"attributes\":{},\"id\":\"48653\",\"type\":\"BasicTickFormatter\"},{\"attributes\":{\"fill_color\":{\"value\":null},\"line_color\":{\"value\":\"#54a767\"},\"size\":{\"units\":\"screen\",\"value\":9},\"x\":{\"field\":\"x\"},\"y\":{\"field\":\"y\"}},\"id\":\"48551\",\"type\":\"Square\"},{\"attributes\":{},\"id\":\"48686\",\"type\":\"UnionRenderers\"},{\"attributes\":{\"data_source\":{\"id\":\"48540\",\"type\":\"ColumnDataSource\"},\"glyph\":{\"id\":\"48541\",\"type\":\"Cross\"},\"hover_glyph\":null,\"muted_glyph\":null,\"nonselection_glyph\":{\"id\":\"48542\",\"type\":\"Cross\"},\"selection_glyph\":null,\"view\":{\"id\":\"48544\",\"type\":\"CDSView\"}},\"id\":\"48543\",\"type\":\"GlyphRenderer\"},{\"attributes\":{\"data_source\":{\"id\":\"48555\",\"type\":\"ColumnDataSource\"},\"glyph\":{\"id\":\"48556\",\"type\":\"Line\"},\"hover_glyph\":null,\"muted_glyph\":null,\"nonselection_glyph\":{\"id\":\"48557\",\"type\":\"Line\"},\"selection_glyph\":null,\"view\":{\"id\":\"48559\",\"type\":\"CDSView\"}},\"id\":\"48558\",\"type\":\"GlyphRenderer\"},{\"attributes\":{\"line_color\":\"#54a767\",\"x\":{\"field\":\"x\"},\"y\":{\"field\":\"y\"}},\"id\":\"48556\",\"type\":\"Line\"},{\"attributes\":{\"callback\":null,\"end\":5.25},\"id\":\"48563\",\"type\":\"Range1d\"},{\"attributes\":{\"line_alpha\":0.1,\"line_color\":\"#1f77b4\",\"x\":{\"field\":\"x\"},\"y\":{\"field\":\"y\"}},\"id\":\"48547\",\"type\":\"Line\"},{\"attributes\":{},\"id\":\"48673\",\"type\":\"UnionRenderers\"},{\"attributes\":{\"fill_color\":{\"value\":null},\"line_color\":{\"value\":\"#c34e52\"},\"size\":{\"units\":\"screen\",\"value\":9},\"x\":{\"field\":\"x\"},\"y\":{\"field\":\"y\"}},\"id\":\"48541\",\"type\":\"Cross\"},{\"attributes\":{},\"id\":\"48518\",\"type\":\"WheelZoomTool\"},{\"attributes\":{},\"id\":\"48682\",\"type\":\"UnionRenderers\"},{\"attributes\":{\"source\":{\"id\":\"48530\",\"type\":\"ColumnDataSource\"}},\"id\":\"48534\",\"type\":\"CDSView\"},{\"attributes\":{},\"id\":\"48517\",\"type\":\"PanTool\"},{\"attributes\":{\"bottom_units\":\"screen\",\"fill_alpha\":{\"value\":0.5},\"fill_color\":{\"value\":\"lightgrey\"},\"left_units\":\"screen\",\"level\":\"overlay\",\"line_alpha\":{\"value\":1.0},\"line_color\":{\"value\":\"black\"},\"line_dash\":[4,4],\"line_width\":{\"value\":2},\"render_mode\":\"css\",\"right_units\":\"screen\",\"top_units\":\"screen\"},\"id\":\"48677\",\"type\":\"BoxAnnotation\"},{\"attributes\":{\"bottom_units\":\"screen\",\"fill_alpha\":{\"value\":0.5},\"fill_color\":{\"value\":\"lightgrey\"},\"left_units\":\"screen\",\"level\":\"overlay\",\"line_alpha\":{\"value\":1.0},\"line_color\":{\"value\":\"black\"},\"line_dash\":[4,4],\"line_width\":{\"value\":2},\"render_mode\":\"css\",\"right_units\":\"screen\",\"top_units\":\"screen\"},\"id\":\"48690\",\"type\":\"BoxAnnotation\"},{\"attributes\":{\"fill_alpha\":{\"value\":0.1},\"fill_color\":{\"value\":\"#1f77b4\"},\"line_alpha\":{\"value\":0.1},\"line_color\":{\"value\":\"#1f77b4\"},\"size\":{\"units\":\"screen\",\"value\":9},\"x\":{\"field\":\"x\"},\"y\":{\"field\":\"y\"}},\"id\":\"48532\",\"type\":\"Circle\"},{\"attributes\":{\"fill_color\":{\"value\":null},\"line_color\":{\"value\":\"#4b72b0\"},\"size\":{\"units\":\"screen\",\"value\":9},\"x\":{\"field\":\"x\"},\"y\":{\"field\":\"y\"}},\"id\":\"48531\",\"type\":\"Circle\"},{\"attributes\":{},\"id\":\"48675\",\"type\":\"UnionRenderers\"},{\"attributes\":{\"callback\":null,\"end\":1.6800000000000002},\"id\":\"48561\",\"type\":\"Range1d\"},{\"attributes\":{\"data_source\":{\"id\":\"48545\",\"type\":\"ColumnDataSource\"},\"glyph\":{\"id\":\"48546\",\"type\":\"Line\"},\"hover_glyph\":null,\"muted_glyph\":null,\"nonselection_glyph\":{\"id\":\"48547\",\"type\":\"Line\"},\"selection_glyph\":null,\"view\":{\"id\":\"48549\",\"type\":\"CDSView\"}},\"id\":\"48548\",\"type\":\"GlyphRenderer\"},{\"attributes\":{\"fill_alpha\":{\"value\":0.1},\"fill_color\":{\"value\":\"#1f77b4\"},\"line_alpha\":{\"value\":0.1},\"line_color\":{\"value\":\"#1f77b4\"},\"size\":{\"units\":\"screen\",\"value\":9},\"x\":{\"field\":\"x\"},\"y\":{\"field\":\"y\"}},\"id\":\"48542\",\"type\":\"Cross\"},{\"attributes\":{},\"id\":\"48670\",\"type\":\"Selection\"},{\"attributes\":{},\"id\":\"48508\",\"type\":\"BasicTicker\"},{\"attributes\":{\"callback\":null,\"data\":{\"x\":{\"__ndarray__\":\"AAAAAAAAAACamZmZmZm5P5qZmZmZmck/MzMzMzMz0z+amZmZmZnZPwAAAAAAAOA/MzMzMzMz4z9mZmZmZmbmP5qZmZmZmek/zczMzMzM7D8AAAAAAADwP5qZmZmZmfE/MzMzMzMz8z/NzMzMzMz0P2ZmZmZmZvY/AAAAAAAA+D+amZmZmZn5Pw==\",\"dtype\":\"float64\",\"shape\":[17]},\"y\":{\"__ndarray__\":\"AAAAAAAAAAAAAAAAAAAAAAAAAAAAAAAAAAAAAAAAAAAAAAAAAAAAAAAAAAAAAAAAAAAAAAAAAAAAAAAAAAAAAAAAAAAAAAAAAAAAAAAAAAD8qfHSTWJgP3jpJjEIrIw/exSuR+F6pD8K16NwPQrHPylcj8L1KOQ/MzMzMzMz8z/GSzeJQWDzPw==\",\"dtype\":\"float64\",\"shape\":[17]}},\"selected\":{\"id\":\"48674\",\"type\":\"Selection\"},\"selection_policy\":{\"id\":\"48673\",\"type\":\"UnionRenderers\"}},\"id\":\"48550\",\"type\":\"ColumnDataSource\"},{\"attributes\":{},\"id\":\"48522\",\"type\":\"HelpTool\"},{\"attributes\":{},\"id\":\"48671\",\"type\":\"UnionRenderers\"},{\"attributes\":{\"line_color\":\"#c34e52\",\"x\":{\"field\":\"x\"},\"y\":{\"field\":\"y\"}},\"id\":\"48546\",\"type\":\"Line\"},{\"attributes\":{},\"id\":\"48521\",\"type\":\"ResetTool\"},{\"attributes\":{},\"id\":\"48699\",\"type\":\"UnionRenderers\"},{\"attributes\":{\"callback\":null,\"data\":{\"x\":{\"__ndarray__\":\"AAAAAAAAAACamZmZmZm5P5qZmZmZmck/MzMzMzMz0z+amZmZmZnZPwAAAAAAAOA/MzMzMzMz4z9mZmZmZmbmP5qZmZmZmek/zczMzMzM7D8AAAAAAADwP5qZmZmZmfE/MzMzMzMz8z/NzMzMzMz0P2ZmZmZmZvY/AAAAAAAA+D+amZmZmZn5Pw==\",\"dtype\":\"float64\",\"shape\":[17]},\"y\":{\"__ndarray__\":\"AAAAAAAAAAAAAAAAAAAAAAAAAAAAAAAAAAAAAAAAAAAAAAAAAAAAAAAAAAAAAAAAAAAAAAAAAAAAAAAAAAAAAAAAAAAAAAAAAAAAAAAAAAD8qfHSTWJQP3jpJjEIrHw/exSuR+F6lD9aZDvfT423Py2yne+nxtM/MQisHFpk5z8UrkfhehT0Pw==\",\"dtype\":\"float64\",\"shape\":[17]}},\"selected\":{\"id\":\"48670\",\"type\":\"Selection\"},\"selection_policy\":{\"id\":\"48669\",\"type\":\"UnionRenderers\"}},\"id\":\"48540\",\"type\":\"ColumnDataSource\"},{\"attributes\":{},\"id\":\"48672\",\"type\":\"Selection\"},{\"attributes\":{\"callback\":null,\"data\":{\"x\":{\"__ndarray__\":\"AAAAAAAAAACamZmZmZm5P5qZmZmZmck/MzMzMzMz0z+amZmZmZnZPwAAAAAAAOA/MzMzMzMz4z9mZmZmZmbmP5qZmZmZmek/zczMzMzM7D8AAAAAAADwP5qZmZmZmfE/MzMzMzMz8z/NzMzMzMz0P2ZmZmZmZvY/AAAAAAAA+D+amZmZmZn5Pw==\",\"dtype\":\"float64\",\"shape\":[17]},\"y\":{\"__ndarray__\":\"AAAAAAAAAAAAAAAAAAAAAAAAAAAAAAAAAAAAAAAAAAAAAAAAAAAAAAAAAAAAAAAAAAAAAAAAAAAAAAAAAAAAAAAAAAAAAAAAAAAAAAAAAAD8qfHSTWJQP3jpJjEIrHw/Gy/dJAaBlT+yne+nxku3P39qvHSTGNQ/N4lBYOXQ5j8/NV66SQz0Pw==\",\"dtype\":\"float64\",\"shape\":[17]}},\"selected\":{\"id\":\"48666\",\"type\":\"Selection\"},\"selection_policy\":{\"id\":\"48665\",\"type\":\"UnionRenderers\"}},\"id\":\"48530\",\"type\":\"ColumnDataSource\"},{\"attributes\":{},\"id\":\"48694\",\"type\":\"Selection\"},{\"attributes\":{\"active_drag\":\"auto\",\"active_inspect\":\"auto\",\"active_multi\":null,\"active_scroll\":\"auto\",\"active_tap\":\"auto\",\"tools\":[{\"id\":\"48517\",\"type\":\"PanTool\"},{\"id\":\"48518\",\"type\":\"WheelZoomTool\"},{\"id\":\"48519\",\"type\":\"BoxZoomTool\"},{\"id\":\"48520\",\"type\":\"SaveTool\"},{\"id\":\"48521\",\"type\":\"ResetTool\"},{\"id\":\"48522\",\"type\":\"HelpTool\"}]},\"id\":\"48523\",\"type\":\"Toolbar\"},{\"attributes\":{\"source\":{\"id\":\"48555\",\"type\":\"ColumnDataSource\"}},\"id\":\"48559\",\"type\":\"CDSView\"},{\"attributes\":{\"line_alpha\":0.1,\"line_color\":\"#1f77b4\",\"x\":{\"field\":\"x\"},\"y\":{\"field\":\"y\"}},\"id\":\"48557\",\"type\":\"Line\"},{\"attributes\":{\"overlay\":{\"id\":\"48690\",\"type\":\"BoxAnnotation\"}},\"id\":\"48519\",\"type\":\"BoxZoomTool\"},{\"attributes\":{},\"id\":\"48700\",\"type\":\"Selection\"},{\"attributes\":{},\"id\":\"48695\",\"type\":\"UnionRenderers\"},{\"attributes\":{\"line_color\":\"#4b72b0\",\"x\":{\"field\":\"x\"},\"y\":{\"field\":\"y\"}},\"id\":\"48536\",\"type\":\"Line\"},{\"attributes\":{},\"id\":\"48688\",\"type\":\"UnionRenderers\"},{\"attributes\":{},\"id\":\"48692\",\"type\":\"Selection\"},{\"attributes\":{\"callback\":null,\"data\":{\"x\":{\"__ndarray__\":\"AAAAAAAAAACamZmZmZm5P5qZmZmZmck/MzMzMzMz0z+amZmZmZnZPwAAAAAAAOA/MzMzMzMz4z9mZmZmZmbmP5qZmZmZmek/zczMzMzM7D8AAAAAAADwP5qZmZmZmfE/MzMzMzMz8z/NzMzMzMz0P2ZmZmZmZvY/AAAAAAAA+D+amZmZmZn5Pw==\",\"dtype\":\"float64\",\"shape\":[17]},\"y\":{\"__ndarray__\":\"AAAAAAAAAAAAAAAAAAAAAAAAAAAAAAAAAAAAAAAAAAAAAAAAAAAAAAAAAAAAAAAAAAAAAAAAAAAAAAAAAAAAAAAAAAAAAAAAAAAAAAAAAAD8qfHSTWJQP3jpJjEIrHw/exSuR+F6lD9aZDvfT423Py2yne+nxtM/MQisHFpk5z8UrkfhehT0Pw==\",\"dtype\":\"float64\",\"shape\":[17]}},\"selected\":{\"id\":\"48672\",\"type\":\"Selection\"},\"selection_policy\":{\"id\":\"48671\",\"type\":\"UnionRenderers\"}},\"id\":\"48545\",\"type\":\"ColumnDataSource\"},{\"attributes\":{},\"id\":\"48685\",\"type\":\"Selection\"},{\"attributes\":{\"callback\":null,\"end\":1.6800000000000002},\"id\":\"48596\",\"type\":\"Range1d\"},{\"attributes\":{},\"id\":\"48669\",\"type\":\"UnionRenderers\"},{\"attributes\":{},\"id\":\"48691\",\"type\":\"UnionRenderers\"},{\"attributes\":{},\"id\":\"48696\",\"type\":\"Selection\"},{\"attributes\":{\"formatter\":{\"id\":\"48663\",\"type\":\"BasicTickFormatter\"},\"major_label_text_font_size\":{\"value\":\"13pt\"},\"ticker\":{\"id\":\"48513\",\"type\":\"BasicTicker\"}},\"id\":\"48512\",\"type\":\"LinearAxis\"},{\"attributes\":{},\"id\":\"48684\",\"type\":\"UnionRenderers\"},{\"attributes\":{\"dimension\":1,\"grid_line_color\":{\"value\":\"#ffffff\"},\"grid_line_width\":{\"value\":1.3},\"minor_grid_line_width\":{\"value\":0.5},\"ticker\":{\"id\":\"48513\",\"type\":\"BasicTicker\"}},\"id\":\"48516\",\"type\":\"Grid\"},{\"attributes\":{\"align\":\"center\",\"background_fill_color\":{\"value\":\"#8c8c8c\"},\"text\":\" Boost Level=0.5 \",\"text_color\":{\"value\":\"#ffffff\"},\"text_font_size\":{\"value\":\"16pt\"}},\"id\":\"48599\",\"type\":\"Title\"},{\"attributes\":{\"fill_alpha\":{\"value\":0.1},\"fill_color\":{\"value\":\"#1f77b4\"},\"line_alpha\":{\"value\":0.1},\"line_color\":{\"value\":\"#1f77b4\"},\"size\":{\"units\":\"screen\",\"value\":9},\"x\":{\"field\":\"x\"},\"y\":{\"field\":\"y\"}},\"id\":\"48552\",\"type\":\"Square\"},{\"attributes\":{\"source\":{\"id\":\"48540\",\"type\":\"ColumnDataSource\"}},\"id\":\"48544\",\"type\":\"CDSView\"},{\"attributes\":{\"data_source\":{\"id\":\"48550\",\"type\":\"ColumnDataSource\"},\"glyph\":{\"id\":\"48551\",\"type\":\"Square\"},\"hover_glyph\":null,\"muted_glyph\":null,\"nonselection_glyph\":{\"id\":\"48552\",\"type\":\"Square\"},\"selection_glyph\":null,\"view\":{\"id\":\"48554\",\"type\":\"CDSView\"}},\"id\":\"48553\",\"type\":\"GlyphRenderer\"},{\"attributes\":{},\"id\":\"48679\",\"type\":\"Selection\"},{\"attributes\":{},\"id\":\"48697\",\"type\":\"UnionRenderers\"},{\"attributes\":{},\"id\":\"48683\",\"type\":\"Selection\"},{\"attributes\":{},\"id\":\"48681\",\"type\":\"Selection\"},{\"attributes\":{},\"id\":\"48693\",\"type\":\"UnionRenderers\"},{\"attributes\":{\"axis_label\":\"Voltage\",\"axis_label_text_color\":{\"value\":\"#000000\"},\"axis_label_text_font\":\"sans-serif\",\"axis_label_text_font_size\":{\"value\":\"14pt\"},\"formatter\":{\"id\":\"48661\",\"type\":\"BasicTickFormatter\"},\"major_label_text_font_size\":{\"value\":\"13pt\"},\"ticker\":{\"id\":\"48508\",\"type\":\"BasicTicker\"}},\"id\":\"48507\",\"type\":\"LinearAxis\"},{\"attributes\":{},\"id\":\"48676\",\"type\":\"Selection\"},{\"attributes\":{},\"id\":\"48513\",\"type\":\"BasicTicker\"}],\"root_ids\":[\"48645\"]},\"title\":\"Bokeh Application\",\"version\":\"1.1.0\"}}\n",
       "        </script>\n",
       "        <script type=\"text/javascript\">\n",
       "          (function() {\n",
       "            var fn = function() {\n",
       "              Bokeh.safely(function() {\n",
       "                (function(root) {\n",
       "                  function embed_document(root) {\n",
       "                    \n",
       "                  var docs_json = document.getElementById('49177').textContent;\n",
       "                  var render_items = [{\"docid\":\"a236b987-b54f-45b8-930f-f811ba9df3dc\",\"roots\":{\"48645\":\"e71677bd-ce65-46f9-b004-d0c566590207\"}}];\n",
       "                  root.Bokeh.embed.embed_items(docs_json, render_items);\n",
       "                \n",
       "                  }\n",
       "                  if (root.Bokeh !== undefined) {\n",
       "                    embed_document(root);\n",
       "                  } else {\n",
       "                    var attempts = 0;\n",
       "                    var timer = setInterval(function(root) {\n",
       "                      if (root.Bokeh !== undefined) {\n",
       "                        embed_document(root);\n",
       "                        clearInterval(timer);\n",
       "                      }\n",
       "                      attempts++;\n",
       "                      if (attempts > 100) {\n",
       "                        console.log(\"Bokeh: ERROR: Unable to run BokehJS code because BokehJS library is missing\");\n",
       "                        clearInterval(timer);\n",
       "                      }\n",
       "                    }, 10, root)\n",
       "                  }\n",
       "                })(window);\n",
       "              });\n",
       "            };\n",
       "            if (document.readyState != \"loading\") fn();\n",
       "            else document.addEventListener(\"DOMContentLoaded\", fn);\n",
       "          })();\n",
       "        </script>\n",
       "    \n",
       "  </body>\n",
       "  \n",
       "</html>"
      ],
      "text/plain": [
       "<IPython.core.display.HTML object>"
      ]
     },
     "execution_count": 289,
     "metadata": {},
     "output_type": "execute_result"
    }
   ],
   "source": [
    "fcp.plot(df, x='Voltage', y='I [A]', legend='Die', col='Boost Level', show=SHOW, ax_size=[225, 225], \n",
    "         filter='Substrate==\"Si\" & Target Wavelength==450 & Temperature [C]==25')"
   ]
  },
  {
   "cell_type": "markdown",
   "metadata": {},
   "source": [
    "### Row x column grid"
   ]
  },
  {
   "cell_type": "markdown",
   "metadata": {},
   "source": [
    "Remove \"Temperature [C]\" from the DataFrame subset and make a grid of plots for each unique combination of \"row\" and \"col\" values.  Both \"row\" and \"col\" labels are included."
   ]
  },
  {
   "cell_type": "code",
   "execution_count": 203,
   "metadata": {},
   "outputs": [
    {
     "name": "stdout",
     "output_type": "stream",
     "text": [
      "> c:\\github\\fivecentplots\\fivecentplots\\engines\\bokeh.py(320)save()\n",
      "-> self.saved = bl.gridplot(self.axes.obj.tolist(), ncols=self.ncol)\n",
      "(Pdb) self.axes.obj.tolist()\n",
      "[[Figure(id='9981', ...), Figure(id='10013', ...), Figure(id='10045', ...)], [Figure(id='10077', ...), Figure(id='10109', ...), Figure(id='10141', ...)]]\n",
      "(Pdb) q\n"
     ]
    },
    {
     "ename": "BdbQuit",
     "evalue": "",
     "output_type": "error",
     "traceback": [
      "\u001b[1;31m---------------------------------------------------------------------------\u001b[0m",
      "\u001b[1;31mBdbQuit\u001b[0m                                   Traceback (most recent call last)",
      "\u001b[1;32m<ipython-input-203-65546c125aa6>\u001b[0m in \u001b[0;36m<module>\u001b[1;34m()\u001b[0m\n\u001b[0;32m      1\u001b[0m fcp.plot(df, x='Voltage', y='I [A]', legend='Die', col='Boost Level', row='Temperature [C]', show=SHOW, \n\u001b[1;32m----> 2\u001b[1;33m          ax_size=[225, 225], filter='Substrate==\"Si\" & Target Wavelength==450', label_rc_font_size=13)\n\u001b[0m",
      "\u001b[1;32mC:\\GitHub\\fivecentplots\\fivecentplots\\fcp.py\u001b[0m in \u001b[0;36mplot\u001b[1;34m(*args, **kwargs)\u001b[0m\n\u001b[0;32m    225\u001b[0m     \"\"\"\n\u001b[0;32m    226\u001b[0m \u001b[1;33m\u001b[0m\u001b[0m\n\u001b[1;32m--> 227\u001b[1;33m     \u001b[1;32mreturn\u001b[0m \u001b[0mplotter\u001b[0m\u001b[1;33m(\u001b[0m\u001b[1;34m'plot_xy'\u001b[0m\u001b[1;33m,\u001b[0m \u001b[1;33m**\u001b[0m\u001b[0mdfkwarg\u001b[0m\u001b[1;33m(\u001b[0m\u001b[0margs\u001b[0m\u001b[1;33m,\u001b[0m \u001b[0mkwargs\u001b[0m\u001b[1;33m)\u001b[0m\u001b[1;33m)\u001b[0m\u001b[1;33m\u001b[0m\u001b[0m\n\u001b[0m\u001b[0;32m    228\u001b[0m \u001b[1;33m\u001b[0m\u001b[0m\n\u001b[0;32m    229\u001b[0m \u001b[1;33m\u001b[0m\u001b[0m\n",
      "\u001b[1;32mC:\\GitHub\\fivecentplots\\fivecentplots\\fcp.py\u001b[0m in \u001b[0;36mplotter\u001b[1;34m(plot_func, **kwargs)\u001b[0m\n\u001b[0;32m    744\u001b[0m             \u001b[1;32melse\u001b[0m\u001b[1;33m:\u001b[0m\u001b[1;33m\u001b[0m\u001b[0m\n\u001b[0;32m    745\u001b[0m                 \u001b[0midx\u001b[0m \u001b[1;33m=\u001b[0m \u001b[1;36m0\u001b[0m\u001b[1;33m\u001b[0m\u001b[0m\n\u001b[1;32m--> 746\u001b[1;33m             \u001b[0mlayout\u001b[0m\u001b[1;33m.\u001b[0m\u001b[0msave\u001b[0m\u001b[1;33m(\u001b[0m\u001b[0mfilename\u001b[0m\u001b[1;33m,\u001b[0m \u001b[0midx\u001b[0m\u001b[1;33m)\u001b[0m\u001b[1;33m\u001b[0m\u001b[0m\n\u001b[0m\u001b[0;32m    747\u001b[0m \u001b[1;33m\u001b[0m\u001b[0m\n\u001b[0;32m    748\u001b[0m             \u001b[1;32mif\u001b[0m \u001b[0mkwargs\u001b[0m\u001b[1;33m.\u001b[0m\u001b[0mget\u001b[0m\u001b[1;33m(\u001b[0m\u001b[1;34m'show'\u001b[0m\u001b[1;33m,\u001b[0m \u001b[1;32mFalse\u001b[0m\u001b[1;33m)\u001b[0m\u001b[1;33m:\u001b[0m\u001b[1;33m\u001b[0m\u001b[0m\n",
      "\u001b[1;32mC:\\GitHub\\fivecentplots\\fivecentplots\\engines\\bokeh.py\u001b[0m in \u001b[0;36msave\u001b[1;34m(self, filename, idx)\u001b[0m\n\u001b[0;32m    318\u001b[0m         \u001b[0mbp\u001b[0m\u001b[1;33m.\u001b[0m\u001b[0moutput_file\u001b[0m\u001b[1;33m(\u001b[0m\u001b[0mfilename\u001b[0m\u001b[1;33m)\u001b[0m\u001b[1;33m\u001b[0m\u001b[0m\n\u001b[0;32m    319\u001b[0m         \u001b[0mst\u001b[0m\u001b[1;33m(\u001b[0m\u001b[1;33m)\u001b[0m\u001b[1;33m\u001b[0m\u001b[0m\n\u001b[1;32m--> 320\u001b[1;33m         \u001b[0mself\u001b[0m\u001b[1;33m.\u001b[0m\u001b[0msaved\u001b[0m \u001b[1;33m=\u001b[0m \u001b[0mbl\u001b[0m\u001b[1;33m.\u001b[0m\u001b[0mgridplot\u001b[0m\u001b[1;33m(\u001b[0m\u001b[0mself\u001b[0m\u001b[1;33m.\u001b[0m\u001b[0maxes\u001b[0m\u001b[1;33m.\u001b[0m\u001b[0mobj\u001b[0m\u001b[1;33m.\u001b[0m\u001b[0mtolist\u001b[0m\u001b[1;33m(\u001b[0m\u001b[1;33m)\u001b[0m\u001b[1;33m,\u001b[0m \u001b[0mncols\u001b[0m\u001b[1;33m=\u001b[0m\u001b[0mself\u001b[0m\u001b[1;33m.\u001b[0m\u001b[0mncol\u001b[0m\u001b[1;33m)\u001b[0m\u001b[1;33m\u001b[0m\u001b[0m\n\u001b[0m\u001b[0;32m    321\u001b[0m         \u001b[0mbp\u001b[0m\u001b[1;33m.\u001b[0m\u001b[0msave\u001b[0m\u001b[1;33m(\u001b[0m\u001b[0mself\u001b[0m\u001b[1;33m.\u001b[0m\u001b[0msaved\u001b[0m\u001b[1;33m)\u001b[0m\u001b[1;33m\u001b[0m\u001b[0m\n\u001b[0;32m    322\u001b[0m \u001b[1;33m\u001b[0m\u001b[0m\n",
      "\u001b[1;32mC:\\GitHub\\fivecentplots\\fivecentplots\\engines\\bokeh.py\u001b[0m in \u001b[0;36msave\u001b[1;34m(self, filename, idx)\u001b[0m\n\u001b[0;32m    318\u001b[0m         \u001b[0mbp\u001b[0m\u001b[1;33m.\u001b[0m\u001b[0moutput_file\u001b[0m\u001b[1;33m(\u001b[0m\u001b[0mfilename\u001b[0m\u001b[1;33m)\u001b[0m\u001b[1;33m\u001b[0m\u001b[0m\n\u001b[0;32m    319\u001b[0m         \u001b[0mst\u001b[0m\u001b[1;33m(\u001b[0m\u001b[1;33m)\u001b[0m\u001b[1;33m\u001b[0m\u001b[0m\n\u001b[1;32m--> 320\u001b[1;33m         \u001b[0mself\u001b[0m\u001b[1;33m.\u001b[0m\u001b[0msaved\u001b[0m \u001b[1;33m=\u001b[0m \u001b[0mbl\u001b[0m\u001b[1;33m.\u001b[0m\u001b[0mgridplot\u001b[0m\u001b[1;33m(\u001b[0m\u001b[0mself\u001b[0m\u001b[1;33m.\u001b[0m\u001b[0maxes\u001b[0m\u001b[1;33m.\u001b[0m\u001b[0mobj\u001b[0m\u001b[1;33m.\u001b[0m\u001b[0mtolist\u001b[0m\u001b[1;33m(\u001b[0m\u001b[1;33m)\u001b[0m\u001b[1;33m,\u001b[0m \u001b[0mncols\u001b[0m\u001b[1;33m=\u001b[0m\u001b[0mself\u001b[0m\u001b[1;33m.\u001b[0m\u001b[0mncol\u001b[0m\u001b[1;33m)\u001b[0m\u001b[1;33m\u001b[0m\u001b[0m\n\u001b[0m\u001b[0;32m    321\u001b[0m         \u001b[0mbp\u001b[0m\u001b[1;33m.\u001b[0m\u001b[0msave\u001b[0m\u001b[1;33m(\u001b[0m\u001b[0mself\u001b[0m\u001b[1;33m.\u001b[0m\u001b[0msaved\u001b[0m\u001b[1;33m)\u001b[0m\u001b[1;33m\u001b[0m\u001b[0m\n\u001b[0;32m    322\u001b[0m \u001b[1;33m\u001b[0m\u001b[0m\n",
      "\u001b[1;32mC:\\Miniconda3\\envs\\work36b\\lib\\bdb.py\u001b[0m in \u001b[0;36mtrace_dispatch\u001b[1;34m(self, frame, event, arg)\u001b[0m\n\u001b[0;32m     46\u001b[0m             \u001b[1;32mreturn\u001b[0m \u001b[1;31m# None\u001b[0m\u001b[1;33m\u001b[0m\u001b[0m\n\u001b[0;32m     47\u001b[0m         \u001b[1;32mif\u001b[0m \u001b[0mevent\u001b[0m \u001b[1;33m==\u001b[0m \u001b[1;34m'line'\u001b[0m\u001b[1;33m:\u001b[0m\u001b[1;33m\u001b[0m\u001b[0m\n\u001b[1;32m---> 48\u001b[1;33m             \u001b[1;32mreturn\u001b[0m \u001b[0mself\u001b[0m\u001b[1;33m.\u001b[0m\u001b[0mdispatch_line\u001b[0m\u001b[1;33m(\u001b[0m\u001b[0mframe\u001b[0m\u001b[1;33m)\u001b[0m\u001b[1;33m\u001b[0m\u001b[0m\n\u001b[0m\u001b[0;32m     49\u001b[0m         \u001b[1;32mif\u001b[0m \u001b[0mevent\u001b[0m \u001b[1;33m==\u001b[0m \u001b[1;34m'call'\u001b[0m\u001b[1;33m:\u001b[0m\u001b[1;33m\u001b[0m\u001b[0m\n\u001b[0;32m     50\u001b[0m             \u001b[1;32mreturn\u001b[0m \u001b[0mself\u001b[0m\u001b[1;33m.\u001b[0m\u001b[0mdispatch_call\u001b[0m\u001b[1;33m(\u001b[0m\u001b[0mframe\u001b[0m\u001b[1;33m,\u001b[0m \u001b[0marg\u001b[0m\u001b[1;33m)\u001b[0m\u001b[1;33m\u001b[0m\u001b[0m\n",
      "\u001b[1;32mC:\\Miniconda3\\envs\\work36b\\lib\\bdb.py\u001b[0m in \u001b[0;36mdispatch_line\u001b[1;34m(self, frame)\u001b[0m\n\u001b[0;32m     65\u001b[0m         \u001b[1;32mif\u001b[0m \u001b[0mself\u001b[0m\u001b[1;33m.\u001b[0m\u001b[0mstop_here\u001b[0m\u001b[1;33m(\u001b[0m\u001b[0mframe\u001b[0m\u001b[1;33m)\u001b[0m \u001b[1;32mor\u001b[0m \u001b[0mself\u001b[0m\u001b[1;33m.\u001b[0m\u001b[0mbreak_here\u001b[0m\u001b[1;33m(\u001b[0m\u001b[0mframe\u001b[0m\u001b[1;33m)\u001b[0m\u001b[1;33m:\u001b[0m\u001b[1;33m\u001b[0m\u001b[0m\n\u001b[0;32m     66\u001b[0m             \u001b[0mself\u001b[0m\u001b[1;33m.\u001b[0m\u001b[0muser_line\u001b[0m\u001b[1;33m(\u001b[0m\u001b[0mframe\u001b[0m\u001b[1;33m)\u001b[0m\u001b[1;33m\u001b[0m\u001b[0m\n\u001b[1;32m---> 67\u001b[1;33m             \u001b[1;32mif\u001b[0m \u001b[0mself\u001b[0m\u001b[1;33m.\u001b[0m\u001b[0mquitting\u001b[0m\u001b[1;33m:\u001b[0m \u001b[1;32mraise\u001b[0m \u001b[0mBdbQuit\u001b[0m\u001b[1;33m\u001b[0m\u001b[0m\n\u001b[0m\u001b[0;32m     68\u001b[0m         \u001b[1;32mreturn\u001b[0m \u001b[0mself\u001b[0m\u001b[1;33m.\u001b[0m\u001b[0mtrace_dispatch\u001b[0m\u001b[1;33m\u001b[0m\u001b[0m\n\u001b[0;32m     69\u001b[0m \u001b[1;33m\u001b[0m\u001b[0m\n",
      "\u001b[1;31mBdbQuit\u001b[0m: "
     ]
    }
   ],
   "source": [
    "fcp.plot(df, x='Voltage', y='I [A]', legend='Die', col='Boost Level', row='Temperature [C]', show=SHOW, \n",
    "         ax_size=[225, 225], filter='Substrate==\"Si\" & Target Wavelength==450', label_rc_font_size=13)"
   ]
  },
  {
   "cell_type": "markdown",
   "metadata": {},
   "source": [
    "### Wrap plot"
   ]
  },
  {
   "cell_type": "markdown",
   "metadata": {},
   "source": [
    "A wrap plot is an alternate view of the row x column plot.  For wrap plots, the row and column labels are condensed into a  single label above each plot window and the spacing between plots is eliminated (by default; can be overriden).  The x and y sizes of the grid are determined by the square root of the total number of plot windows.  x and y axes ranges are shared."
   ]
  },
  {
   "cell_type": "code",
   "execution_count": null,
   "metadata": {},
   "outputs": [],
   "source": [
    "fcp.plot(df, x='Voltage', y='I [A]', legend='Die', wrap=['Temperature [C]', 'Boost Level'], show=SHOW, \n",
    "         ax_size=[225, 225], filter='Substrate==\"Si\" & Target Wavelength==450', label_rc_font_size=13)"
   ]
  },
  {
   "cell_type": "markdown",
   "metadata": {},
   "source": [
    "## Other options"
   ]
  },
  {
   "cell_type": "markdown",
   "metadata": {},
   "source": [
    "### Horizontal and vertical lines"
   ]
  },
  {
   "cell_type": "markdown",
   "metadata": {},
   "source": [
    "We can add horizontal and vertical reference lines to a plot using one or more of the following keywords: `ax_hlines`, `ax_vlines`, `ax2_hlines`, `ax2_vlines` where \"hlines\" are horizontal, \"vlines\" are vertical, \"ax\" lines are applied to the primary axis, and \"ax2\" lines are applied to a secondary axis, if it exists.  The value of these keywords is:\n",
    "\n",
    "* a single float number\n",
    "\n",
    "* a list of float numbers\n",
    "\n",
    "* or a variable-length list of tuples (only first value is required):\n",
    "    \n",
    "    * item 1 (required) = x or y axis value of the line or the name of a DataFrame column from which the first entry in the column will be used\n",
    "    \n",
    "    * item 2: line color\n",
    "    \n",
    "    * item 3: line style\n",
    "    \n",
    "    * item 4: line width\n",
    "    \n",
    "    * item 5: line alpha\n",
    "    \n",
    "    * item 6: legend text (won't appear in legend without this unless item 1 is a name of a DataFrame column)\n",
    "    "
   ]
  },
  {
   "cell_type": "markdown",
   "metadata": {},
   "source": [
    "Explicitly defined horizontal and vertical lines:"
   ]
  },
  {
   "cell_type": "code",
   "execution_count": null,
   "metadata": {},
   "outputs": [],
   "source": [
    "fcp.plot(df, x='Voltage', y='I [A]', title='IV Data', lines=False, show=SHOW, legend=True,\n",
    "         filter='Substrate==\"Si\" & Target Wavelength==450 & Boost Level==0.2 & Temperature [C]==25',\n",
    "         ax_hlines=[(0, '#FF0000', '--', 3, 1, 'Open'), 1.2], ax_vlines=[0, (1, '#00FF00')])"
   ]
  },
  {
   "cell_type": "markdown",
   "metadata": {},
   "source": [
    "Horizontal line using the first value of a `DataFrame` column:"
   ]
  },
  {
   "cell_type": "code",
   "execution_count": null,
   "metadata": {},
   "outputs": [],
   "source": [
    "df['Open'] = 0\n",
    "fcp.plot(df, x='Voltage', y='I [A]', title='IV Data', lines=False, show=SHOW, legend=True,\n",
    "         filter='Substrate==\"Si\" & Target Wavelength==450 & Boost Level==0.2 & Temperature [C]==25',\n",
    "         ax_hlines=[('Open', '#FF0000', '--', 3, 1), 1.2], ax_vlines=[0, (1, '#00FF00')])"
   ]
  },
  {
   "cell_type": "markdown",
   "metadata": {},
   "source": [
    "### Curve fitting"
   ]
  },
  {
   "cell_type": "markdown",
   "metadata": {},
   "source": [
    "We can add a polynomial line of fit of some degree to the plot with the keyword `fit` with an option to display the fit equation and R^2 value:"
   ]
  },
  {
   "cell_type": "code",
   "execution_count": null,
   "metadata": {},
   "outputs": [],
   "source": [
    "fcp.plot(df, x='Voltage', y='I [A]', title='IV Data', lines=False, show=SHOW, \n",
    "         filter='Substrate==\"Si\" & Target Wavelength==450 & Boost Level==0.2 & Temperature [C]==25',\n",
    "         fit=4, fit_eqn=True, fit_rsq=True, fit_font_size=9)"
   ]
  },
  {
   "cell_type": "markdown",
   "metadata": {},
   "source": [
    "We can disable the legend using `legend=False`:"
   ]
  },
  {
   "cell_type": "code",
   "execution_count": null,
   "metadata": {},
   "outputs": [],
   "source": [
    "fcp.plot(df, x='Voltage', y='I [A]', title='IV Data', lines=False, show=SHOW, \n",
    "         filter='Substrate==\"Si\" & Target Wavelength==450 & Boost Level==0.2 & Temperature [C]==25',\n",
    "         fit=4, fit_eqn=True, fit_rsq=True, fit_font_size=9, legend=False)"
   ]
  },
  {
   "cell_type": "markdown",
   "metadata": {},
   "source": [
    "We can also constrain the region of interest for the fit by supplying a start and stop value to either the `fit_range_x` or `fit_range_y` keywords:"
   ]
  },
  {
   "cell_type": "code",
   "execution_count": null,
   "metadata": {},
   "outputs": [],
   "source": [
    "fcp.plot(df, x='Voltage', y='I [A]', title='IV Data', lines=False, show=SHOW, \n",
    "         filter='Substrate==\"Si\" & Target Wavelength==450 & Boost Level==0.2 & Temperature [C]==25',\n",
    "         fit=1, fit_eqn=True, fit_rsq=True, fit_font_size=9, fit_range_x=[1.3, 2])"
   ]
  },
  {
   "cell_type": "markdown",
   "metadata": {},
   "source": [
    "We can also add a line of fit for each item in a legend:"
   ]
  },
  {
   "cell_type": "code",
   "execution_count": null,
   "metadata": {},
   "outputs": [],
   "source": [
    "fcp.plot(df, x='Voltage', y='I [A]', title='IV Data', lines=False, show=SHOW, legend='Die', \n",
    "         filter='Substrate==\"Si\" & Target Wavelength==450 & Boost Level==0.2 & Temperature [C]==25',\n",
    "         fit=1, fit_range_x=[1.3, 2], fit_width=2, fit_style='--')"
   ]
  },
  {
   "cell_type": "markdown",
   "metadata": {},
   "source": [
    "If we legend and group by the same value and select a single color for the fit line, the legend will collapse to show only one instance of \"Fit\":"
   ]
  },
  {
   "cell_type": "code",
   "execution_count": null,
   "metadata": {},
   "outputs": [],
   "source": [
    "fcp.plot(df, x='Voltage', y='I [A]', title='IV Data', lines=False, show=SHOW, wrap='Die', legend='Die', \n",
    "         filter='Substrate==\"Si\" & Target Wavelength==450 & Boost Level==0.2 & Temperature [C]==25',\n",
    "         fit=1, fit_range_x=[1.3, 2], fit_width=2, fit_color='#555555', ax_size=[250, 250])"
   ]
  },
  {
   "cell_type": "markdown",
   "metadata": {},
   "source": [
    "### Stat lines"
   ]
  },
  {
   "cell_type": "markdown",
   "metadata": {},
   "source": [
    "Rather than drawing connecting lines between all points, you can draw a line through a representative statistic of the data, such as the \"median\" value of the points, using the `stat` keyword (any stats that can be applied to a pandas `groupby` object can be used).  For cases where the x-values are not identical for all data sets, use the keyword `stat_val` and specify an alternative x-axis to use for the statistical calculation (the actual plotted x-axis will be whatever is specified for the `x` keyword).\n",
    "\n",
    "First consider a plot of Voltage vs I [A].  Because the actual measured current values vary from the current set point value from measurement to measurement, the x-values for each data set are not identical.  The `stat` line thus computes the median value for each x value where there may only be a single data point.  The result is ugly and useful."
   ]
  },
  {
   "cell_type": "code",
   "execution_count": null,
   "metadata": {},
   "outputs": [],
   "source": [
    "fcp.plot(df, x='I [A]', y='Voltage', title='IV Data', lines=False, show=SHOW, \n",
    "         filter='Substrate==\"Si\" & Target Wavelength==450 & Boost Level==0.2 & Temperature [C]==25',\n",
    "         stat='median')"
   ]
  },
  {
   "cell_type": "markdown",
   "metadata": {},
   "source": [
    "Instead, add the column name for the column containing the set point value of I [A] to the keyword `stat_val`:"
   ]
  },
  {
   "cell_type": "code",
   "execution_count": null,
   "metadata": {},
   "outputs": [],
   "source": [
    "fcp.plot(df, x='I [A]', y='Voltage', title='IV Data', lines=False, show=SHOW, \n",
    "         filter='Substrate==\"Si\" & Target Wavelength==450 & Boost Level==0.2 & Temperature [C]==25',\n",
    "         stat='median', stat_val='I Set')"
   ]
  },
  {
   "cell_type": "markdown",
   "metadata": {},
   "source": [
    "Stat lines also work with multiple DataFrame columns are plotted on a given axis.  For example, consider the following with two values on the y-axis:"
   ]
  },
  {
   "cell_type": "code",
   "execution_count": null,
   "metadata": {},
   "outputs": [],
   "source": [
    "fcp.plot(df, x='Voltage', y=['Boost Level', 'I [A]'], show=SHOW, legend=True, stat='median', \n",
    "         filter='Substrate==\"Si\" & Target Wavelength==450 & Boost Level==0.2 & Temperature [C]==25')"
   ]
  },
  {
   "cell_type": "markdown",
   "metadata": {},
   "source": [
    "### Confidence intervals"
   ]
  },
  {
   "cell_type": "markdown",
   "metadata": {},
   "source": [
    "It is possible to display confidence intervals on a data set.  By default these are shown as partially transparent filled regions around a curve.  The actual confidence interval to display is set by the `conf_int` keyword.  Allowed values are any interval between 0 and 1 or the special value `range` which plots a region from the min to the max value of the data at a given point. The example below shows a 95% confidence interval:"
   ]
  },
  {
   "cell_type": "code",
   "execution_count": null,
   "metadata": {},
   "outputs": [],
   "source": [
    "fcp.plot(df, x='Voltage', y='I [A]', title='IV Data', lines=False, show=SHOW, \n",
    "         filter='Substrate==\"Si\" & Target Wavelength==450 & Boost Level==0.2 & Temperature [C]==25',\n",
    "         conf_int=0.95)"
   ]
  },
  {
   "cell_type": "markdown",
   "metadata": {},
   "source": [
    "### Reference line"
   ]
  },
  {
   "cell_type": "markdown",
   "metadata": {},
   "source": [
    "We can add a reference line to the plot using the keyword `ref_line`.  The value of this keyword is: (1) an equation applied to an existing DataFrame column; or (2) a simple int or float.  This value is used to create a new column in the DataFrame that is plotted vs the value of `x`"
   ]
  },
  {
   "cell_type": "markdown",
   "metadata": {},
   "source": [
    "#### y=x reference"
   ]
  },
  {
   "cell_type": "code",
   "execution_count": null,
   "metadata": {},
   "outputs": [],
   "source": [
    "fcp.plot(df, x='Voltage', y='I [A]', title='IV Data', show=SHOW, legend='Die', \n",
    "         filter='Substrate==\"Si\" & Target Wavelength==450 & Boost Level==0.2 & Temperature [C]==25',\n",
    "         ref_line=df['Voltage'], ref_line_legend_text='y=x', xmin=0, ymin=0, xmax=1.6, ymax=1.6)"
   ]
  },
  {
   "cell_type": "markdown",
   "metadata": {},
   "source": [
    "We can also add multiple reference lines to a single plot:"
   ]
  },
  {
   "cell_type": "code",
   "execution_count": null,
   "metadata": {},
   "outputs": [],
   "source": [
    "df['2*Voltage'] = 2*df['Voltage']\n",
    "fcp.plot(df, x='Voltage', y='I [A]', title='IV Data', show=SHOW, legend='Die', \n",
    "         filter='Substrate==\"Si\" & Target Wavelength==450 & Boost Level==0.2 & Temperature [C]==25',\n",
    "         xmin=0, ymin=0, xmax=1.6, ymax=1.6, \n",
    "         ref_line=['Voltage', '2*Voltage'], ref_line_legend_text=['y=x', 'y=2*x'], ref_line_style=['-', '--'], ref_line_color=[5,6])"
   ]
  },
  {
   "cell_type": "markdown",
   "metadata": {},
   "source": [
    "#### More complex calculation"
   ]
  },
  {
   "cell_type": "markdown",
   "metadata": {},
   "source": [
    "Now let's use the fit equation calculated above and add the fit line as a reference line (notice that because we are not specifying an exisiting column in the DataFrame as the `ref_line` and we are not specifying `ref_line_legend_text`, the legend defaults to a generic label \"Ref Line\"): "
   ]
  },
  {
   "cell_type": "code",
   "execution_count": null,
   "metadata": {},
   "outputs": [],
   "source": [
    "fcp.plot(df, x='Voltage', y='I [A]', title='IV Data', show=SHOW, legend='Die',\n",
    "         filter='Substrate==\"Si\" & Target Wavelength==450 & Boost Level==0.2 & Temperature [C]==25',\n",
    "         ref_line=1.555*df['Voltage']**4-3.451*df['Voltage']**3+2.347*df['Voltage']**2-0.496*df['Voltage']+0.014)"
   ]
  },
  {
   "cell_type": "code",
   "execution_count": null,
   "metadata": {},
   "outputs": [],
   "source": []
  }
 ],
 "metadata": {
  "kernelspec": {
   "display_name": "Python 3",
   "language": "python",
   "name": "python3"
  },
  "language_info": {
   "codemirror_mode": {
    "name": "ipython",
    "version": 3
   },
   "file_extension": ".py",
   "mimetype": "text/x-python",
   "name": "python",
   "nbconvert_exporter": "python",
   "pygments_lexer": "ipython3",
   "version": "3.6.4"
  },
  "toc": {
   "nav_menu": {},
   "number_sections": true,
   "sideBar": true,
   "skip_h1_title": true,
   "toc_cell": false,
   "toc_position": {
    "height": "663px",
    "left": "0px",
    "right": "1161px",
    "top": "119px",
    "width": "212px"
   },
   "toc_section_display": "block",
   "toc_window_display": true
  }
 },
 "nbformat": 4,
 "nbformat_minor": 1
}
